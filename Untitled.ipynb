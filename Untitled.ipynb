{
 "cells": [
  {
   "cell_type": "code",
   "execution_count": 1,
   "metadata": {},
   "outputs": [
    {
     "ename": "AttributeError",
     "evalue": "module 'pandas' has no attribute 'read'",
     "output_type": "error",
     "traceback": [
      "\u001b[1;31m---------------------------------------------------------------------------\u001b[0m",
      "\u001b[1;31mAttributeError\u001b[0m                            Traceback (most recent call last)",
      "\u001b[1;32m<ipython-input-1-c54dd7eddb26>\u001b[0m in \u001b[0;36m<module>\u001b[1;34m\u001b[0m\n\u001b[0;32m      1\u001b[0m \u001b[1;32mimport\u001b[0m \u001b[0mpandas\u001b[0m \u001b[1;32mas\u001b[0m \u001b[0mpd\u001b[0m\u001b[1;33m\u001b[0m\u001b[1;33m\u001b[0m\u001b[0m\n\u001b[1;32m----> 2\u001b[1;33m \u001b[0mdf\u001b[0m\u001b[1;33m=\u001b[0m \u001b[0mpd\u001b[0m\u001b[1;33m.\u001b[0m\u001b[0mread\u001b[0m\u001b[1;33m.\u001b[0m\u001b[0mxlsx\u001b[0m\u001b[1;33m(\u001b[0m\u001b[1;34m\"2_Master Outlet MARKETING.xlsx\"\u001b[0m\u001b[1;33m)\u001b[0m\u001b[1;33m\u001b[0m\u001b[1;33m\u001b[0m\u001b[0m\n\u001b[0m\u001b[0;32m      3\u001b[0m \u001b[0mdf\u001b[0m\u001b[1;33m\u001b[0m\u001b[1;33m\u001b[0m\u001b[0m\n",
      "\u001b[1;32mC:\\ProgramData\\Anaconda3\\lib\\site-packages\\pandas\\__init__.py\u001b[0m in \u001b[0;36m__getattr__\u001b[1;34m(name)\u001b[0m\n\u001b[0;32m    212\u001b[0m \u001b[1;33m\u001b[0m\u001b[0m\n\u001b[0;32m    213\u001b[0m             \u001b[1;32mreturn\u001b[0m \u001b[0mPanel\u001b[0m\u001b[1;33m\u001b[0m\u001b[1;33m\u001b[0m\u001b[0m\n\u001b[1;32m--> 214\u001b[1;33m         \u001b[1;32mraise\u001b[0m \u001b[0mAttributeError\u001b[0m\u001b[1;33m(\u001b[0m\u001b[1;34m\"module 'pandas' has no attribute '{}'\"\u001b[0m\u001b[1;33m.\u001b[0m\u001b[0mformat\u001b[0m\u001b[1;33m(\u001b[0m\u001b[0mname\u001b[0m\u001b[1;33m)\u001b[0m\u001b[1;33m)\u001b[0m\u001b[1;33m\u001b[0m\u001b[1;33m\u001b[0m\u001b[0m\n\u001b[0m\u001b[0;32m    215\u001b[0m \u001b[1;33m\u001b[0m\u001b[0m\n\u001b[0;32m    216\u001b[0m \u001b[1;33m\u001b[0m\u001b[0m\n",
      "\u001b[1;31mAttributeError\u001b[0m: module 'pandas' has no attribute 'read'"
     ]
    }
   ],
   "source": [
    "import pandas as pd\n",
    "df= pd.read.xlsx(\"2_Master Outlet MARKETING.xlsx\")\n",
    "df"
   ]
  },
  {
   "cell_type": "code",
   "execution_count": 2,
   "metadata": {},
   "outputs": [
    {
     "ename": "AttributeError",
     "evalue": "module 'pandas' has no attribute 'read'",
     "output_type": "error",
     "traceback": [
      "\u001b[1;31m---------------------------------------------------------------------------\u001b[0m",
      "\u001b[1;31mAttributeError\u001b[0m                            Traceback (most recent call last)",
      "\u001b[1;32m<ipython-input-2-0e6219c6c930>\u001b[0m in \u001b[0;36m<module>\u001b[1;34m\u001b[0m\n\u001b[0;32m      1\u001b[0m \u001b[1;32mimport\u001b[0m \u001b[0mpandas\u001b[0m \u001b[1;32mas\u001b[0m \u001b[0mpd\u001b[0m\u001b[1;33m\u001b[0m\u001b[1;33m\u001b[0m\u001b[0m\n\u001b[1;32m----> 2\u001b[1;33m \u001b[0mdf\u001b[0m\u001b[1;33m=\u001b[0m \u001b[0mpd\u001b[0m\u001b[1;33m.\u001b[0m\u001b[0mread\u001b[0m\u001b[1;33m.\u001b[0m\u001b[0mcsv\u001b[0m\u001b[1;33m(\u001b[0m\u001b[1;34m\"2_Master Outlet MARKETING.csv\"\u001b[0m\u001b[1;33m)\u001b[0m\u001b[1;33m\u001b[0m\u001b[1;33m\u001b[0m\u001b[0m\n\u001b[0m\u001b[0;32m      3\u001b[0m \u001b[0mdf\u001b[0m\u001b[1;33m\u001b[0m\u001b[1;33m\u001b[0m\u001b[0m\n",
      "\u001b[1;32mC:\\ProgramData\\Anaconda3\\lib\\site-packages\\pandas\\__init__.py\u001b[0m in \u001b[0;36m__getattr__\u001b[1;34m(name)\u001b[0m\n\u001b[0;32m    212\u001b[0m \u001b[1;33m\u001b[0m\u001b[0m\n\u001b[0;32m    213\u001b[0m             \u001b[1;32mreturn\u001b[0m \u001b[0mPanel\u001b[0m\u001b[1;33m\u001b[0m\u001b[1;33m\u001b[0m\u001b[0m\n\u001b[1;32m--> 214\u001b[1;33m         \u001b[1;32mraise\u001b[0m \u001b[0mAttributeError\u001b[0m\u001b[1;33m(\u001b[0m\u001b[1;34m\"module 'pandas' has no attribute '{}'\"\u001b[0m\u001b[1;33m.\u001b[0m\u001b[0mformat\u001b[0m\u001b[1;33m(\u001b[0m\u001b[0mname\u001b[0m\u001b[1;33m)\u001b[0m\u001b[1;33m)\u001b[0m\u001b[1;33m\u001b[0m\u001b[1;33m\u001b[0m\u001b[0m\n\u001b[0m\u001b[0;32m    215\u001b[0m \u001b[1;33m\u001b[0m\u001b[0m\n\u001b[0;32m    216\u001b[0m \u001b[1;33m\u001b[0m\u001b[0m\n",
      "\u001b[1;31mAttributeError\u001b[0m: module 'pandas' has no attribute 'read'"
     ]
    }
   ],
   "source": [
    "import pandas as pd\n",
    "df= pd.read.csv(\"2_Master Outlet MARKETING.csv\")\n",
    "df"
   ]
  },
  {
   "cell_type": "code",
   "execution_count": 3,
   "metadata": {},
   "outputs": [
    {
     "ename": "AttributeError",
     "evalue": "module 'pandas' has no attribute 'read'",
     "output_type": "error",
     "traceback": [
      "\u001b[1;31m---------------------------------------------------------------------------\u001b[0m",
      "\u001b[1;31mAttributeError\u001b[0m                            Traceback (most recent call last)",
      "\u001b[1;32m<ipython-input-3-0e6219c6c930>\u001b[0m in \u001b[0;36m<module>\u001b[1;34m\u001b[0m\n\u001b[0;32m      1\u001b[0m \u001b[1;32mimport\u001b[0m \u001b[0mpandas\u001b[0m \u001b[1;32mas\u001b[0m \u001b[0mpd\u001b[0m\u001b[1;33m\u001b[0m\u001b[1;33m\u001b[0m\u001b[0m\n\u001b[1;32m----> 2\u001b[1;33m \u001b[0mdf\u001b[0m\u001b[1;33m=\u001b[0m \u001b[0mpd\u001b[0m\u001b[1;33m.\u001b[0m\u001b[0mread\u001b[0m\u001b[1;33m.\u001b[0m\u001b[0mcsv\u001b[0m\u001b[1;33m(\u001b[0m\u001b[1;34m\"2_Master Outlet MARKETING.csv\"\u001b[0m\u001b[1;33m)\u001b[0m\u001b[1;33m\u001b[0m\u001b[1;33m\u001b[0m\u001b[0m\n\u001b[0m\u001b[0;32m      3\u001b[0m \u001b[0mdf\u001b[0m\u001b[1;33m\u001b[0m\u001b[1;33m\u001b[0m\u001b[0m\n",
      "\u001b[1;32mC:\\ProgramData\\Anaconda3\\lib\\site-packages\\pandas\\__init__.py\u001b[0m in \u001b[0;36m__getattr__\u001b[1;34m(name)\u001b[0m\n\u001b[0;32m    212\u001b[0m \u001b[1;33m\u001b[0m\u001b[0m\n\u001b[0;32m    213\u001b[0m             \u001b[1;32mreturn\u001b[0m \u001b[0mPanel\u001b[0m\u001b[1;33m\u001b[0m\u001b[1;33m\u001b[0m\u001b[0m\n\u001b[1;32m--> 214\u001b[1;33m         \u001b[1;32mraise\u001b[0m \u001b[0mAttributeError\u001b[0m\u001b[1;33m(\u001b[0m\u001b[1;34m\"module 'pandas' has no attribute '{}'\"\u001b[0m\u001b[1;33m.\u001b[0m\u001b[0mformat\u001b[0m\u001b[1;33m(\u001b[0m\u001b[0mname\u001b[0m\u001b[1;33m)\u001b[0m\u001b[1;33m)\u001b[0m\u001b[1;33m\u001b[0m\u001b[1;33m\u001b[0m\u001b[0m\n\u001b[0m\u001b[0;32m    215\u001b[0m \u001b[1;33m\u001b[0m\u001b[0m\n\u001b[0;32m    216\u001b[0m \u001b[1;33m\u001b[0m\u001b[0m\n",
      "\u001b[1;31mAttributeError\u001b[0m: module 'pandas' has no attribute 'read'"
     ]
    }
   ],
   "source": [
    "import pandas as pd\n",
    "df= pd.read.csv(\"2_Master Outlet MARKETING.csv\")\n",
    "df"
   ]
  },
  {
   "cell_type": "code",
   "execution_count": 6,
   "metadata": {},
   "outputs": [
    {
     "ename": "ParserError",
     "evalue": "Error tokenizing data. C error: Expected 1 fields in line 307, saw 2\n",
     "output_type": "error",
     "traceback": [
      "\u001b[1;31m---------------------------------------------------------------------------\u001b[0m",
      "\u001b[1;31mParserError\u001b[0m                               Traceback (most recent call last)",
      "\u001b[1;32m<ipython-input-6-d96dfd0dcba4>\u001b[0m in \u001b[0;36m<module>\u001b[1;34m\u001b[0m\n\u001b[0;32m      1\u001b[0m \u001b[1;32mimport\u001b[0m \u001b[0mpandas\u001b[0m \u001b[1;32mas\u001b[0m \u001b[0mpd\u001b[0m\u001b[1;33m\u001b[0m\u001b[1;33m\u001b[0m\u001b[0m\n\u001b[1;32m----> 2\u001b[1;33m \u001b[0mdf\u001b[0m \u001b[1;33m=\u001b[0m \u001b[0mpd\u001b[0m\u001b[1;33m.\u001b[0m\u001b[0mread_csv\u001b[0m\u001b[1;33m(\u001b[0m\u001b[1;34m\"outlet.csv\"\u001b[0m\u001b[1;33m)\u001b[0m\u001b[1;33m\u001b[0m\u001b[1;33m\u001b[0m\u001b[0m\n\u001b[0m\u001b[0;32m      3\u001b[0m \u001b[0mdf\u001b[0m\u001b[1;33m\u001b[0m\u001b[1;33m\u001b[0m\u001b[0m\n",
      "\u001b[1;32mC:\\ProgramData\\Anaconda3\\lib\\site-packages\\pandas\\io\\parsers.py\u001b[0m in \u001b[0;36mparser_f\u001b[1;34m(filepath_or_buffer, sep, delimiter, header, names, index_col, usecols, squeeze, prefix, mangle_dupe_cols, dtype, engine, converters, true_values, false_values, skipinitialspace, skiprows, skipfooter, nrows, na_values, keep_default_na, na_filter, verbose, skip_blank_lines, parse_dates, infer_datetime_format, keep_date_col, date_parser, dayfirst, cache_dates, iterator, chunksize, compression, thousands, decimal, lineterminator, quotechar, quoting, doublequote, escapechar, comment, encoding, dialect, error_bad_lines, warn_bad_lines, delim_whitespace, low_memory, memory_map, float_precision)\u001b[0m\n\u001b[0;32m    683\u001b[0m         )\n\u001b[0;32m    684\u001b[0m \u001b[1;33m\u001b[0m\u001b[0m\n\u001b[1;32m--> 685\u001b[1;33m         \u001b[1;32mreturn\u001b[0m \u001b[0m_read\u001b[0m\u001b[1;33m(\u001b[0m\u001b[0mfilepath_or_buffer\u001b[0m\u001b[1;33m,\u001b[0m \u001b[0mkwds\u001b[0m\u001b[1;33m)\u001b[0m\u001b[1;33m\u001b[0m\u001b[1;33m\u001b[0m\u001b[0m\n\u001b[0m\u001b[0;32m    686\u001b[0m \u001b[1;33m\u001b[0m\u001b[0m\n\u001b[0;32m    687\u001b[0m     \u001b[0mparser_f\u001b[0m\u001b[1;33m.\u001b[0m\u001b[0m__name__\u001b[0m \u001b[1;33m=\u001b[0m \u001b[0mname\u001b[0m\u001b[1;33m\u001b[0m\u001b[1;33m\u001b[0m\u001b[0m\n",
      "\u001b[1;32mC:\\ProgramData\\Anaconda3\\lib\\site-packages\\pandas\\io\\parsers.py\u001b[0m in \u001b[0;36m_read\u001b[1;34m(filepath_or_buffer, kwds)\u001b[0m\n\u001b[0;32m    461\u001b[0m \u001b[1;33m\u001b[0m\u001b[0m\n\u001b[0;32m    462\u001b[0m     \u001b[1;32mtry\u001b[0m\u001b[1;33m:\u001b[0m\u001b[1;33m\u001b[0m\u001b[1;33m\u001b[0m\u001b[0m\n\u001b[1;32m--> 463\u001b[1;33m         \u001b[0mdata\u001b[0m \u001b[1;33m=\u001b[0m \u001b[0mparser\u001b[0m\u001b[1;33m.\u001b[0m\u001b[0mread\u001b[0m\u001b[1;33m(\u001b[0m\u001b[0mnrows\u001b[0m\u001b[1;33m)\u001b[0m\u001b[1;33m\u001b[0m\u001b[1;33m\u001b[0m\u001b[0m\n\u001b[0m\u001b[0;32m    464\u001b[0m     \u001b[1;32mfinally\u001b[0m\u001b[1;33m:\u001b[0m\u001b[1;33m\u001b[0m\u001b[1;33m\u001b[0m\u001b[0m\n\u001b[0;32m    465\u001b[0m         \u001b[0mparser\u001b[0m\u001b[1;33m.\u001b[0m\u001b[0mclose\u001b[0m\u001b[1;33m(\u001b[0m\u001b[1;33m)\u001b[0m\u001b[1;33m\u001b[0m\u001b[1;33m\u001b[0m\u001b[0m\n",
      "\u001b[1;32mC:\\ProgramData\\Anaconda3\\lib\\site-packages\\pandas\\io\\parsers.py\u001b[0m in \u001b[0;36mread\u001b[1;34m(self, nrows)\u001b[0m\n\u001b[0;32m   1152\u001b[0m     \u001b[1;32mdef\u001b[0m \u001b[0mread\u001b[0m\u001b[1;33m(\u001b[0m\u001b[0mself\u001b[0m\u001b[1;33m,\u001b[0m \u001b[0mnrows\u001b[0m\u001b[1;33m=\u001b[0m\u001b[1;32mNone\u001b[0m\u001b[1;33m)\u001b[0m\u001b[1;33m:\u001b[0m\u001b[1;33m\u001b[0m\u001b[1;33m\u001b[0m\u001b[0m\n\u001b[0;32m   1153\u001b[0m         \u001b[0mnrows\u001b[0m \u001b[1;33m=\u001b[0m \u001b[0m_validate_integer\u001b[0m\u001b[1;33m(\u001b[0m\u001b[1;34m\"nrows\"\u001b[0m\u001b[1;33m,\u001b[0m \u001b[0mnrows\u001b[0m\u001b[1;33m)\u001b[0m\u001b[1;33m\u001b[0m\u001b[1;33m\u001b[0m\u001b[0m\n\u001b[1;32m-> 1154\u001b[1;33m         \u001b[0mret\u001b[0m \u001b[1;33m=\u001b[0m \u001b[0mself\u001b[0m\u001b[1;33m.\u001b[0m\u001b[0m_engine\u001b[0m\u001b[1;33m.\u001b[0m\u001b[0mread\u001b[0m\u001b[1;33m(\u001b[0m\u001b[0mnrows\u001b[0m\u001b[1;33m)\u001b[0m\u001b[1;33m\u001b[0m\u001b[1;33m\u001b[0m\u001b[0m\n\u001b[0m\u001b[0;32m   1155\u001b[0m \u001b[1;33m\u001b[0m\u001b[0m\n\u001b[0;32m   1156\u001b[0m         \u001b[1;31m# May alter columns / col_dict\u001b[0m\u001b[1;33m\u001b[0m\u001b[1;33m\u001b[0m\u001b[1;33m\u001b[0m\u001b[0m\n",
      "\u001b[1;32mC:\\ProgramData\\Anaconda3\\lib\\site-packages\\pandas\\io\\parsers.py\u001b[0m in \u001b[0;36mread\u001b[1;34m(self, nrows)\u001b[0m\n\u001b[0;32m   2057\u001b[0m     \u001b[1;32mdef\u001b[0m \u001b[0mread\u001b[0m\u001b[1;33m(\u001b[0m\u001b[0mself\u001b[0m\u001b[1;33m,\u001b[0m \u001b[0mnrows\u001b[0m\u001b[1;33m=\u001b[0m\u001b[1;32mNone\u001b[0m\u001b[1;33m)\u001b[0m\u001b[1;33m:\u001b[0m\u001b[1;33m\u001b[0m\u001b[1;33m\u001b[0m\u001b[0m\n\u001b[0;32m   2058\u001b[0m         \u001b[1;32mtry\u001b[0m\u001b[1;33m:\u001b[0m\u001b[1;33m\u001b[0m\u001b[1;33m\u001b[0m\u001b[0m\n\u001b[1;32m-> 2059\u001b[1;33m             \u001b[0mdata\u001b[0m \u001b[1;33m=\u001b[0m \u001b[0mself\u001b[0m\u001b[1;33m.\u001b[0m\u001b[0m_reader\u001b[0m\u001b[1;33m.\u001b[0m\u001b[0mread\u001b[0m\u001b[1;33m(\u001b[0m\u001b[0mnrows\u001b[0m\u001b[1;33m)\u001b[0m\u001b[1;33m\u001b[0m\u001b[1;33m\u001b[0m\u001b[0m\n\u001b[0m\u001b[0;32m   2060\u001b[0m         \u001b[1;32mexcept\u001b[0m \u001b[0mStopIteration\u001b[0m\u001b[1;33m:\u001b[0m\u001b[1;33m\u001b[0m\u001b[1;33m\u001b[0m\u001b[0m\n\u001b[0;32m   2061\u001b[0m             \u001b[1;32mif\u001b[0m \u001b[0mself\u001b[0m\u001b[1;33m.\u001b[0m\u001b[0m_first_chunk\u001b[0m\u001b[1;33m:\u001b[0m\u001b[1;33m\u001b[0m\u001b[1;33m\u001b[0m\u001b[0m\n",
      "\u001b[1;32mpandas\\_libs\\parsers.pyx\u001b[0m in \u001b[0;36mpandas._libs.parsers.TextReader.read\u001b[1;34m()\u001b[0m\n",
      "\u001b[1;32mpandas\\_libs\\parsers.pyx\u001b[0m in \u001b[0;36mpandas._libs.parsers.TextReader._read_low_memory\u001b[1;34m()\u001b[0m\n",
      "\u001b[1;32mpandas\\_libs\\parsers.pyx\u001b[0m in \u001b[0;36mpandas._libs.parsers.TextReader._read_rows\u001b[1;34m()\u001b[0m\n",
      "\u001b[1;32mpandas\\_libs\\parsers.pyx\u001b[0m in \u001b[0;36mpandas._libs.parsers.TextReader._tokenize_rows\u001b[1;34m()\u001b[0m\n",
      "\u001b[1;32mpandas\\_libs\\parsers.pyx\u001b[0m in \u001b[0;36mpandas._libs.parsers.raise_parser_error\u001b[1;34m()\u001b[0m\n",
      "\u001b[1;31mParserError\u001b[0m: Error tokenizing data. C error: Expected 1 fields in line 307, saw 2\n"
     ]
    }
   ],
   "source": [
    "import pandas as pd\n",
    "df = pd.read_csv(\"outlet.csv\")\n",
    "df"
   ]
  },
  {
   "cell_type": "code",
   "execution_count": 7,
   "metadata": {},
   "outputs": [
    {
     "ename": "ModuleNotFoundError",
     "evalue": "No module named 'panda'",
     "output_type": "error",
     "traceback": [
      "\u001b[1;31m---------------------------------------------------------------------------\u001b[0m",
      "\u001b[1;31mModuleNotFoundError\u001b[0m                       Traceback (most recent call last)",
      "\u001b[1;32m<ipython-input-7-256649332877>\u001b[0m in \u001b[0;36m<module>\u001b[1;34m\u001b[0m\n\u001b[1;32m----> 1\u001b[1;33m \u001b[1;32mimport\u001b[0m \u001b[0mpanda\u001b[0m \u001b[1;32mas\u001b[0m \u001b[0mpd\u001b[0m\u001b[1;33m\u001b[0m\u001b[1;33m\u001b[0m\u001b[0m\n\u001b[0m\u001b[0;32m      2\u001b[0m \u001b[0mdf\u001b[0m \u001b[1;33m=\u001b[0m \u001b[0mpd\u001b[0m\u001b[1;33m.\u001b[0m\u001b[0mread_csv\u001b[0m\u001b[1;33m(\u001b[0m\u001b[1;34m\"outlet.csv\"\u001b[0m\u001b[1;33m)\u001b[0m\u001b[1;33m\u001b[0m\u001b[1;33m\u001b[0m\u001b[0m\n\u001b[0;32m      3\u001b[0m \u001b[0mdf\u001b[0m\u001b[1;33m\u001b[0m\u001b[1;33m\u001b[0m\u001b[0m\n",
      "\u001b[1;31mModuleNotFoundError\u001b[0m: No module named 'panda'"
     ]
    }
   ],
   "source": [
    "import panda as pd\n",
    "df = pd.read_csv(\"outlet.csv\")\n",
    "df"
   ]
  },
  {
   "cell_type": "code",
   "execution_count": 8,
   "metadata": {},
   "outputs": [
    {
     "ename": "ParserError",
     "evalue": "Error tokenizing data. C error: Expected 1 fields in line 307, saw 2\n",
     "output_type": "error",
     "traceback": [
      "\u001b[1;31m---------------------------------------------------------------------------\u001b[0m",
      "\u001b[1;31mParserError\u001b[0m                               Traceback (most recent call last)",
      "\u001b[1;32m<ipython-input-8-d96dfd0dcba4>\u001b[0m in \u001b[0;36m<module>\u001b[1;34m\u001b[0m\n\u001b[0;32m      1\u001b[0m \u001b[1;32mimport\u001b[0m \u001b[0mpandas\u001b[0m \u001b[1;32mas\u001b[0m \u001b[0mpd\u001b[0m\u001b[1;33m\u001b[0m\u001b[1;33m\u001b[0m\u001b[0m\n\u001b[1;32m----> 2\u001b[1;33m \u001b[0mdf\u001b[0m \u001b[1;33m=\u001b[0m \u001b[0mpd\u001b[0m\u001b[1;33m.\u001b[0m\u001b[0mread_csv\u001b[0m\u001b[1;33m(\u001b[0m\u001b[1;34m\"outlet.csv\"\u001b[0m\u001b[1;33m)\u001b[0m\u001b[1;33m\u001b[0m\u001b[1;33m\u001b[0m\u001b[0m\n\u001b[0m\u001b[0;32m      3\u001b[0m \u001b[0mdf\u001b[0m\u001b[1;33m\u001b[0m\u001b[1;33m\u001b[0m\u001b[0m\n",
      "\u001b[1;32mC:\\ProgramData\\Anaconda3\\lib\\site-packages\\pandas\\io\\parsers.py\u001b[0m in \u001b[0;36mparser_f\u001b[1;34m(filepath_or_buffer, sep, delimiter, header, names, index_col, usecols, squeeze, prefix, mangle_dupe_cols, dtype, engine, converters, true_values, false_values, skipinitialspace, skiprows, skipfooter, nrows, na_values, keep_default_na, na_filter, verbose, skip_blank_lines, parse_dates, infer_datetime_format, keep_date_col, date_parser, dayfirst, cache_dates, iterator, chunksize, compression, thousands, decimal, lineterminator, quotechar, quoting, doublequote, escapechar, comment, encoding, dialect, error_bad_lines, warn_bad_lines, delim_whitespace, low_memory, memory_map, float_precision)\u001b[0m\n\u001b[0;32m    683\u001b[0m         )\n\u001b[0;32m    684\u001b[0m \u001b[1;33m\u001b[0m\u001b[0m\n\u001b[1;32m--> 685\u001b[1;33m         \u001b[1;32mreturn\u001b[0m \u001b[0m_read\u001b[0m\u001b[1;33m(\u001b[0m\u001b[0mfilepath_or_buffer\u001b[0m\u001b[1;33m,\u001b[0m \u001b[0mkwds\u001b[0m\u001b[1;33m)\u001b[0m\u001b[1;33m\u001b[0m\u001b[1;33m\u001b[0m\u001b[0m\n\u001b[0m\u001b[0;32m    686\u001b[0m \u001b[1;33m\u001b[0m\u001b[0m\n\u001b[0;32m    687\u001b[0m     \u001b[0mparser_f\u001b[0m\u001b[1;33m.\u001b[0m\u001b[0m__name__\u001b[0m \u001b[1;33m=\u001b[0m \u001b[0mname\u001b[0m\u001b[1;33m\u001b[0m\u001b[1;33m\u001b[0m\u001b[0m\n",
      "\u001b[1;32mC:\\ProgramData\\Anaconda3\\lib\\site-packages\\pandas\\io\\parsers.py\u001b[0m in \u001b[0;36m_read\u001b[1;34m(filepath_or_buffer, kwds)\u001b[0m\n\u001b[0;32m    461\u001b[0m \u001b[1;33m\u001b[0m\u001b[0m\n\u001b[0;32m    462\u001b[0m     \u001b[1;32mtry\u001b[0m\u001b[1;33m:\u001b[0m\u001b[1;33m\u001b[0m\u001b[1;33m\u001b[0m\u001b[0m\n\u001b[1;32m--> 463\u001b[1;33m         \u001b[0mdata\u001b[0m \u001b[1;33m=\u001b[0m \u001b[0mparser\u001b[0m\u001b[1;33m.\u001b[0m\u001b[0mread\u001b[0m\u001b[1;33m(\u001b[0m\u001b[0mnrows\u001b[0m\u001b[1;33m)\u001b[0m\u001b[1;33m\u001b[0m\u001b[1;33m\u001b[0m\u001b[0m\n\u001b[0m\u001b[0;32m    464\u001b[0m     \u001b[1;32mfinally\u001b[0m\u001b[1;33m:\u001b[0m\u001b[1;33m\u001b[0m\u001b[1;33m\u001b[0m\u001b[0m\n\u001b[0;32m    465\u001b[0m         \u001b[0mparser\u001b[0m\u001b[1;33m.\u001b[0m\u001b[0mclose\u001b[0m\u001b[1;33m(\u001b[0m\u001b[1;33m)\u001b[0m\u001b[1;33m\u001b[0m\u001b[1;33m\u001b[0m\u001b[0m\n",
      "\u001b[1;32mC:\\ProgramData\\Anaconda3\\lib\\site-packages\\pandas\\io\\parsers.py\u001b[0m in \u001b[0;36mread\u001b[1;34m(self, nrows)\u001b[0m\n\u001b[0;32m   1152\u001b[0m     \u001b[1;32mdef\u001b[0m \u001b[0mread\u001b[0m\u001b[1;33m(\u001b[0m\u001b[0mself\u001b[0m\u001b[1;33m,\u001b[0m \u001b[0mnrows\u001b[0m\u001b[1;33m=\u001b[0m\u001b[1;32mNone\u001b[0m\u001b[1;33m)\u001b[0m\u001b[1;33m:\u001b[0m\u001b[1;33m\u001b[0m\u001b[1;33m\u001b[0m\u001b[0m\n\u001b[0;32m   1153\u001b[0m         \u001b[0mnrows\u001b[0m \u001b[1;33m=\u001b[0m \u001b[0m_validate_integer\u001b[0m\u001b[1;33m(\u001b[0m\u001b[1;34m\"nrows\"\u001b[0m\u001b[1;33m,\u001b[0m \u001b[0mnrows\u001b[0m\u001b[1;33m)\u001b[0m\u001b[1;33m\u001b[0m\u001b[1;33m\u001b[0m\u001b[0m\n\u001b[1;32m-> 1154\u001b[1;33m         \u001b[0mret\u001b[0m \u001b[1;33m=\u001b[0m \u001b[0mself\u001b[0m\u001b[1;33m.\u001b[0m\u001b[0m_engine\u001b[0m\u001b[1;33m.\u001b[0m\u001b[0mread\u001b[0m\u001b[1;33m(\u001b[0m\u001b[0mnrows\u001b[0m\u001b[1;33m)\u001b[0m\u001b[1;33m\u001b[0m\u001b[1;33m\u001b[0m\u001b[0m\n\u001b[0m\u001b[0;32m   1155\u001b[0m \u001b[1;33m\u001b[0m\u001b[0m\n\u001b[0;32m   1156\u001b[0m         \u001b[1;31m# May alter columns / col_dict\u001b[0m\u001b[1;33m\u001b[0m\u001b[1;33m\u001b[0m\u001b[1;33m\u001b[0m\u001b[0m\n",
      "\u001b[1;32mC:\\ProgramData\\Anaconda3\\lib\\site-packages\\pandas\\io\\parsers.py\u001b[0m in \u001b[0;36mread\u001b[1;34m(self, nrows)\u001b[0m\n\u001b[0;32m   2057\u001b[0m     \u001b[1;32mdef\u001b[0m \u001b[0mread\u001b[0m\u001b[1;33m(\u001b[0m\u001b[0mself\u001b[0m\u001b[1;33m,\u001b[0m \u001b[0mnrows\u001b[0m\u001b[1;33m=\u001b[0m\u001b[1;32mNone\u001b[0m\u001b[1;33m)\u001b[0m\u001b[1;33m:\u001b[0m\u001b[1;33m\u001b[0m\u001b[1;33m\u001b[0m\u001b[0m\n\u001b[0;32m   2058\u001b[0m         \u001b[1;32mtry\u001b[0m\u001b[1;33m:\u001b[0m\u001b[1;33m\u001b[0m\u001b[1;33m\u001b[0m\u001b[0m\n\u001b[1;32m-> 2059\u001b[1;33m             \u001b[0mdata\u001b[0m \u001b[1;33m=\u001b[0m \u001b[0mself\u001b[0m\u001b[1;33m.\u001b[0m\u001b[0m_reader\u001b[0m\u001b[1;33m.\u001b[0m\u001b[0mread\u001b[0m\u001b[1;33m(\u001b[0m\u001b[0mnrows\u001b[0m\u001b[1;33m)\u001b[0m\u001b[1;33m\u001b[0m\u001b[1;33m\u001b[0m\u001b[0m\n\u001b[0m\u001b[0;32m   2060\u001b[0m         \u001b[1;32mexcept\u001b[0m \u001b[0mStopIteration\u001b[0m\u001b[1;33m:\u001b[0m\u001b[1;33m\u001b[0m\u001b[1;33m\u001b[0m\u001b[0m\n\u001b[0;32m   2061\u001b[0m             \u001b[1;32mif\u001b[0m \u001b[0mself\u001b[0m\u001b[1;33m.\u001b[0m\u001b[0m_first_chunk\u001b[0m\u001b[1;33m:\u001b[0m\u001b[1;33m\u001b[0m\u001b[1;33m\u001b[0m\u001b[0m\n",
      "\u001b[1;32mpandas\\_libs\\parsers.pyx\u001b[0m in \u001b[0;36mpandas._libs.parsers.TextReader.read\u001b[1;34m()\u001b[0m\n",
      "\u001b[1;32mpandas\\_libs\\parsers.pyx\u001b[0m in \u001b[0;36mpandas._libs.parsers.TextReader._read_low_memory\u001b[1;34m()\u001b[0m\n",
      "\u001b[1;32mpandas\\_libs\\parsers.pyx\u001b[0m in \u001b[0;36mpandas._libs.parsers.TextReader._read_rows\u001b[1;34m()\u001b[0m\n",
      "\u001b[1;32mpandas\\_libs\\parsers.pyx\u001b[0m in \u001b[0;36mpandas._libs.parsers.TextReader._tokenize_rows\u001b[1;34m()\u001b[0m\n",
      "\u001b[1;32mpandas\\_libs\\parsers.pyx\u001b[0m in \u001b[0;36mpandas._libs.parsers.raise_parser_error\u001b[1;34m()\u001b[0m\n",
      "\u001b[1;31mParserError\u001b[0m: Error tokenizing data. C error: Expected 1 fields in line 307, saw 2\n"
     ]
    }
   ],
   "source": [
    "import pandas as pd\n",
    "df = pd.read_csv(\"outlet.csv\")\n",
    "df"
   ]
  },
  {
   "cell_type": "code",
   "execution_count": 9,
   "metadata": {},
   "outputs": [
    {
     "name": "stderr",
     "output_type": "stream",
     "text": [
      "b'Skipping line 307: expected 1 fields, saw 2\\nSkipping line 361: expected 1 fields, saw 4\\nSkipping line 363: expected 1 fields, saw 2\\nSkipping line 364: expected 1 fields, saw 2\\nSkipping line 367: expected 1 fields, saw 3\\nSkipping line 368: expected 1 fields, saw 3\\nSkipping line 371: expected 1 fields, saw 4\\nSkipping line 372: expected 1 fields, saw 2\\nSkipping line 373: expected 1 fields, saw 4\\nSkipping line 375: expected 1 fields, saw 2\\nSkipping line 376: expected 1 fields, saw 3\\nSkipping line 381: expected 1 fields, saw 4\\nSkipping line 382: expected 1 fields, saw 4\\nSkipping line 383: expected 1 fields, saw 4\\nSkipping line 384: expected 1 fields, saw 4\\nSkipping line 385: expected 1 fields, saw 4\\nSkipping line 386: expected 1 fields, saw 3\\nSkipping line 387: expected 1 fields, saw 3\\nSkipping line 388: expected 1 fields, saw 4\\nSkipping line 389: expected 1 fields, saw 2\\nSkipping line 390: expected 1 fields, saw 3\\nSkipping line 404: expected 1 fields, saw 2\\nSkipping line 406: expected 1 fields, saw 2\\nSkipping line 514: expected 1 fields, saw 2\\nSkipping line 519: expected 1 fields, saw 3\\nSkipping line 523: expected 1 fields, saw 2\\nSkipping line 527: expected 1 fields, saw 3\\nSkipping line 529: expected 1 fields, saw 3\\nSkipping line 530: expected 1 fields, saw 3\\nSkipping line 531: expected 1 fields, saw 3\\nSkipping line 537: expected 1 fields, saw 2\\nSkipping line 542: expected 1 fields, saw 5\\nSkipping line 543: expected 1 fields, saw 2\\nSkipping line 544: expected 1 fields, saw 3\\nSkipping line 584: expected 1 fields, saw 2\\nSkipping line 592: expected 1 fields, saw 2\\nSkipping line 594: expected 1 fields, saw 2\\nSkipping line 595: expected 1 fields, saw 3\\nSkipping line 596: expected 1 fields, saw 2\\nSkipping line 601: expected 1 fields, saw 3\\nSkipping line 603: expected 1 fields, saw 3\\nSkipping line 605: expected 1 fields, saw 2\\nSkipping line 607: expected 1 fields, saw 2\\nSkipping line 610: expected 1 fields, saw 2\\nSkipping line 641: expected 1 fields, saw 2\\nSkipping line 643: expected 1 fields, saw 2\\nSkipping line 648: expected 1 fields, saw 2\\nSkipping line 649: expected 1 fields, saw 2\\nSkipping line 650: expected 1 fields, saw 2\\nSkipping line 651: expected 1 fields, saw 2\\nSkipping line 652: expected 1 fields, saw 2\\nSkipping line 653: expected 1 fields, saw 2\\nSkipping line 654: expected 1 fields, saw 2\\nSkipping line 655: expected 1 fields, saw 2\\nSkipping line 656: expected 1 fields, saw 2\\nSkipping line 657: expected 1 fields, saw 2\\nSkipping line 658: expected 1 fields, saw 2\\nSkipping line 659: expected 1 fields, saw 2\\nSkipping line 660: expected 1 fields, saw 2\\nSkipping line 661: expected 1 fields, saw 2\\nSkipping line 662: expected 1 fields, saw 2\\nSkipping line 663: expected 1 fields, saw 2\\nSkipping line 664: expected 1 fields, saw 2\\nSkipping line 665: expected 1 fields, saw 2\\nSkipping line 666: expected 1 fields, saw 2\\nSkipping line 667: expected 1 fields, saw 2\\nSkipping line 668: expected 1 fields, saw 2\\nSkipping line 669: expected 1 fields, saw 2\\nSkipping line 670: expected 1 fields, saw 2\\nSkipping line 671: expected 1 fields, saw 2\\nSkipping line 672: expected 1 fields, saw 2\\nSkipping line 673: expected 1 fields, saw 2\\nSkipping line 674: expected 1 fields, saw 2\\nSkipping line 675: expected 1 fields, saw 2\\nSkipping line 676: expected 1 fields, saw 2\\nSkipping line 677: expected 1 fields, saw 2\\nSkipping line 678: expected 1 fields, saw 2\\nSkipping line 679: expected 1 fields, saw 2\\nSkipping line 680: expected 1 fields, saw 2\\nSkipping line 681: expected 1 fields, saw 2\\nSkipping line 682: expected 1 fields, saw 2\\nSkipping line 683: expected 1 fields, saw 2\\nSkipping line 684: expected 1 fields, saw 2\\nSkipping line 685: expected 1 fields, saw 2\\nSkipping line 686: expected 1 fields, saw 2\\nSkipping line 687: expected 1 fields, saw 2\\nSkipping line 688: expected 1 fields, saw 2\\nSkipping line 689: expected 1 fields, saw 2\\nSkipping line 690: expected 1 fields, saw 2\\nSkipping line 691: expected 1 fields, saw 2\\nSkipping line 839: expected 1 fields, saw 2\\nSkipping line 845: expected 1 fields, saw 2\\nSkipping line 859: expected 1 fields, saw 2\\nSkipping line 1188: expected 1 fields, saw 2\\nSkipping line 1189: expected 1 fields, saw 2\\nSkipping line 1192: expected 1 fields, saw 2\\nSkipping line 1206: expected 1 fields, saw 2\\nSkipping line 1234: expected 1 fields, saw 2\\nSkipping line 1263: expected 1 fields, saw 5\\nSkipping line 1270: expected 1 fields, saw 2\\nSkipping line 1291: expected 1 fields, saw 2\\nSkipping line 1465: expected 1 fields, saw 2\\nSkipping line 1514: expected 1 fields, saw 4\\nSkipping line 1521: expected 1 fields, saw 2\\nSkipping line 1607: expected 1 fields, saw 2\\nSkipping line 1621: expected 1 fields, saw 2\\nSkipping line 1662: expected 1 fields, saw 2\\nSkipping line 1708: expected 1 fields, saw 2\\nSkipping line 1709: expected 1 fields, saw 2\\nSkipping line 1724: expected 1 fields, saw 3\\nSkipping line 1779: expected 1 fields, saw 3\\nSkipping line 1780: expected 1 fields, saw 2\\nSkipping line 1781: expected 1 fields, saw 2\\nSkipping line 1782: expected 1 fields, saw 2\\nSkipping line 1783: expected 1 fields, saw 2\\nSkipping line 1784: expected 1 fields, saw 2\\nSkipping line 1785: expected 1 fields, saw 2\\nSkipping line 1786: expected 1 fields, saw 2\\nSkipping line 1787: expected 1 fields, saw 2\\nSkipping line 1788: expected 1 fields, saw 2\\nSkipping line 1789: expected 1 fields, saw 2\\nSkipping line 1790: expected 1 fields, saw 2\\nSkipping line 1791: expected 1 fields, saw 2\\nSkipping line 1792: expected 1 fields, saw 2\\nSkipping line 1793: expected 1 fields, saw 2\\nSkipping line 1794: expected 1 fields, saw 2\\nSkipping line 1795: expected 1 fields, saw 2\\nSkipping line 1796: expected 1 fields, saw 2\\nSkipping line 1797: expected 1 fields, saw 2\\nSkipping line 1798: expected 1 fields, saw 2\\nSkipping line 1799: expected 1 fields, saw 2\\nSkipping line 1800: expected 1 fields, saw 2\\nSkipping line 1801: expected 1 fields, saw 2\\nSkipping line 1802: expected 1 fields, saw 2\\nSkipping line 1803: expected 1 fields, saw 3\\nSkipping line 1804: expected 1 fields, saw 2\\nSkipping line 1805: expected 1 fields, saw 2\\nSkipping line 1806: expected 1 fields, saw 2\\nSkipping line 1807: expected 1 fields, saw 2\\nSkipping line 1808: expected 1 fields, saw 2\\nSkipping line 1809: expected 1 fields, saw 2\\nSkipping line 1810: expected 1 fields, saw 2\\nSkipping line 1811: expected 1 fields, saw 2\\nSkipping line 1812: expected 1 fields, saw 2\\nSkipping line 1813: expected 1 fields, saw 2\\nSkipping line 1814: expected 1 fields, saw 2\\nSkipping line 1815: expected 1 fields, saw 2\\nSkipping line 1816: expected 1 fields, saw 2\\nSkipping line 1817: expected 1 fields, saw 2\\nSkipping line 1818: expected 1 fields, saw 2\\nSkipping line 1819: expected 1 fields, saw 2\\nSkipping line 1820: expected 1 fields, saw 2\\nSkipping line 1821: expected 1 fields, saw 2\\nSkipping line 1822: expected 1 fields, saw 2\\nSkipping line 1823: expected 1 fields, saw 2\\nSkipping line 1824: expected 1 fields, saw 2\\nSkipping line 1825: expected 1 fields, saw 2\\nSkipping line 1826: expected 1 fields, saw 2\\nSkipping line 1827: expected 1 fields, saw 2\\nSkipping line 1828: expected 1 fields, saw 2\\nSkipping line 1829: expected 1 fields, saw 2\\nSkipping line 1830: expected 1 fields, saw 2\\nSkipping line 1831: expected 1 fields, saw 2\\nSkipping line 1832: expected 1 fields, saw 2\\nSkipping line 1833: expected 1 fields, saw 2\\nSkipping line 1834: expected 1 fields, saw 2\\nSkipping line 1835: expected 1 fields, saw 2\\nSkipping line 1836: expected 1 fields, saw 2\\nSkipping line 1837: expected 1 fields, saw 2\\nSkipping line 1838: expected 1 fields, saw 2\\nSkipping line 1839: expected 1 fields, saw 2\\nSkipping line 1840: expected 1 fields, saw 2\\nSkipping line 1841: expected 1 fields, saw 2\\nSkipping line 1842: expected 1 fields, saw 2\\nSkipping line 1843: expected 1 fields, saw 2\\nSkipping line 1844: expected 1 fields, saw 2\\nSkipping line 1845: expected 1 fields, saw 2\\nSkipping line 1846: expected 1 fields, saw 2\\nSkipping line 1847: expected 1 fields, saw 2\\nSkipping line 1848: expected 1 fields, saw 2\\nSkipping line 1849: expected 1 fields, saw 2\\nSkipping line 1850: expected 1 fields, saw 2\\nSkipping line 1851: expected 1 fields, saw 2\\nSkipping line 1852: expected 1 fields, saw 2\\nSkipping line 1853: expected 1 fields, saw 2\\nSkipping line 1854: expected 1 fields, saw 2\\nSkipping line 1855: expected 1 fields, saw 2\\nSkipping line 1856: expected 1 fields, saw 2\\nSkipping line 1857: expected 1 fields, saw 2\\nSkipping line 1858: expected 1 fields, saw 2\\nSkipping line 1859: expected 1 fields, saw 2\\nSkipping line 1860: expected 1 fields, saw 2\\nSkipping line 1861: expected 1 fields, saw 2\\nSkipping line 1862: expected 1 fields, saw 2\\nSkipping line 1863: expected 1 fields, saw 2\\nSkipping line 1864: expected 1 fields, saw 2\\nSkipping line 1865: expected 1 fields, saw 2\\nSkipping line 1866: expected 1 fields, saw 2\\nSkipping line 1867: expected 1 fields, saw 2\\nSkipping line 1868: expected 1 fields, saw 2\\nSkipping line 1869: expected 1 fields, saw 2\\nSkipping line 1870: expected 1 fields, saw 2\\nSkipping line 1871: expected 1 fields, saw 2\\nSkipping line 1872: expected 1 fields, saw 2\\nSkipping line 1873: expected 1 fields, saw 2\\nSkipping line 1874: expected 1 fields, saw 2\\nSkipping line 1875: expected 1 fields, saw 2\\nSkipping line 1876: expected 1 fields, saw 2\\nSkipping line 1877: expected 1 fields, saw 2\\nSkipping line 1878: expected 1 fields, saw 2\\nSkipping line 1879: expected 1 fields, saw 2\\nSkipping line 1880: expected 1 fields, saw 3\\nSkipping line 1881: expected 1 fields, saw 2\\nSkipping line 1882: expected 1 fields, saw 2\\nSkipping line 1883: expected 1 fields, saw 2\\nSkipping line 1884: expected 1 fields, saw 2\\nSkipping line 1885: expected 1 fields, saw 2\\nSkipping line 1886: expected 1 fields, saw 2\\nSkipping line 1887: expected 1 fields, saw 2\\nSkipping line 1888: expected 1 fields, saw 2\\nSkipping line 1889: expected 1 fields, saw 2\\nSkipping line 1890: expected 1 fields, saw 2\\nSkipping line 1891: expected 1 fields, saw 2\\nSkipping line 1892: expected 1 fields, saw 2\\nSkipping line 1893: expected 1 fields, saw 2\\nSkipping line 1894: expected 1 fields, saw 2\\nSkipping line 1895: expected 1 fields, saw 2\\nSkipping line 1896: expected 1 fields, saw 2\\nSkipping line 1897: expected 1 fields, saw 2\\nSkipping line 1898: expected 1 fields, saw 2\\nSkipping line 1899: expected 1 fields, saw 2\\nSkipping line 1900: expected 1 fields, saw 2\\nSkipping line 1901: expected 1 fields, saw 2\\nSkipping line 1902: expected 1 fields, saw 2\\nSkipping line 1903: expected 1 fields, saw 2\\nSkipping line 1904: expected 1 fields, saw 2\\nSkipping line 1905: expected 1 fields, saw 2\\nSkipping line 1906: expected 1 fields, saw 2\\nSkipping line 1976: expected 1 fields, saw 2\\nSkipping line 1977: expected 1 fields, saw 2\\nSkipping line 2160: expected 1 fields, saw 2\\nSkipping line 2163: expected 1 fields, saw 2\\nSkipping line 2167: expected 1 fields, saw 2\\nSkipping line 2197: expected 1 fields, saw 2\\nSkipping line 2207: expected 1 fields, saw 2\\nSkipping line 2273: expected 1 fields, saw 2\\nSkipping line 2357: expected 1 fields, saw 2\\nSkipping line 2361: expected 1 fields, saw 2\\nSkipping line 2447: expected 1 fields, saw 2\\nSkipping line 2451: expected 1 fields, saw 2\\nSkipping line 2455: expected 1 fields, saw 2\\nSkipping line 2633: expected 1 fields, saw 2\\nSkipping line 2657: expected 1 fields, saw 2\\nSkipping line 2658: expected 1 fields, saw 2\\nSkipping line 2679: expected 1 fields, saw 2\\nSkipping line 2736: expected 1 fields, saw 2\\nSkipping line 2784: expected 1 fields, saw 2\\nSkipping line 2789: expected 1 fields, saw 2\\nSkipping line 2853: expected 1 fields, saw 2\\nSkipping line 2857: expected 1 fields, saw 3\\nSkipping line 2859: expected 1 fields, saw 3\\nSkipping line 2861: expected 1 fields, saw 4\\nSkipping line 2867: expected 1 fields, saw 2\\nSkipping line 2872: expected 1 fields, saw 2\\nSkipping line 2875: expected 1 fields, saw 3\\nSkipping line 2880: expected 1 fields, saw 2\\nSkipping line 2898: expected 1 fields, saw 2\\nSkipping line 2907: expected 1 fields, saw 2\\nSkipping line 2918: expected 1 fields, saw 3\\nSkipping line 2926: expected 1 fields, saw 2\\nSkipping line 2968: expected 1 fields, saw 3\\nSkipping line 3403: expected 1 fields, saw 3\\nSkipping line 4114: expected 1 fields, saw 4\\nSkipping line 4115: expected 1 fields, saw 2\\nSkipping line 4132: expected 1 fields, saw 3\\nSkipping line 4162: expected 1 fields, saw 3\\nSkipping line 4167: expected 1 fields, saw 2\\nSkipping line 4190: expected 1 fields, saw 3\\nSkipping line 4670: expected 1 fields, saw 2\\nSkipping line 4954: expected 1 fields, saw 2\\nSkipping line 4957: expected 1 fields, saw 2\\nSkipping line 4962: expected 1 fields, saw 2\\nSkipping line 4971: expected 1 fields, saw 2\\nSkipping line 4972: expected 1 fields, saw 2\\nSkipping line 4973: expected 1 fields, saw 2\\nSkipping line 4974: expected 1 fields, saw 2\\nSkipping line 4975: expected 1 fields, saw 2\\nSkipping line 4976: expected 1 fields, saw 2\\nSkipping line 4977: expected 1 fields, saw 2\\nSkipping line 4985: expected 1 fields, saw 2\\nSkipping line 4986: expected 1 fields, saw 2\\nSkipping line 4987: expected 1 fields, saw 2\\nSkipping line 4988: expected 1 fields, saw 2\\nSkipping line 4993: expected 1 fields, saw 2\\nSkipping line 4994: expected 1 fields, saw 2\\nSkipping line 4995: expected 1 fields, saw 2\\nSkipping line 4996: expected 1 fields, saw 2\\nSkipping line 4997: expected 1 fields, saw 2\\nSkipping line 4998: expected 1 fields, saw 2\\nSkipping line 4999: expected 1 fields, saw 2\\nSkipping line 5000: expected 1 fields, saw 2\\nSkipping line 5001: expected 1 fields, saw 2\\nSkipping line 5002: expected 1 fields, saw 2\\nSkipping line 5003: expected 1 fields, saw 2\\nSkipping line 5004: expected 1 fields, saw 2\\nSkipping line 5006: expected 1 fields, saw 2\\nSkipping line 5007: expected 1 fields, saw 2\\nSkipping line 5008: expected 1 fields, saw 2\\nSkipping line 5009: expected 1 fields, saw 2\\nSkipping line 5010: expected 1 fields, saw 2\\nSkipping line 5011: expected 1 fields, saw 2\\nSkipping line 5013: expected 1 fields, saw 3\\nSkipping line 5014: expected 1 fields, saw 3\\nSkipping line 5015: expected 1 fields, saw 3\\nSkipping line 5016: expected 1 fields, saw 4\\nSkipping line 5017: expected 1 fields, saw 3\\nSkipping line 5018: expected 1 fields, saw 3\\nSkipping line 5019: expected 1 fields, saw 5\\nSkipping line 5021: expected 1 fields, saw 5\\nSkipping line 5024: expected 1 fields, saw 4\\nSkipping line 5025: expected 1 fields, saw 5\\nSkipping line 5026: expected 1 fields, saw 5\\nSkipping line 5027: expected 1 fields, saw 4\\nSkipping line 5028: expected 1 fields, saw 6\\nSkipping line 5029: expected 1 fields, saw 4\\nSkipping line 5030: expected 1 fields, saw 2\\nSkipping line 5031: expected 1 fields, saw 4\\nSkipping line 5032: expected 1 fields, saw 3\\nSkipping line 5033: expected 1 fields, saw 3\\nSkipping line 5034: expected 1 fields, saw 3\\nSkipping line 5035: expected 1 fields, saw 3\\nSkipping line 5036: expected 1 fields, saw 5\\nSkipping line 5037: expected 1 fields, saw 5\\nSkipping line 5038: expected 1 fields, saw 4\\nSkipping line 5039: expected 1 fields, saw 3\\nSkipping line 5040: expected 1 fields, saw 3\\nSkipping line 5041: expected 1 fields, saw 4\\nSkipping line 5042: expected 1 fields, saw 3\\nSkipping line 5044: expected 1 fields, saw 3\\nSkipping line 5045: expected 1 fields, saw 3\\nSkipping line 5046: expected 1 fields, saw 2\\nSkipping line 5053: expected 1 fields, saw 5\\nSkipping line 5056: expected 1 fields, saw 2\\nSkipping line 5057: expected 1 fields, saw 4\\nSkipping line 5058: expected 1 fields, saw 2\\nSkipping line 5059: expected 1 fields, saw 3\\nSkipping line 5060: expected 1 fields, saw 4\\nSkipping line 5061: expected 1 fields, saw 5\\nSkipping line 5062: expected 1 fields, saw 2\\nSkipping line 5063: expected 1 fields, saw 2\\nSkipping line 5064: expected 1 fields, saw 5\\nSkipping line 5065: expected 1 fields, saw 4\\nSkipping line 5067: expected 1 fields, saw 4\\nSkipping line 5068: expected 1 fields, saw 4\\nSkipping line 5069: expected 1 fields, saw 3\\nSkipping line 5070: expected 1 fields, saw 6\\nSkipping line 5071: expected 1 fields, saw 5\\nSkipping line 5072: expected 1 fields, saw 4\\nSkipping line 5073: expected 1 fields, saw 5\\nSkipping line 5074: expected 1 fields, saw 4\\nSkipping line 5075: expected 1 fields, saw 4\\nSkipping line 5076: expected 1 fields, saw 5\\nSkipping line 5077: expected 1 fields, saw 4\\nSkipping line 5107: expected 1 fields, saw 2\\nSkipping line 5108: expected 1 fields, saw 2\\nSkipping line 5109: expected 1 fields, saw 2\\nSkipping line 5110: expected 1 fields, saw 2\\nSkipping line 5117: expected 1 fields, saw 2\\nSkipping line 5118: expected 1 fields, saw 2\\nSkipping line 5119: expected 1 fields, saw 2\\nSkipping line 5120: expected 1 fields, saw 2\\nSkipping line 5121: expected 1 fields, saw 2\\nSkipping line 5122: expected 1 fields, saw 2\\nSkipping line 5123: expected 1 fields, saw 2\\nSkipping line 5124: expected 1 fields, saw 2\\nSkipping line 5125: expected 1 fields, saw 2\\nSkipping line 5126: expected 1 fields, saw 2\\nSkipping line 5127: expected 1 fields, saw 2\\nSkipping line 5128: expected 1 fields, saw 2\\nSkipping line 5130: expected 1 fields, saw 2\\nSkipping line 5131: expected 1 fields, saw 2\\nSkipping line 5132: expected 1 fields, saw 2\\nSkipping line 5133: expected 1 fields, saw 2\\nSkipping line 5134: expected 1 fields, saw 2\\nSkipping line 5135: expected 1 fields, saw 2\\nSkipping line 5184: expected 1 fields, saw 6\\nSkipping line 5185: expected 1 fields, saw 6\\nSkipping line 5186: expected 1 fields, saw 3\\nSkipping line 5187: expected 1 fields, saw 6\\nSkipping line 5188: expected 1 fields, saw 4\\nSkipping line 5189: expected 1 fields, saw 6\\nSkipping line 5190: expected 1 fields, saw 6\\nSkipping line 5191: expected 1 fields, saw 6\\nSkipping line 5192: expected 1 fields, saw 3\\nSkipping line 5193: expected 1 fields, saw 3\\nSkipping line 5194: expected 1 fields, saw 3\\nSkipping line 5195: expected 1 fields, saw 2\\nSkipping line 5196: expected 1 fields, saw 6\\nSkipping line 5197: expected 1 fields, saw 5\\nSkipping line 5198: expected 1 fields, saw 4\\nSkipping line 5199: expected 1 fields, saw 5\\nSkipping line 5200: expected 1 fields, saw 2\\nSkipping line 5201: expected 1 fields, saw 5\\nSkipping line 5202: expected 1 fields, saw 3\\nSkipping line 5203: expected 1 fields, saw 3\\nSkipping line 5204: expected 1 fields, saw 4\\nSkipping line 5205: expected 1 fields, saw 3\\nSkipping line 5206: expected 1 fields, saw 5\\nSkipping line 5207: expected 1 fields, saw 2\\nSkipping line 5209: expected 1 fields, saw 4\\nSkipping line 5217: expected 1 fields, saw 5\\nSkipping line 5218: expected 1 fields, saw 5\\nSkipping line 5219: expected 1 fields, saw 5\\nSkipping line 5220: expected 1 fields, saw 4\\nSkipping line 5221: expected 1 fields, saw 4\\nSkipping line 5222: expected 1 fields, saw 3\\nSkipping line 5224: expected 1 fields, saw 4\\nSkipping line 5225: expected 1 fields, saw 4\\nSkipping line 5226: expected 1 fields, saw 3\\nSkipping line 5227: expected 1 fields, saw 2\\nSkipping line 5228: expected 1 fields, saw 2\\nSkipping line 5229: expected 1 fields, saw 3\\nSkipping line 5231: expected 1 fields, saw 3\\nSkipping line 5232: expected 1 fields, saw 4\\nSkipping line 5233: expected 1 fields, saw 3\\nSkipping line 5234: expected 1 fields, saw 3\\nSkipping line 5236: expected 1 fields, saw 5\\nSkipping line 5237: expected 1 fields, saw 5\\nSkipping line 5238: expected 1 fields, saw 2\\nSkipping line 5239: expected 1 fields, saw 2\\nSkipping line 5240: expected 1 fields, saw 2\\nSkipping line 5241: expected 1 fields, saw 2\\nSkipping line 5242: expected 1 fields, saw 2\\nSkipping line 5243: expected 1 fields, saw 4\\nSkipping line 5244: expected 1 fields, saw 4\\nSkipping line 5245: expected 1 fields, saw 5\\nSkipping line 5246: expected 1 fields, saw 6\\nSkipping line 5247: expected 1 fields, saw 5\\nSkipping line 5254: expected 1 fields, saw 2\\nSkipping line 5255: expected 1 fields, saw 2\\nSkipping line 5256: expected 1 fields, saw 5\\nSkipping line 5257: expected 1 fields, saw 5\\nSkipping line 5259: expected 1 fields, saw 5\\nSkipping line 5260: expected 1 fields, saw 5\\nSkipping line 5261: expected 1 fields, saw 5\\nSkipping line 5262: expected 1 fields, saw 5\\nSkipping line 5263: expected 1 fields, saw 5\\nSkipping line 5264: expected 1 fields, saw 5\\nSkipping line 5265: expected 1 fields, saw 5\\nSkipping line 5266: expected 1 fields, saw 5\\nSkipping line 5267: expected 1 fields, saw 5\\nSkipping line 5269: expected 1 fields, saw 4\\nSkipping line 5270: expected 1 fields, saw 5\\nSkipping line 5271: expected 1 fields, saw 5\\nSkipping line 5272: expected 1 fields, saw 5\\nSkipping line 5273: expected 1 fields, saw 5\\nSkipping line 5275: expected 1 fields, saw 4\\nSkipping line 5276: expected 1 fields, saw 6\\nSkipping line 5277: expected 1 fields, saw 5\\nSkipping line 5278: expected 1 fields, saw 4\\nSkipping line 5279: expected 1 fields, saw 4\\nSkipping line 5282: expected 1 fields, saw 5\\nSkipping line 5286: expected 1 fields, saw 5\\nSkipping line 5287: expected 1 fields, saw 5\\nSkipping line 5289: expected 1 fields, saw 4\\nSkipping line 5290: expected 1 fields, saw 5\\nSkipping line 5291: expected 1 fields, saw 4\\nSkipping line 5292: expected 1 fields, saw 3\\nSkipping line 5293: expected 1 fields, saw 2\\nSkipping line 5294: expected 1 fields, saw 2\\nSkipping line 5295: expected 1 fields, saw 5\\nSkipping line 5296: expected 1 fields, saw 5\\nSkipping line 5297: expected 1 fields, saw 2\\nSkipping line 5298: expected 1 fields, saw 4\\nSkipping line 5300: expected 1 fields, saw 2\\nSkipping line 5301: expected 1 fields, saw 2\\nSkipping line 5302: expected 1 fields, saw 2\\nSkipping line 5303: expected 1 fields, saw 2\\nSkipping line 5304: expected 1 fields, saw 5\\nSkipping line 5305: expected 1 fields, saw 2\\nSkipping line 5306: expected 1 fields, saw 5\\nSkipping line 5307: expected 1 fields, saw 5\\nSkipping line 5308: expected 1 fields, saw 5\\nSkipping line 5309: expected 1 fields, saw 4\\nSkipping line 5310: expected 1 fields, saw 5\\nSkipping line 5311: expected 1 fields, saw 4\\nSkipping line 5312: expected 1 fields, saw 5\\nSkipping line 5313: expected 1 fields, saw 3\\nSkipping line 5314: expected 1 fields, saw 3\\nSkipping line 5315: expected 1 fields, saw 3\\nSkipping line 5316: expected 1 fields, saw 3\\nSkipping line 5317: expected 1 fields, saw 3\\nSkipping line 5318: expected 1 fields, saw 3\\nSkipping line 5319: expected 1 fields, saw 3\\nSkipping line 5320: expected 1 fields, saw 3\\nSkipping line 5321: expected 1 fields, saw 3\\nSkipping line 5322: expected 1 fields, saw 3\\nSkipping line 5323: expected 1 fields, saw 3\\nSkipping line 5324: expected 1 fields, saw 3\\nSkipping line 5325: expected 1 fields, saw 3\\nSkipping line 5326: expected 1 fields, saw 4\\nSkipping line 5327: expected 1 fields, saw 3\\nSkipping line 5328: expected 1 fields, saw 3\\nSkipping line 5329: expected 1 fields, saw 3\\nSkipping line 5330: expected 1 fields, saw 4\\nSkipping line 5331: expected 1 fields, saw 4\\nSkipping line 5332: expected 1 fields, saw 3\\nSkipping line 5333: expected 1 fields, saw 3\\nSkipping line 5334: expected 1 fields, saw 5\\nSkipping line 5335: expected 1 fields, saw 3\\nSkipping line 5337: expected 1 fields, saw 4\\nSkipping line 5338: expected 1 fields, saw 5\\nSkipping line 5339: expected 1 fields, saw 3\\nSkipping line 5340: expected 1 fields, saw 4\\nSkipping line 5341: expected 1 fields, saw 4\\nSkipping line 5342: expected 1 fields, saw 3\\nSkipping line 5343: expected 1 fields, saw 5\\nSkipping line 5344: expected 1 fields, saw 4\\nSkipping line 5345: expected 1 fields, saw 3\\nSkipping line 5346: expected 1 fields, saw 5\\nSkipping line 5347: expected 1 fields, saw 3\\nSkipping line 5348: expected 1 fields, saw 6\\nSkipping line 5349: expected 1 fields, saw 5\\nSkipping line 5350: expected 1 fields, saw 4\\nSkipping line 5351: expected 1 fields, saw 6\\nSkipping line 5352: expected 1 fields, saw 5\\nSkipping line 5353: expected 1 fields, saw 4\\nSkipping line 5354: expected 1 fields, saw 4\\nSkipping line 5366: expected 1 fields, saw 2\\nSkipping line 5368: expected 1 fields, saw 2\\nSkipping line 5372: expected 1 fields, saw 2\\nSkipping line 5373: expected 1 fields, saw 2\\nSkipping line 5376: expected 1 fields, saw 2\\nSkipping line 5381: expected 1 fields, saw 2\\nSkipping line 5395: expected 1 fields, saw 2\\nSkipping line 5396: expected 1 fields, saw 2\\nSkipping line 5397: expected 1 fields, saw 2\\nSkipping line 5400: expected 1 fields, saw 2\\nSkipping line 5415: expected 1 fields, saw 2\\nSkipping line 5418: expected 1 fields, saw 2\\nSkipping line 5425: expected 1 fields, saw 2\\nSkipping line 5426: expected 1 fields, saw 2\\nSkipping line 5445: expected 1 fields, saw 2\\nSkipping line 5446: expected 1 fields, saw 2\\nSkipping line 5509: expected 1 fields, saw 2\\nSkipping line 5863: expected 1 fields, saw 2\\nSkipping line 5966: expected 1 fields, saw 3\\nSkipping line 5967: expected 1 fields, saw 2\\nSkipping line 6013: expected 1 fields, saw 2\\nSkipping line 6014: expected 1 fields, saw 2\\nSkipping line 6019: expected 1 fields, saw 2\\nSkipping line 6020: expected 1 fields, saw 4\\nSkipping line 6021: expected 1 fields, saw 4\\nSkipping line 6022: expected 1 fields, saw 4\\nSkipping line 6023: expected 1 fields, saw 2\\nSkipping line 6025: expected 1 fields, saw 2\\nSkipping line 6026: expected 1 fields, saw 3\\nSkipping line 6029: expected 1 fields, saw 2\\nSkipping line 6030: expected 1 fields, saw 2\\nSkipping line 6031: expected 1 fields, saw 4\\nSkipping line 6032: expected 1 fields, saw 3\\nSkipping line 6033: expected 1 fields, saw 3\\nSkipping line 6034: expected 1 fields, saw 3\\nSkipping line 6039: expected 1 fields, saw 2\\nSkipping line 6042: expected 1 fields, saw 5\\nSkipping line 6043: expected 1 fields, saw 2\\nSkipping line 6044: expected 1 fields, saw 4\\nSkipping line 6045: expected 1 fields, saw 2\\nSkipping line 6046: expected 1 fields, saw 3\\nSkipping line 6047: expected 1 fields, saw 2\\nSkipping line 6050: expected 1 fields, saw 2\\nSkipping line 6052: expected 1 fields, saw 3\\nSkipping line 6059: expected 1 fields, saw 2\\nSkipping line 6063: expected 1 fields, saw 3\\nSkipping line 6069: expected 1 fields, saw 4\\nSkipping line 6070: expected 1 fields, saw 4\\nSkipping line 6071: expected 1 fields, saw 2\\nSkipping line 6075: expected 1 fields, saw 5\\nSkipping line 6078: expected 1 fields, saw 2\\nSkipping line 6079: expected 1 fields, saw 4\\nSkipping line 6080: expected 1 fields, saw 2\\nSkipping line 6081: expected 1 fields, saw 4\\nSkipping line 6082: expected 1 fields, saw 2\\nSkipping line 6089: expected 1 fields, saw 3\\nSkipping line 6093: expected 1 fields, saw 2\\nSkipping line 6094: expected 1 fields, saw 2\\nSkipping line 6108: expected 1 fields, saw 5\\nSkipping line 6155: expected 1 fields, saw 2\\nSkipping line 6156: expected 1 fields, saw 3\\nSkipping line 6157: expected 1 fields, saw 2\\nSkipping line 6158: expected 1 fields, saw 2\\nSkipping line 6164: expected 1 fields, saw 2\\nSkipping line 6176: expected 1 fields, saw 2\\nSkipping line 6177: expected 1 fields, saw 3\\nSkipping line 6178: expected 1 fields, saw 2\\nSkipping line 6179: expected 1 fields, saw 3\\nSkipping line 6203: expected 1 fields, saw 3\\nSkipping line 6204: expected 1 fields, saw 3\\nSkipping line 6205: expected 1 fields, saw 2\\nSkipping line 6206: expected 1 fields, saw 2\\nSkipping line 6208: expected 1 fields, saw 2\\nSkipping line 6226: expected 1 fields, saw 4\\nSkipping line 6227: expected 1 fields, saw 4\\nSkipping line 6230: expected 1 fields, saw 3\\nSkipping line 6231: expected 1 fields, saw 3\\nSkipping line 6232: expected 1 fields, saw 3\\nSkipping line 6233: expected 1 fields, saw 4\\nSkipping line 6234: expected 1 fields, saw 2\\nSkipping line 6245: expected 1 fields, saw 2\\nSkipping line 6246: expected 1 fields, saw 2\\nSkipping line 6247: expected 1 fields, saw 3\\nSkipping line 6248: expected 1 fields, saw 2\\nSkipping line 6254: expected 1 fields, saw 4\\nSkipping line 6256: expected 1 fields, saw 2\\nSkipping line 6257: expected 1 fields, saw 2\\nSkipping line 6259: expected 1 fields, saw 4\\nSkipping line 6260: expected 1 fields, saw 3\\nSkipping line 6261: expected 1 fields, saw 4\\nSkipping line 6262: expected 1 fields, saw 3\\nSkipping line 6263: expected 1 fields, saw 2\\nSkipping line 6264: expected 1 fields, saw 2\\nSkipping line 6266: expected 1 fields, saw 4\\nSkipping line 6268: expected 1 fields, saw 3\\nSkipping line 6270: expected 1 fields, saw 5\\nSkipping line 6275: expected 1 fields, saw 2\\nSkipping line 6277: expected 1 fields, saw 2\\nSkipping line 6278: expected 1 fields, saw 4\\nSkipping line 6279: expected 1 fields, saw 4\\nSkipping line 6280: expected 1 fields, saw 4\\nSkipping line 6281: expected 1 fields, saw 4\\nSkipping line 6282: expected 1 fields, saw 5\\nSkipping line 6284: expected 1 fields, saw 2\\nSkipping line 6288: expected 1 fields, saw 2\\nSkipping line 6291: expected 1 fields, saw 4\\nSkipping line 6293: expected 1 fields, saw 3\\nSkipping line 6294: expected 1 fields, saw 2\\nSkipping line 6580: expected 1 fields, saw 2\\nSkipping line 6601: expected 1 fields, saw 2\\nSkipping line 6661: expected 1 fields, saw 3\\nSkipping line 6716: expected 1 fields, saw 2\\nSkipping line 6727: expected 1 fields, saw 2\\nSkipping line 6752: expected 1 fields, saw 2\\nSkipping line 6842: expected 1 fields, saw 2\\nSkipping line 6962: expected 1 fields, saw 2\\nSkipping line 7058: expected 1 fields, saw 2\\nSkipping line 7159: expected 1 fields, saw 2\\nSkipping line 7447: expected 1 fields, saw 3\\nSkipping line 7448: expected 1 fields, saw 3\\nSkipping line 7458: expected 1 fields, saw 4\\nSkipping line 7462: expected 1 fields, saw 3\\nSkipping line 7497: expected 1 fields, saw 5\\nSkipping line 7538: expected 1 fields, saw 2\\nSkipping line 7579: expected 1 fields, saw 3\\nSkipping line 7617: expected 1 fields, saw 2\\nSkipping line 7636: expected 1 fields, saw 3\\nSkipping line 7709: expected 1 fields, saw 3\\nSkipping line 7719: expected 1 fields, saw 2\\nSkipping line 7720: expected 1 fields, saw 2\\nSkipping line 7726: expected 1 fields, saw 4\\nSkipping line 7727: expected 1 fields, saw 4\\nSkipping line 7728: expected 1 fields, saw 4\\nSkipping line 7737: expected 1 fields, saw 3\\nSkipping line 7738: expected 1 fields, saw 3\\nSkipping line 7745: expected 1 fields, saw 3\\nSkipping line 7750: expected 1 fields, saw 2\\nSkipping line 7826: expected 1 fields, saw 2\\nSkipping line 7827: expected 1 fields, saw 2\\nSkipping line 7828: expected 1 fields, saw 2\\nSkipping line 7829: expected 1 fields, saw 2\\nSkipping line 7830: expected 1 fields, saw 2\\nSkipping line 7831: expected 1 fields, saw 2\\nSkipping line 7832: expected 1 fields, saw 3\\nSkipping line 7834: expected 1 fields, saw 2\\nSkipping line 7835: expected 1 fields, saw 2\\nSkipping line 7836: expected 1 fields, saw 2\\nSkipping line 7837: expected 1 fields, saw 2\\nSkipping line 7838: expected 1 fields, saw 2\\nSkipping line 7842: expected 1 fields, saw 2\\nSkipping line 7932: expected 1 fields, saw 2\\nSkipping line 8090: expected 1 fields, saw 2\\nSkipping line 8106: expected 1 fields, saw 2\\nSkipping line 8268: expected 1 fields, saw 2\\nSkipping line 8473: expected 1 fields, saw 3\\nSkipping line 8530: expected 1 fields, saw 2\\nSkipping line 8593: expected 1 fields, saw 2\\nSkipping line 8605: expected 1 fields, saw 2\\nSkipping line 8656: expected 1 fields, saw 2\\nSkipping line 8664: expected 1 fields, saw 3\\nSkipping line 8678: expected 1 fields, saw 2\\nSkipping line 8701: expected 1 fields, saw 2\\nSkipping line 8746: expected 1 fields, saw 2\\nSkipping line 8841: expected 1 fields, saw 2\\nSkipping line 8871: expected 1 fields, saw 2\\nSkipping line 8943: expected 1 fields, saw 2\\nSkipping line 8945: expected 1 fields, saw 2\\nSkipping line 8965: expected 1 fields, saw 5\\nSkipping line 8967: expected 1 fields, saw 2\\nSkipping line 8977: expected 1 fields, saw 2\\nSkipping line 8979: expected 1 fields, saw 2\\nSkipping line 8980: expected 1 fields, saw 2\\nSkipping line 8981: expected 1 fields, saw 2\\nSkipping line 8982: expected 1 fields, saw 2\\nSkipping line 8986: expected 1 fields, saw 6\\nSkipping line 9048: expected 1 fields, saw 2\\nSkipping line 9647: expected 1 fields, saw 2\\nSkipping line 9659: expected 1 fields, saw 4\\nSkipping line 9660: expected 1 fields, saw 4\\nSkipping line 9661: expected 1 fields, saw 4\\nSkipping line 9662: expected 1 fields, saw 4\\nSkipping line 9663: expected 1 fields, saw 4\\nSkipping line 9664: expected 1 fields, saw 4\\nSkipping line 9667: expected 1 fields, saw 2\\nSkipping line 9668: expected 1 fields, saw 2\\nSkipping line 9669: expected 1 fields, saw 2\\nSkipping line 9670: expected 1 fields, saw 2\\nSkipping line 9671: expected 1 fields, saw 2\\nSkipping line 9672: expected 1 fields, saw 2\\nSkipping line 9673: expected 1 fields, saw 2\\nSkipping line 9674: expected 1 fields, saw 2\\nSkipping line 9675: expected 1 fields, saw 2\\nSkipping line 9676: expected 1 fields, saw 2\\nSkipping line 9677: expected 1 fields, saw 2\\nSkipping line 9678: expected 1 fields, saw 2\\nSkipping line 9679: expected 1 fields, saw 2\\nSkipping line 9680: expected 1 fields, saw 2\\nSkipping line 9681: expected 1 fields, saw 2\\nSkipping line 9682: expected 1 fields, saw 2\\nSkipping line 9683: expected 1 fields, saw 2\\nSkipping line 9684: expected 1 fields, saw 2\\nSkipping line 9685: expected 1 fields, saw 2\\nSkipping line 9686: expected 1 fields, saw 2\\nSkipping line 9687: expected 1 fields, saw 2\\nSkipping line 9688: expected 1 fields, saw 2\\nSkipping line 9689: expected 1 fields, saw 2\\nSkipping line 9690: expected 1 fields, saw 2\\nSkipping line 9691: expected 1 fields, saw 2\\nSkipping line 9692: expected 1 fields, saw 2\\nSkipping line 9693: expected 1 fields, saw 2\\nSkipping line 9694: expected 1 fields, saw 2\\nSkipping line 9695: expected 1 fields, saw 2\\nSkipping line 9696: expected 1 fields, saw 2\\nSkipping line 9697: expected 1 fields, saw 2\\nSkipping line 9698: expected 1 fields, saw 2\\nSkipping line 9699: expected 1 fields, saw 2\\nSkipping line 9700: expected 1 fields, saw 2\\nSkipping line 9701: expected 1 fields, saw 2\\nSkipping line 9702: expected 1 fields, saw 2\\nSkipping line 9703: expected 1 fields, saw 2\\nSkipping line 9704: expected 1 fields, saw 2\\nSkipping line 9705: expected 1 fields, saw 2\\nSkipping line 9706: expected 1 fields, saw 2\\nSkipping line 9707: expected 1 fields, saw 2\\nSkipping line 9708: expected 1 fields, saw 2\\nSkipping line 9709: expected 1 fields, saw 2\\nSkipping line 9710: expected 1 fields, saw 2\\nSkipping line 9711: expected 1 fields, saw 2\\nSkipping line 9712: expected 1 fields, saw 2\\nSkipping line 9713: expected 1 fields, saw 2\\nSkipping line 9714: expected 1 fields, saw 2\\nSkipping line 9715: expected 1 fields, saw 2\\nSkipping line 9716: expected 1 fields, saw 2\\nSkipping line 9717: expected 1 fields, saw 2\\nSkipping line 9718: expected 1 fields, saw 2\\nSkipping line 9719: expected 1 fields, saw 2\\nSkipping line 9720: expected 1 fields, saw 2\\nSkipping line 9721: expected 1 fields, saw 2\\nSkipping line 9722: expected 1 fields, saw 2\\nSkipping line 9723: expected 1 fields, saw 2\\nSkipping line 9724: expected 1 fields, saw 2\\nSkipping line 9725: expected 1 fields, saw 2\\nSkipping line 9726: expected 1 fields, saw 2\\nSkipping line 9727: expected 1 fields, saw 2\\nSkipping line 9728: expected 1 fields, saw 2\\nSkipping line 9729: expected 1 fields, saw 2\\nSkipping line 9730: expected 1 fields, saw 2\\nSkipping line 9731: expected 1 fields, saw 2\\nSkipping line 9732: expected 1 fields, saw 2\\nSkipping line 9733: expected 1 fields, saw 2\\nSkipping line 9734: expected 1 fields, saw 2\\nSkipping line 9735: expected 1 fields, saw 2\\nSkipping line 9736: expected 1 fields, saw 2\\nSkipping line 9737: expected 1 fields, saw 2\\nSkipping line 9738: expected 1 fields, saw 2\\nSkipping line 9739: expected 1 fields, saw 2\\nSkipping line 9740: expected 1 fields, saw 2\\nSkipping line 9741: expected 1 fields, saw 2\\nSkipping line 9742: expected 1 fields, saw 2\\nSkipping line 9743: expected 1 fields, saw 2\\nSkipping line 9744: expected 1 fields, saw 2\\nSkipping line 9745: expected 1 fields, saw 2\\nSkipping line 9746: expected 1 fields, saw 2\\nSkipping line 9747: expected 1 fields, saw 2\\nSkipping line 9748: expected 1 fields, saw 2\\nSkipping line 9749: expected 1 fields, saw 2\\nSkipping line 9750: expected 1 fields, saw 2\\nSkipping line 9751: expected 1 fields, saw 2\\nSkipping line 9752: expected 1 fields, saw 2\\nSkipping line 9753: expected 1 fields, saw 2\\nSkipping line 9754: expected 1 fields, saw 2\\nSkipping line 9755: expected 1 fields, saw 2\\nSkipping line 9756: expected 1 fields, saw 2\\nSkipping line 9757: expected 1 fields, saw 2\\nSkipping line 9758: expected 1 fields, saw 2\\nSkipping line 9759: expected 1 fields, saw 2\\nSkipping line 9760: expected 1 fields, saw 2\\nSkipping line 9761: expected 1 fields, saw 2\\nSkipping line 9762: expected 1 fields, saw 2\\nSkipping line 9763: expected 1 fields, saw 2\\nSkipping line 9764: expected 1 fields, saw 2\\nSkipping line 9765: expected 1 fields, saw 2\\nSkipping line 9766: expected 1 fields, saw 2\\nSkipping line 9767: expected 1 fields, saw 2\\nSkipping line 9768: expected 1 fields, saw 2\\nSkipping line 9769: expected 1 fields, saw 2\\nSkipping line 9770: expected 1 fields, saw 2\\nSkipping line 9771: expected 1 fields, saw 2\\nSkipping line 9772: expected 1 fields, saw 2\\nSkipping line 9773: expected 1 fields, saw 2\\nSkipping line 9774: expected 1 fields, saw 2\\nSkipping line 9775: expected 1 fields, saw 2\\nSkipping line 9776: expected 1 fields, saw 2\\nSkipping line 9777: expected 1 fields, saw 2\\nSkipping line 9778: expected 1 fields, saw 2\\nSkipping line 9779: expected 1 fields, saw 2\\nSkipping line 9780: expected 1 fields, saw 2\\nSkipping line 9781: expected 1 fields, saw 2\\nSkipping line 9782: expected 1 fields, saw 2\\nSkipping line 9783: expected 1 fields, saw 2\\nSkipping line 9784: expected 1 fields, saw 2\\nSkipping line 9785: expected 1 fields, saw 2\\nSkipping line 9786: expected 1 fields, saw 2\\nSkipping line 9787: expected 1 fields, saw 2\\nSkipping line 9788: expected 1 fields, saw 2\\nSkipping line 9789: expected 1 fields, saw 2\\nSkipping line 9790: expected 1 fields, saw 2\\nSkipping line 9791: expected 1 fields, saw 2\\nSkipping line 9792: expected 1 fields, saw 2\\nSkipping line 9793: expected 1 fields, saw 2\\nSkipping line 9794: expected 1 fields, saw 2\\nSkipping line 9795: expected 1 fields, saw 2\\nSkipping line 9796: expected 1 fields, saw 2\\nSkipping line 9797: expected 1 fields, saw 2\\nSkipping line 9798: expected 1 fields, saw 2\\nSkipping line 9799: expected 1 fields, saw 2\\nSkipping line 9800: expected 1 fields, saw 2\\nSkipping line 9801: expected 1 fields, saw 2\\nSkipping line 9802: expected 1 fields, saw 2\\nSkipping line 9803: expected 1 fields, saw 2\\nSkipping line 9804: expected 1 fields, saw 2\\nSkipping line 9805: expected 1 fields, saw 2\\nSkipping line 9806: expected 1 fields, saw 2\\nSkipping line 9807: expected 1 fields, saw 2\\nSkipping line 9808: expected 1 fields, saw 2\\nSkipping line 9809: expected 1 fields, saw 2\\nSkipping line 9810: expected 1 fields, saw 2\\nSkipping line 9811: expected 1 fields, saw 5\\nSkipping line 9813: expected 1 fields, saw 2\\nSkipping line 9814: expected 1 fields, saw 2\\nSkipping line 9815: expected 1 fields, saw 2\\nSkipping line 9816: expected 1 fields, saw 2\\nSkipping line 9817: expected 1 fields, saw 2\\nSkipping line 9818: expected 1 fields, saw 2\\nSkipping line 9819: expected 1 fields, saw 2\\nSkipping line 9820: expected 1 fields, saw 2\\nSkipping line 9821: expected 1 fields, saw 2\\nSkipping line 9822: expected 1 fields, saw 2\\nSkipping line 9823: expected 1 fields, saw 2\\nSkipping line 9824: expected 1 fields, saw 2\\nSkipping line 9825: expected 1 fields, saw 2\\nSkipping line 9826: expected 1 fields, saw 2\\nSkipping line 9827: expected 1 fields, saw 2\\nSkipping line 9828: expected 1 fields, saw 2\\nSkipping line 9829: expected 1 fields, saw 2\\nSkipping line 9830: expected 1 fields, saw 2\\nSkipping line 9831: expected 1 fields, saw 2\\nSkipping line 9832: expected 1 fields, saw 2\\nSkipping line 9833: expected 1 fields, saw 2\\nSkipping line 9834: expected 1 fields, saw 2\\nSkipping line 9835: expected 1 fields, saw 2\\nSkipping line 9836: expected 1 fields, saw 2\\nSkipping line 9837: expected 1 fields, saw 2\\nSkipping line 9838: expected 1 fields, saw 2\\nSkipping line 9839: expected 1 fields, saw 2\\nSkipping line 9840: expected 1 fields, saw 2\\nSkipping line 9841: expected 1 fields, saw 2\\nSkipping line 9842: expected 1 fields, saw 2\\nSkipping line 9848: expected 1 fields, saw 2\\nSkipping line 9849: expected 1 fields, saw 2\\nSkipping line 9850: expected 1 fields, saw 2\\nSkipping line 9851: expected 1 fields, saw 2\\nSkipping line 9854: expected 1 fields, saw 2\\nSkipping line 9857: expected 1 fields, saw 2\\nSkipping line 9861: expected 1 fields, saw 2\\nSkipping line 9865: expected 1 fields, saw 2\\nSkipping line 9868: expected 1 fields, saw 2\\nSkipping line 9871: expected 1 fields, saw 2\\nSkipping line 9872: expected 1 fields, saw 2\\nSkipping line 9873: expected 1 fields, saw 2\\nSkipping line 9874: expected 1 fields, saw 2\\nSkipping line 9875: expected 1 fields, saw 2\\nSkipping line 9876: expected 1 fields, saw 2\\nSkipping line 9877: expected 1 fields, saw 2\\nSkipping line 9878: expected 1 fields, saw 2\\nSkipping line 9879: expected 1 fields, saw 2\\nSkipping line 9880: expected 1 fields, saw 2\\nSkipping line 9881: expected 1 fields, saw 3\\nSkipping line 9882: expected 1 fields, saw 3\\nSkipping line 9883: expected 1 fields, saw 2\\nSkipping line 9884: expected 1 fields, saw 2\\nSkipping line 10027: expected 1 fields, saw 2\\nSkipping line 11196: expected 1 fields, saw 2\\nSkipping line 11337: expected 1 fields, saw 2\\nSkipping line 11338: expected 1 fields, saw 2\\nSkipping line 11407: expected 1 fields, saw 2\\nSkipping line 11430: expected 1 fields, saw 2\\nSkipping line 11440: expected 1 fields, saw 2\\nSkipping line 11484: expected 1 fields, saw 2\\nSkipping line 11487: expected 1 fields, saw 2\\nSkipping line 11608: expected 1 fields, saw 2\\nSkipping line 11612: expected 1 fields, saw 2\\nSkipping line 11613: expected 1 fields, saw 3\\nSkipping line 11622: expected 1 fields, saw 2\\nSkipping line 11664: expected 1 fields, saw 3\\nSkipping line 11718: expected 1 fields, saw 2\\nSkipping line 11723: expected 1 fields, saw 3\\nSkipping line 11828: expected 1 fields, saw 2\\nSkipping line 12219: expected 1 fields, saw 2\\nSkipping line 12237: expected 1 fields, saw 2\\nSkipping line 12238: expected 1 fields, saw 2\\nSkipping line 12245: expected 1 fields, saw 2\\nSkipping line 12247: expected 1 fields, saw 2\\nSkipping line 12254: expected 1 fields, saw 2\\nSkipping line 12277: expected 1 fields, saw 2\\nSkipping line 12299: expected 1 fields, saw 2\\nSkipping line 12307: expected 1 fields, saw 2\\nSkipping line 12313: expected 1 fields, saw 2\\nSkipping line 12317: expected 1 fields, saw 2\\nSkipping line 12319: expected 1 fields, saw 2\\nSkipping line 12331: expected 1 fields, saw 2\\nSkipping line 12346: expected 1 fields, saw 2\\nSkipping line 12347: expected 1 fields, saw 2\\nSkipping line 12348: expected 1 fields, saw 2\\nSkipping line 12349: expected 1 fields, saw 3\\nSkipping line 12350: expected 1 fields, saw 2\\nSkipping line 12351: expected 1 fields, saw 2\\nSkipping line 12352: expected 1 fields, saw 2\\nSkipping line 12354: expected 1 fields, saw 2\\nSkipping line 12421: expected 1 fields, saw 2\\nSkipping line 12423: expected 1 fields, saw 2\\nSkipping line 12424: expected 1 fields, saw 3\\nSkipping line 12425: expected 1 fields, saw 3\\nSkipping line 12426: expected 1 fields, saw 4\\nSkipping line 12452: expected 1 fields, saw 2\\nSkipping line 12455: expected 1 fields, saw 3\\nSkipping line 12456: expected 1 fields, saw 4\\nSkipping line 12459: expected 1 fields, saw 2\\nSkipping line 12471: expected 1 fields, saw 4\\nSkipping line 12480: expected 1 fields, saw 4\\nSkipping line 12491: expected 1 fields, saw 2\\nSkipping line 12527: expected 1 fields, saw 2\\nSkipping line 12557: expected 1 fields, saw 2\\nSkipping line 12561: expected 1 fields, saw 4\\nSkipping line 12617: expected 1 fields, saw 2\\nSkipping line 12618: expected 1 fields, saw 2\\nSkipping line 12652: expected 1 fields, saw 2\\nSkipping line 12667: expected 1 fields, saw 3\\nSkipping line 12680: expected 1 fields, saw 3\\nSkipping line 12752: expected 1 fields, saw 2\\nSkipping line 12950: expected 1 fields, saw 2\\nSkipping line 13198: expected 1 fields, saw 4\\nSkipping line 13207: expected 1 fields, saw 2\\nSkipping line 13208: expected 1 fields, saw 2\\nSkipping line 13209: expected 1 fields, saw 2\\nSkipping line 13210: expected 1 fields, saw 2\\nSkipping line 13211: expected 1 fields, saw 2\\nSkipping line 13212: expected 1 fields, saw 2\\nSkipping line 13213: expected 1 fields, saw 2\\nSkipping line 13214: expected 1 fields, saw 2\\nSkipping line 13215: expected 1 fields, saw 2\\nSkipping line 13216: expected 1 fields, saw 2\\nSkipping line 13217: expected 1 fields, saw 2\\nSkipping line 13218: expected 1 fields, saw 2\\nSkipping line 13219: expected 1 fields, saw 2\\nSkipping line 13220: expected 1 fields, saw 2\\nSkipping line 13221: expected 1 fields, saw 2\\nSkipping line 13222: expected 1 fields, saw 2\\nSkipping line 13223: expected 1 fields, saw 2\\nSkipping line 13224: expected 1 fields, saw 2\\nSkipping line 13225: expected 1 fields, saw 2\\nSkipping line 13226: expected 1 fields, saw 2\\nSkipping line 13227: expected 1 fields, saw 2\\nSkipping line 13228: expected 1 fields, saw 2\\nSkipping line 13229: expected 1 fields, saw 2\\nSkipping line 13230: expected 1 fields, saw 2\\nSkipping line 13231: expected 1 fields, saw 2\\nSkipping line 13232: expected 1 fields, saw 2\\nSkipping line 13233: expected 1 fields, saw 2\\nSkipping line 13234: expected 1 fields, saw 2\\nSkipping line 13235: expected 1 fields, saw 2\\nSkipping line 13236: expected 1 fields, saw 2\\nSkipping line 13237: expected 1 fields, saw 2\\nSkipping line 13238: expected 1 fields, saw 2\\nSkipping line 13239: expected 1 fields, saw 2\\nSkipping line 13244: expected 1 fields, saw 2\\nSkipping line 13246: expected 1 fields, saw 2\\nSkipping line 13248: expected 1 fields, saw 2\\nSkipping line 13250: expected 1 fields, saw 2\\nSkipping line 13252: expected 1 fields, saw 2\\nSkipping line 13254: expected 1 fields, saw 2\\nSkipping line 13256: expected 1 fields, saw 2\\nSkipping line 13258: expected 1 fields, saw 2\\nSkipping line 13260: expected 1 fields, saw 2\\nSkipping line 13261: expected 1 fields, saw 2\\nSkipping line 13262: expected 1 fields, saw 2\\nSkipping line 13263: expected 1 fields, saw 2\\nSkipping line 13264: expected 1 fields, saw 2\\nSkipping line 13265: expected 1 fields, saw 2\\nSkipping line 13266: expected 1 fields, saw 2\\nSkipping line 13267: expected 1 fields, saw 2\\nSkipping line 13268: expected 1 fields, saw 2\\nSkipping line 13269: expected 1 fields, saw 2\\nSkipping line 13270: expected 1 fields, saw 2\\nSkipping line 13271: expected 1 fields, saw 2\\nSkipping line 13272: expected 1 fields, saw 2\\nSkipping line 13273: expected 1 fields, saw 2\\nSkipping line 13274: expected 1 fields, saw 2\\nSkipping line 13275: expected 1 fields, saw 2\\nSkipping line 13276: expected 1 fields, saw 2\\nSkipping line 13277: expected 1 fields, saw 2\\nSkipping line 13278: expected 1 fields, saw 2\\nSkipping line 13279: expected 1 fields, saw 2\\nSkipping line 13284: expected 1 fields, saw 3\\nSkipping line 13285: expected 1 fields, saw 4\\nSkipping line 13288: expected 1 fields, saw 2\\nSkipping line 13289: expected 1 fields, saw 2\\nSkipping line 13290: expected 1 fields, saw 4\\nSkipping line 13301: expected 1 fields, saw 2\\nSkipping line 13310: expected 1 fields, saw 3\\nSkipping line 13312: expected 1 fields, saw 4\\nSkipping line 13317: expected 1 fields, saw 3\\nSkipping line 13330: expected 1 fields, saw 4\\nSkipping line 13332: expected 1 fields, saw 3\\nSkipping line 13339: expected 1 fields, saw 2\\nSkipping line 13340: expected 1 fields, saw 3\\nSkipping line 13342: expected 1 fields, saw 4\\nSkipping line 13343: expected 1 fields, saw 3\\nSkipping line 13344: expected 1 fields, saw 2\\nSkipping line 13350: expected 1 fields, saw 3\\nSkipping line 13355: expected 1 fields, saw 4\\nSkipping line 13356: expected 1 fields, saw 4\\nSkipping line 13362: expected 1 fields, saw 4\\nSkipping line 13367: expected 1 fields, saw 4\\nSkipping line 13383: expected 1 fields, saw 2\\nSkipping line 13390: expected 1 fields, saw 4\\nSkipping line 13466: expected 1 fields, saw 2\\nSkipping line 13467: expected 1 fields, saw 2\\nSkipping line 13469: expected 1 fields, saw 2\\nSkipping line 13472: expected 1 fields, saw 2\\nSkipping line 13473: expected 1 fields, saw 2\\nSkipping line 13474: expected 1 fields, saw 2\\nSkipping line 13562: expected 1 fields, saw 2\\nSkipping line 13572: expected 1 fields, saw 4\\nSkipping line 13573: expected 1 fields, saw 4\\nSkipping line 13574: expected 1 fields, saw 4\\nSkipping line 13754: expected 1 fields, saw 2\\nSkipping line 13887: expected 1 fields, saw 3\\nSkipping line 14038: expected 1 fields, saw 2\\nSkipping line 14196: expected 1 fields, saw 2\\nSkipping line 14240: expected 1 fields, saw 2\\nSkipping line 14256: expected 1 fields, saw 2\\nSkipping line 14368: expected 1 fields, saw 2\\nSkipping line 14375: expected 1 fields, saw 2\\nSkipping line 14392: expected 1 fields, saw 2\\nSkipping line 14393: expected 1 fields, saw 3\\nSkipping line 14394: expected 1 fields, saw 3\\nSkipping line 14399: expected 1 fields, saw 2\\nSkipping line 14400: expected 1 fields, saw 3\\nSkipping line 14407: expected 1 fields, saw 3\\nSkipping line 14408: expected 1 fields, saw 3\\nSkipping line 14411: expected 1 fields, saw 3\\nSkipping line 14417: expected 1 fields, saw 3\\nSkipping line 14418: expected 1 fields, saw 3\\nSkipping line 14421: expected 1 fields, saw 3\\nSkipping line 14422: expected 1 fields, saw 3\\nSkipping line 14435: expected 1 fields, saw 2\\nSkipping line 14449: expected 1 fields, saw 3\\nSkipping line 14521: expected 1 fields, saw 2\\nSkipping line 14635: expected 1 fields, saw 2\\nSkipping line 14662: expected 1 fields, saw 3\\nSkipping line 14709: expected 1 fields, saw 2\\nSkipping line 14710: expected 1 fields, saw 2\\nSkipping line 14711: expected 1 fields, saw 2\\nSkipping line 14712: expected 1 fields, saw 2\\nSkipping line 14723: expected 1 fields, saw 3\\nSkipping line 14728: expected 1 fields, saw 2\\nSkipping line 14731: expected 1 fields, saw 2\\nSkipping line 14732: expected 1 fields, saw 2\\nSkipping line 14733: expected 1 fields, saw 2\\nSkipping line 14786: expected 1 fields, saw 2\\nSkipping line 14789: expected 1 fields, saw 2\\nSkipping line 14819: expected 1 fields, saw 2\\nSkipping line 14825: expected 1 fields, saw 3\\nSkipping line 14885: expected 1 fields, saw 2\\nSkipping line 14886: expected 1 fields, saw 2\\nSkipping line 14918: expected 1 fields, saw 2\\nSkipping line 14943: expected 1 fields, saw 2\\nSkipping line 14945: expected 1 fields, saw 2\\nSkipping line 14952: expected 1 fields, saw 4\\nSkipping line 14977: expected 1 fields, saw 2\\nSkipping line 14978: expected 1 fields, saw 2\\nSkipping line 14979: expected 1 fields, saw 2\\nSkipping line 15001: expected 1 fields, saw 2\\nSkipping line 15020: expected 1 fields, saw 2\\nSkipping line 15028: expected 1 fields, saw 2\\nSkipping line 15029: expected 1 fields, saw 2\\nSkipping line 15032: expected 1 fields, saw 2\\nSkipping line 15034: expected 1 fields, saw 2\\nSkipping line 15050: expected 1 fields, saw 3\\nSkipping line 15051: expected 1 fields, saw 3\\nSkipping line 15060: expected 1 fields, saw 2\\nSkipping line 15061: expected 1 fields, saw 2\\nSkipping line 15068: expected 1 fields, saw 4\\nSkipping line 15074: expected 1 fields, saw 2\\nSkipping line 15086: expected 1 fields, saw 3\\nSkipping line 15096: expected 1 fields, saw 2\\nSkipping line 15120: expected 1 fields, saw 2\\nSkipping line 15124: expected 1 fields, saw 2\\nSkipping line 15211: expected 1 fields, saw 2\\nSkipping line 15212: expected 1 fields, saw 2\\nSkipping line 15287: expected 1 fields, saw 2\\nSkipping line 15288: expected 1 fields, saw 3\\nSkipping line 15289: expected 1 fields, saw 3\\nSkipping line 15290: expected 1 fields, saw 3\\nSkipping line 15291: expected 1 fields, saw 3\\nSkipping line 15292: expected 1 fields, saw 3\\nSkipping line 15293: expected 1 fields, saw 3\\nSkipping line 15294: expected 1 fields, saw 3\\nSkipping line 15295: expected 1 fields, saw 3\\nSkipping line 15300: expected 1 fields, saw 3\\nSkipping line 15301: expected 1 fields, saw 3\\nSkipping line 15302: expected 1 fields, saw 3\\nSkipping line 15303: expected 1 fields, saw 3\\nSkipping line 15304: expected 1 fields, saw 3\\nSkipping line 15309: expected 1 fields, saw 3\\nSkipping line 15312: expected 1 fields, saw 2\\nSkipping line 15313: expected 1 fields, saw 2\\nSkipping line 15314: expected 1 fields, saw 2\\nSkipping line 15579: expected 1 fields, saw 2\\nSkipping line 15591: expected 1 fields, saw 3\\nSkipping line 15592: expected 1 fields, saw 3\\nSkipping line 15603: expected 1 fields, saw 2\\nSkipping line 15604: expected 1 fields, saw 2\\nSkipping line 15605: expected 1 fields, saw 2\\nSkipping line 15663: expected 1 fields, saw 2\\nSkipping line 15689: expected 1 fields, saw 3\\nSkipping line 15690: expected 1 fields, saw 4\\nSkipping line 15691: expected 1 fields, saw 3\\nSkipping line 15692: expected 1 fields, saw 4\\nSkipping line 15693: expected 1 fields, saw 4\\nSkipping line 15694: expected 1 fields, saw 3\\nSkipping line 15708: expected 1 fields, saw 4\\nSkipping line 15771: expected 1 fields, saw 2\\nSkipping line 15779: expected 1 fields, saw 2\\nSkipping line 15780: expected 1 fields, saw 2\\nSkipping line 15843: expected 1 fields, saw 2\\nSkipping line 15870: expected 1 fields, saw 2\\nSkipping line 15888: expected 1 fields, saw 2\\nSkipping line 15889: expected 1 fields, saw 2\\nSkipping line 15890: expected 1 fields, saw 2\\nSkipping line 15891: expected 1 fields, saw 2\\nSkipping line 15892: expected 1 fields, saw 2\\nSkipping line 15893: expected 1 fields, saw 2\\nSkipping line 15894: expected 1 fields, saw 2\\nSkipping line 15895: expected 1 fields, saw 2\\nSkipping line 15896: expected 1 fields, saw 2\\nSkipping line 15897: expected 1 fields, saw 2\\nSkipping line 15969: expected 1 fields, saw 2\\nSkipping line 16017: expected 1 fields, saw 4\\nSkipping line 16122: expected 1 fields, saw 2\\nSkipping line 16351: expected 1 fields, saw 4\\nSkipping line 16438: expected 1 fields, saw 4\\nSkipping line 16439: expected 1 fields, saw 2\\nSkipping line 16452: expected 1 fields, saw 3\\nSkipping line 16533: expected 1 fields, saw 3\\nSkipping line 16541: expected 1 fields, saw 4\\nSkipping line 16547: expected 1 fields, saw 3\\nSkipping line 16680: expected 1 fields, saw 3\\nSkipping line 16765: expected 1 fields, saw 2\\nSkipping line 16800: expected 1 fields, saw 3\\nSkipping line 16805: expected 1 fields, saw 4\\nSkipping line 16841: expected 1 fields, saw 3\\nSkipping line 16842: expected 1 fields, saw 3\\nSkipping line 16843: expected 1 fields, saw 3\\nSkipping line 16899: expected 1 fields, saw 2\\nSkipping line 16901: expected 1 fields, saw 5\\nSkipping line 16915: expected 1 fields, saw 2\\nSkipping line 16934: expected 1 fields, saw 2\\nSkipping line 16943: expected 1 fields, saw 3\\nSkipping line 16961: expected 1 fields, saw 5\\nSkipping line 16962: expected 1 fields, saw 4\\nSkipping line 16964: expected 1 fields, saw 2\\nSkipping line 17210: expected 1 fields, saw 2\\nSkipping line 17211: expected 1 fields, saw 2\\nSkipping line 17212: expected 1 fields, saw 2\\nSkipping line 17213: expected 1 fields, saw 2\\nSkipping line 17214: expected 1 fields, saw 2\\nSkipping line 17215: expected 1 fields, saw 4\\nSkipping line 17216: expected 1 fields, saw 2\\nSkipping line 17217: expected 1 fields, saw 2\\nSkipping line 17222: expected 1 fields, saw 2\\nSkipping line 17237: expected 1 fields, saw 2\\nSkipping line 17270: expected 1 fields, saw 4\\nSkipping line 17283: expected 1 fields, saw 3\\nSkipping line 17306: expected 1 fields, saw 2\\nSkipping line 17450: expected 1 fields, saw 2\\nSkipping line 17460: expected 1 fields, saw 2\\nSkipping line 17462: expected 1 fields, saw 3\\nSkipping line 17505: expected 1 fields, saw 3\\nSkipping line 17566: expected 1 fields, saw 3\\nSkipping line 17597: expected 1 fields, saw 2\\nSkipping line 17645: expected 1 fields, saw 2\\nSkipping line 17724: expected 1 fields, saw 2\\nSkipping line 17759: expected 1 fields, saw 2\\nSkipping line 18165: expected 1 fields, saw 2\\nSkipping line 18189: expected 1 fields, saw 2\\nSkipping line 18353: expected 1 fields, saw 2\\nSkipping line 18732: expected 1 fields, saw 2\\nSkipping line 18778: expected 1 fields, saw 2\\nSkipping line 18787: expected 1 fields, saw 2\\nSkipping line 18788: expected 1 fields, saw 6\\nSkipping line 18827: expected 1 fields, saw 2\\nSkipping line 18946: expected 1 fields, saw 4\\nSkipping line 19055: expected 1 fields, saw 2\\nSkipping line 19086: expected 1 fields, saw 2\\nSkipping line 19090: expected 1 fields, saw 2\\nSkipping line 19096: expected 1 fields, saw 2\\nSkipping line 19514: expected 1 fields, saw 2\\nSkipping line 19746: expected 1 fields, saw 2\\nSkipping line 19767: expected 1 fields, saw 2\\nSkipping line 19768: expected 1 fields, saw 2\\nSkipping line 19805: expected 1 fields, saw 2\\nSkipping line 19806: expected 1 fields, saw 2\\nSkipping line 19807: expected 1 fields, saw 2\\nSkipping line 19808: expected 1 fields, saw 2\\nSkipping line 19812: expected 1 fields, saw 2\\nSkipping line 19814: expected 1 fields, saw 2\\nSkipping line 19815: expected 1 fields, saw 2\\nSkipping line 19838: expected 1 fields, saw 2\\nSkipping line 19875: expected 1 fields, saw 2\\nSkipping line 20247: expected 1 fields, saw 2\\nSkipping line 20328: expected 1 fields, saw 2\\nSkipping line 20329: expected 1 fields, saw 2\\nSkipping line 20568: expected 1 fields, saw 3\\nSkipping line 20570: expected 1 fields, saw 3\\nSkipping line 20621: expected 1 fields, saw 2\\nSkipping line 20625: expected 1 fields, saw 3\\nSkipping line 20809: expected 1 fields, saw 2\\nSkipping line 20821: expected 1 fields, saw 2\\nSkipping line 20837: expected 1 fields, saw 2\\nSkipping line 20840: expected 1 fields, saw 2\\nSkipping line 20842: expected 1 fields, saw 2\\nSkipping line 20856: expected 1 fields, saw 2\\nSkipping line 20864: expected 1 fields, saw 2\\nSkipping line 20866: expected 1 fields, saw 2\\nSkipping line 20894: expected 1 fields, saw 3\\nSkipping line 20899: expected 1 fields, saw 3\\nSkipping line 20909: expected 1 fields, saw 3\\nSkipping line 20922: expected 1 fields, saw 3\\nSkipping line 20923: expected 1 fields, saw 3\\nSkipping line 20924: expected 1 fields, saw 3\\nSkipping line 20925: expected 1 fields, saw 2\\nSkipping line 20926: expected 1 fields, saw 2\\nSkipping line 20928: expected 1 fields, saw 2\\nSkipping line 20942: expected 1 fields, saw 3\\nSkipping line 20943: expected 1 fields, saw 3\\nSkipping line 20945: expected 1 fields, saw 3\\nSkipping line 20946: expected 1 fields, saw 3\\nSkipping line 20953: expected 1 fields, saw 3\\nSkipping line 20954: expected 1 fields, saw 3\\nSkipping line 20955: expected 1 fields, saw 3\\nSkipping line 20957: expected 1 fields, saw 2\\nSkipping line 20974: expected 1 fields, saw 3\\nSkipping line 20982: expected 1 fields, saw 2\\nSkipping line 20983: expected 1 fields, saw 2\\nSkipping line 21000: expected 1 fields, saw 2\\nSkipping line 21047: expected 1 fields, saw 2\\nSkipping line 21048: expected 1 fields, saw 2\\nSkipping line 21052: expected 1 fields, saw 2\\nSkipping line 21090: expected 1 fields, saw 2\\nSkipping line 21091: expected 1 fields, saw 2\\nSkipping line 21095: expected 1 fields, saw 2\\nSkipping line 21117: expected 1 fields, saw 2\\nSkipping line 21118: expected 1 fields, saw 2\\nSkipping line 21122: expected 1 fields, saw 2\\nSkipping line 21123: expected 1 fields, saw 2\\nSkipping line 21124: expected 1 fields, saw 2\\nSkipping line 21130: expected 1 fields, saw 3\\nSkipping line 21131: expected 1 fields, saw 3\\nSkipping line 21133: expected 1 fields, saw 3\\nSkipping line 21134: expected 1 fields, saw 2\\nSkipping line 21135: expected 1 fields, saw 2\\nSkipping line 21136: expected 1 fields, saw 3\\nSkipping line 21139: expected 1 fields, saw 2\\nSkipping line 21140: expected 1 fields, saw 2\\nSkipping line 21165: expected 1 fields, saw 2\\nSkipping line 21166: expected 1 fields, saw 2\\nSkipping line 21167: expected 1 fields, saw 2\\nSkipping line 21168: expected 1 fields, saw 2\\nSkipping line 21169: expected 1 fields, saw 2\\nSkipping line 21170: expected 1 fields, saw 2\\nSkipping line 21171: expected 1 fields, saw 2\\nSkipping line 21172: expected 1 fields, saw 2\\nSkipping line 21173: expected 1 fields, saw 2\\nSkipping line 21174: expected 1 fields, saw 2\\nSkipping line 21198: expected 1 fields, saw 2\\nSkipping line 21203: expected 1 fields, saw 2\\nSkipping line 21204: expected 1 fields, saw 2\\nSkipping line 21205: expected 1 fields, saw 2\\nSkipping line 21206: expected 1 fields, saw 3\\nSkipping line 21207: expected 1 fields, saw 3\\nSkipping line 21208: expected 1 fields, saw 3\\nSkipping line 21209: expected 1 fields, saw 3\\nSkipping line 21210: expected 1 fields, saw 3\\nSkipping line 21211: expected 1 fields, saw 3\\nSkipping line 21212: expected 1 fields, saw 3\\nSkipping line 21213: expected 1 fields, saw 3\\nSkipping line 21214: expected 1 fields, saw 3\\nSkipping line 21215: expected 1 fields, saw 3\\nSkipping line 21217: expected 1 fields, saw 3\\nSkipping line 21218: expected 1 fields, saw 2\\nSkipping line 21220: expected 1 fields, saw 2\\nSkipping line 21221: expected 1 fields, saw 2\\nSkipping line 21222: expected 1 fields, saw 2\\nSkipping line 21223: expected 1 fields, saw 3\\nSkipping line 21224: expected 1 fields, saw 3\\nSkipping line 21225: expected 1 fields, saw 3\\nSkipping line 21226: expected 1 fields, saw 3\\nSkipping line 21227: expected 1 fields, saw 3\\nSkipping line 21229: expected 1 fields, saw 3\\nSkipping line 21230: expected 1 fields, saw 3\\nSkipping line 21231: expected 1 fields, saw 3\\nSkipping line 21232: expected 1 fields, saw 3\\nSkipping line 21233: expected 1 fields, saw 3\\nSkipping line 21234: expected 1 fields, saw 2\\nSkipping line 21235: expected 1 fields, saw 2\\nSkipping line 21236: expected 1 fields, saw 2\\nSkipping line 21237: expected 1 fields, saw 2\\nSkipping line 21238: expected 1 fields, saw 3\\nSkipping line 21240: expected 1 fields, saw 3\\nSkipping line 21242: expected 1 fields, saw 2\\nSkipping line 21243: expected 1 fields, saw 2\\nSkipping line 21244: expected 1 fields, saw 3\\nSkipping line 21245: expected 1 fields, saw 2\\nSkipping line 21246: expected 1 fields, saw 2\\nSkipping line 21247: expected 1 fields, saw 2\\nSkipping line 21248: expected 1 fields, saw 3\\nSkipping line 21249: expected 1 fields, saw 3\\nSkipping line 21250: expected 1 fields, saw 2\\nSkipping line 21251: expected 1 fields, saw 2\\nSkipping line 21252: expected 1 fields, saw 2\\nSkipping line 21253: expected 1 fields, saw 2\\nSkipping line 21254: expected 1 fields, saw 2\\nSkipping line 21255: expected 1 fields, saw 2\\nSkipping line 21256: expected 1 fields, saw 2\\nSkipping line 21258: expected 1 fields, saw 2\\nSkipping line 21259: expected 1 fields, saw 2\\nSkipping line 21260: expected 1 fields, saw 2\\nSkipping line 21261: expected 1 fields, saw 2\\nSkipping line 21263: expected 1 fields, saw 2\\nSkipping line 21264: expected 1 fields, saw 2\\nSkipping line 21265: expected 1 fields, saw 2\\nSkipping line 21266: expected 1 fields, saw 2\\nSkipping line 21268: expected 1 fields, saw 2\\nSkipping line 21269: expected 1 fields, saw 3\\nSkipping line 21270: expected 1 fields, saw 3\\nSkipping line 21271: expected 1 fields, saw 3\\nSkipping line 21273: expected 1 fields, saw 3\\nSkipping line 21274: expected 1 fields, saw 3\\nSkipping line 21275: expected 1 fields, saw 3\\nSkipping line 21276: expected 1 fields, saw 3\\nSkipping line 21277: expected 1 fields, saw 3\\nSkipping line 21278: expected 1 fields, saw 2\\nSkipping line 21279: expected 1 fields, saw 2\\nSkipping line 21280: expected 1 fields, saw 2\\nSkipping line 21281: expected 1 fields, saw 2\\nSkipping line 21282: expected 1 fields, saw 2\\nSkipping line 21283: expected 1 fields, saw 2\\nSkipping line 21285: expected 1 fields, saw 3\\nSkipping line 21286: expected 1 fields, saw 3\\nSkipping line 21287: expected 1 fields, saw 3\\nSkipping line 21288: expected 1 fields, saw 2\\nSkipping line 21289: expected 1 fields, saw 2\\nSkipping line 21290: expected 1 fields, saw 2\\nSkipping line 21291: expected 1 fields, saw 2\\nSkipping line 21292: expected 1 fields, saw 2\\nSkipping line 21293: expected 1 fields, saw 2\\nSkipping line 21294: expected 1 fields, saw 3\\nSkipping line 21295: expected 1 fields, saw 3\\nSkipping line 21296: expected 1 fields, saw 3\\nSkipping line 21297: expected 1 fields, saw 3\\nSkipping line 21298: expected 1 fields, saw 3\\nSkipping line 21299: expected 1 fields, saw 3\\nSkipping line 21300: expected 1 fields, saw 3\\nSkipping line 21301: expected 1 fields, saw 3\\nSkipping line 21302: expected 1 fields, saw 3\\nSkipping line 21303: expected 1 fields, saw 3\\nSkipping line 21307: expected 1 fields, saw 3\\nSkipping line 21324: expected 1 fields, saw 2\\nSkipping line 21368: expected 1 fields, saw 2\\nSkipping line 21373: expected 1 fields, saw 3\\nSkipping line 21389: expected 1 fields, saw 2\\nSkipping line 21392: expected 1 fields, saw 3\\nSkipping line 21463: expected 1 fields, saw 3\\nSkipping line 21535: expected 1 fields, saw 2\\nSkipping line 21564: expected 1 fields, saw 2\\nSkipping line 21575: expected 1 fields, saw 2\\nSkipping line 21580: expected 1 fields, saw 2\\nSkipping line 21584: expected 1 fields, saw 2\\nSkipping line 21587: expected 1 fields, saw 2\\nSkipping line 22096: expected 1 fields, saw 2\\nSkipping line 22563: expected 1 fields, saw 2\\nSkipping line 22633: expected 1 fields, saw 3\\nSkipping line 22783: expected 1 fields, saw 2\\nSkipping line 22820: expected 1 fields, saw 3\\nSkipping line 22823: expected 1 fields, saw 5\\nSkipping line 22836: expected 1 fields, saw 2\\nSkipping line 22838: expected 1 fields, saw 3\\nSkipping line 22839: expected 1 fields, saw 4\\nSkipping line 22903: expected 1 fields, saw 4\\nSkipping line 22964: expected 1 fields, saw 2\\nSkipping line 22973: expected 1 fields, saw 2\\nSkipping line 23072: expected 1 fields, saw 2\\nSkipping line 23083: expected 1 fields, saw 2\\nSkipping line 23094: expected 1 fields, saw 2\\nSkipping line 23105: expected 1 fields, saw 3\\nSkipping line 23128: expected 1 fields, saw 4\\nSkipping line 23129: expected 1 fields, saw 4\\nSkipping line 23130: expected 1 fields, saw 4\\nSkipping line 23135: expected 1 fields, saw 4\\nSkipping line 23137: expected 1 fields, saw 4\\nSkipping line 23139: expected 1 fields, saw 3\\nSkipping line 23395: expected 1 fields, saw 2\\nSkipping line 23819: expected 1 fields, saw 3\\nSkipping line 23820: expected 1 fields, saw 3\\nSkipping line 23847: expected 1 fields, saw 2\\nSkipping line 24455: expected 1 fields, saw 2\\nSkipping line 24457: expected 1 fields, saw 2\\nSkipping line 24465: expected 1 fields, saw 2\\nSkipping line 24466: expected 1 fields, saw 2\\nSkipping line 24467: expected 1 fields, saw 2\\nSkipping line 24469: expected 1 fields, saw 2\\nSkipping line 24472: expected 1 fields, saw 2\\nSkipping line 24473: expected 1 fields, saw 2\\nSkipping line 24474: expected 1 fields, saw 2\\nSkipping line 24481: expected 1 fields, saw 2\\nSkipping line 24483: expected 1 fields, saw 2\\nSkipping line 24486: expected 1 fields, saw 2\\nSkipping line 24487: expected 1 fields, saw 2\\nSkipping line 24488: expected 1 fields, saw 2\\nSkipping line 24491: expected 1 fields, saw 2\\nSkipping line 24493: expected 1 fields, saw 2\\nSkipping line 24494: expected 1 fields, saw 2\\nSkipping line 24495: expected 1 fields, saw 2\\nSkipping line 24496: expected 1 fields, saw 2\\nSkipping line 24500: expected 1 fields, saw 2\\nSkipping line 24501: expected 1 fields, saw 2\\nSkipping line 24513: expected 1 fields, saw 2\\nSkipping line 24516: expected 1 fields, saw 2\\nSkipping line 24517: expected 1 fields, saw 2\\nSkipping line 24575: expected 1 fields, saw 2\\nSkipping line 24590: expected 1 fields, saw 2\\nSkipping line 24599: expected 1 fields, saw 4\\nSkipping line 24747: expected 1 fields, saw 2\\nSkipping line 24763: expected 1 fields, saw 2\\nSkipping line 24876: expected 1 fields, saw 2\\nSkipping line 25096: expected 1 fields, saw 2\\nSkipping line 25103: expected 1 fields, saw 3\\nSkipping line 25107: expected 1 fields, saw 4\\nSkipping line 25115: expected 1 fields, saw 3\\nSkipping line 25116: expected 1 fields, saw 3\\nSkipping line 25118: expected 1 fields, saw 2\\nSkipping line 25186: expected 1 fields, saw 2\\nSkipping line 25188: expected 1 fields, saw 2\\nSkipping line 25321: expected 1 fields, saw 2\\nSkipping line 25322: expected 1 fields, saw 2\\nSkipping line 25334: expected 1 fields, saw 2\\nSkipping line 25372: expected 1 fields, saw 3\\nSkipping line 25373: expected 1 fields, saw 3\\nSkipping line 25374: expected 1 fields, saw 3\\nSkipping line 25387: expected 1 fields, saw 3\\nSkipping line 25388: expected 1 fields, saw 3\\nSkipping line 25396: expected 1 fields, saw 3\\nSkipping line 25398: expected 1 fields, saw 2\\nSkipping line 25399: expected 1 fields, saw 2\\nSkipping line 25403: expected 1 fields, saw 2\\nSkipping line 25406: expected 1 fields, saw 2\\nSkipping line 25408: expected 1 fields, saw 2\\nSkipping line 25410: expected 1 fields, saw 2\\nSkipping line 25412: expected 1 fields, saw 2\\nSkipping line 25413: expected 1 fields, saw 2\\nSkipping line 25414: expected 1 fields, saw 2\\nSkipping line 25415: expected 1 fields, saw 2\\nSkipping line 25473: expected 1 fields, saw 2\\nSkipping line 25484: expected 1 fields, saw 2\\nSkipping line 25488: expected 1 fields, saw 2\\nSkipping line 25490: expected 1 fields, saw 2\\nSkipping line 25492: expected 1 fields, saw 2\\nSkipping line 25494: expected 1 fields, saw 2\\nSkipping line 25495: expected 1 fields, saw 2\\nSkipping line 25496: expected 1 fields, saw 2\\nSkipping line 25498: expected 1 fields, saw 2\\nSkipping line 25499: expected 1 fields, saw 2\\nSkipping line 25501: expected 1 fields, saw 2\\nSkipping line 25503: expected 1 fields, saw 2\\nSkipping line 25504: expected 1 fields, saw 2\\nSkipping line 25506: expected 1 fields, saw 2\\nSkipping line 25507: expected 1 fields, saw 2\\nSkipping line 25508: expected 1 fields, saw 3\\nSkipping line 25509: expected 1 fields, saw 2\\nSkipping line 25510: expected 1 fields, saw 2\\nSkipping line 25512: expected 1 fields, saw 2\\nSkipping line 25515: expected 1 fields, saw 2\\nSkipping line 25516: expected 1 fields, saw 2\\nSkipping line 25517: expected 1 fields, saw 2\\nSkipping line 25518: expected 1 fields, saw 2\\nSkipping line 25519: expected 1 fields, saw 2\\nSkipping line 25520: expected 1 fields, saw 2\\nSkipping line 25521: expected 1 fields, saw 2\\nSkipping line 25522: expected 1 fields, saw 2\\nSkipping line 25523: expected 1 fields, saw 2\\nSkipping line 25524: expected 1 fields, saw 2\\nSkipping line 25527: expected 1 fields, saw 2\\nSkipping line 25528: expected 1 fields, saw 2\\nSkipping line 25529: expected 1 fields, saw 2\\nSkipping line 25530: expected 1 fields, saw 2\\nSkipping line 25531: expected 1 fields, saw 2\\nSkipping line 25532: expected 1 fields, saw 2\\nSkipping line 25533: expected 1 fields, saw 2\\nSkipping line 25534: expected 1 fields, saw 2\\nSkipping line 25535: expected 1 fields, saw 2\\nSkipping line 25536: expected 1 fields, saw 2\\nSkipping line 25537: expected 1 fields, saw 2\\nSkipping line 25538: expected 1 fields, saw 2\\nSkipping line 25539: expected 1 fields, saw 2\\nSkipping line 25540: expected 1 fields, saw 2\\nSkipping line 25541: expected 1 fields, saw 2\\nSkipping line 25542: expected 1 fields, saw 2\\nSkipping line 25543: expected 1 fields, saw 2\\nSkipping line 25544: expected 1 fields, saw 2\\nSkipping line 25546: expected 1 fields, saw 2\\nSkipping line 25547: expected 1 fields, saw 2\\nSkipping line 25549: expected 1 fields, saw 2\\nSkipping line 25550: expected 1 fields, saw 2\\nSkipping line 25552: expected 1 fields, saw 2\\nSkipping line 25554: expected 1 fields, saw 2\\nSkipping line 25556: expected 1 fields, saw 2\\nSkipping line 25558: expected 1 fields, saw 2\\nSkipping line 25559: expected 1 fields, saw 2\\nSkipping line 25561: expected 1 fields, saw 2\\nSkipping line 25562: expected 1 fields, saw 2\\nSkipping line 25563: expected 1 fields, saw 2\\nSkipping line 25565: expected 1 fields, saw 2\\nSkipping line 25566: expected 1 fields, saw 2\\nSkipping line 25568: expected 1 fields, saw 2\\nSkipping line 25569: expected 1 fields, saw 2\\nSkipping line 25570: expected 1 fields, saw 2\\nSkipping line 25571: expected 1 fields, saw 2\\nSkipping line 25572: expected 1 fields, saw 2\\nSkipping line 25573: expected 1 fields, saw 2\\nSkipping line 25574: expected 1 fields, saw 2\\nSkipping line 25575: expected 1 fields, saw 2\\nSkipping line 25578: expected 1 fields, saw 2\\nSkipping line 25579: expected 1 fields, saw 2\\nSkipping line 25580: expected 1 fields, saw 2\\nSkipping line 25584: expected 1 fields, saw 2\\nSkipping line 25585: expected 1 fields, saw 2\\nSkipping line 25586: expected 1 fields, saw 2\\nSkipping line 25588: expected 1 fields, saw 2\\nSkipping line 25590: expected 1 fields, saw 2\\nSkipping line 25591: expected 1 fields, saw 2\\nSkipping line 25592: expected 1 fields, saw 2\\nSkipping line 25594: expected 1 fields, saw 3\\nSkipping line 25596: expected 1 fields, saw 2\\nSkipping line 25597: expected 1 fields, saw 2\\nSkipping line 25599: expected 1 fields, saw 2\\nSkipping line 25600: expected 1 fields, saw 2\\nSkipping line 25602: expected 1 fields, saw 2\\nSkipping line 25604: expected 1 fields, saw 2\\nSkipping line 25605: expected 1 fields, saw 2\\nSkipping line 25618: expected 1 fields, saw 2\\nSkipping line 25624: expected 1 fields, saw 2\\nSkipping line 25639: expected 1 fields, saw 4\\nSkipping line 25640: expected 1 fields, saw 2\\nSkipping line 25644: expected 1 fields, saw 3\\nSkipping line 25646: expected 1 fields, saw 2\\nSkipping line 25647: expected 1 fields, saw 2\\nSkipping line 25648: expected 1 fields, saw 2\\nSkipping line 25656: expected 1 fields, saw 2\\nSkipping line 25657: expected 1 fields, saw 2\\nSkipping line 25659: expected 1 fields, saw 2\\nSkipping line 25660: expected 1 fields, saw 2\\nSkipping line 25662: expected 1 fields, saw 2\\nSkipping line 25663: expected 1 fields, saw 2\\nSkipping line 25667: expected 1 fields, saw 2\\nSkipping line 25669: expected 1 fields, saw 3\\nSkipping line 25670: expected 1 fields, saw 2\\nSkipping line 25672: expected 1 fields, saw 2\\nSkipping line 25673: expected 1 fields, saw 2\\nSkipping line 25674: expected 1 fields, saw 2\\nSkipping line 25675: expected 1 fields, saw 2\\nSkipping line 25677: expected 1 fields, saw 2\\nSkipping line 25678: expected 1 fields, saw 2\\nSkipping line 25679: expected 1 fields, saw 2\\nSkipping line 25680: expected 1 fields, saw 2\\nSkipping line 25681: expected 1 fields, saw 2\\nSkipping line 25682: expected 1 fields, saw 2\\nSkipping line 25688: expected 1 fields, saw 2\\nSkipping line 25689: expected 1 fields, saw 2\\nSkipping line 25690: expected 1 fields, saw 2\\nSkipping line 25691: expected 1 fields, saw 2\\nSkipping line 25693: expected 1 fields, saw 2\\nSkipping line 25694: expected 1 fields, saw 2\\nSkipping line 25695: expected 1 fields, saw 2\\nSkipping line 25696: expected 1 fields, saw 2\\nSkipping line 25699: expected 1 fields, saw 2\\nSkipping line 25700: expected 1 fields, saw 2\\nSkipping line 25701: expected 1 fields, saw 2\\nSkipping line 25707: expected 1 fields, saw 2\\nSkipping line 25708: expected 1 fields, saw 2\\nSkipping line 25709: expected 1 fields, saw 2\\nSkipping line 25710: expected 1 fields, saw 2\\nSkipping line 25711: expected 1 fields, saw 2\\nSkipping line 25712: expected 1 fields, saw 2\\nSkipping line 25714: expected 1 fields, saw 2\\nSkipping line 25715: expected 1 fields, saw 2\\nSkipping line 25716: expected 1 fields, saw 2\\nSkipping line 25719: expected 1 fields, saw 2\\nSkipping line 25725: expected 1 fields, saw 2\\nSkipping line 25727: expected 1 fields, saw 2\\nSkipping line 25728: expected 1 fields, saw 2\\nSkipping line 25730: expected 1 fields, saw 2\\nSkipping line 25732: expected 1 fields, saw 2\\nSkipping line 25740: expected 1 fields, saw 2\\nSkipping line 25743: expected 1 fields, saw 2\\nSkipping line 25744: expected 1 fields, saw 2\\nSkipping line 25746: expected 1 fields, saw 2\\nSkipping line 25747: expected 1 fields, saw 2\\nSkipping line 25748: expected 1 fields, saw 2\\nSkipping line 25751: expected 1 fields, saw 2\\nSkipping line 25753: expected 1 fields, saw 2\\nSkipping line 25755: expected 1 fields, saw 2\\nSkipping line 25768: expected 1 fields, saw 2\\nSkipping line 25769: expected 1 fields, saw 2\\nSkipping line 25785: expected 1 fields, saw 2\\nSkipping line 25822: expected 1 fields, saw 2\\nSkipping line 25827: expected 1 fields, saw 2\\nSkipping line 25833: expected 1 fields, saw 2\\nSkipping line 25834: expected 1 fields, saw 2\\nSkipping line 25835: expected 1 fields, saw 2\\nSkipping line 25836: expected 1 fields, saw 2\\nSkipping line 25837: expected 1 fields, saw 2\\nSkipping line 25838: expected 1 fields, saw 2\\nSkipping line 25840: expected 1 fields, saw 2\\nSkipping line 25841: expected 1 fields, saw 2\\nSkipping line 25842: expected 1 fields, saw 2\\nSkipping line 25845: expected 1 fields, saw 2\\nSkipping line 25849: expected 1 fields, saw 2\\nSkipping line 25855: expected 1 fields, saw 2\\nSkipping line 25856: expected 1 fields, saw 2\\nSkipping line 25857: expected 1 fields, saw 2\\nSkipping line 25861: expected 1 fields, saw 2\\nSkipping line 25863: expected 1 fields, saw 2\\nSkipping line 25864: expected 1 fields, saw 2\\nSkipping line 25868: expected 1 fields, saw 2\\nSkipping line 25871: expected 1 fields, saw 2\\nSkipping line 25874: expected 1 fields, saw 2\\nSkipping line 25875: expected 1 fields, saw 2\\nSkipping line 25876: expected 1 fields, saw 2\\nSkipping line 25877: expected 1 fields, saw 2\\nSkipping line 25889: expected 1 fields, saw 2\\nSkipping line 25913: expected 1 fields, saw 2\\nSkipping line 25924: expected 1 fields, saw 2\\nSkipping line 25996: expected 1 fields, saw 2\\nSkipping line 26007: expected 1 fields, saw 2\\nSkipping line 26049: expected 1 fields, saw 2\\nSkipping line 26052: expected 1 fields, saw 2\\nSkipping line 26053: expected 1 fields, saw 4\\nSkipping line 26064: expected 1 fields, saw 2\\nSkipping line 26067: expected 1 fields, saw 2\\nSkipping line 26068: expected 1 fields, saw 2\\nSkipping line 26081: expected 1 fields, saw 2\\nSkipping line 26082: expected 1 fields, saw 2\\nSkipping line 26092: expected 1 fields, saw 3\\nSkipping line 26093: expected 1 fields, saw 4\\nSkipping line 26095: expected 1 fields, saw 4\\nSkipping line 26096: expected 1 fields, saw 2\\nSkipping line 26098: expected 1 fields, saw 2\\nSkipping line 26105: expected 1 fields, saw 3\\nSkipping line 26108: expected 1 fields, saw 3\\nSkipping line 26109: expected 1 fields, saw 2\\nSkipping line 26111: expected 1 fields, saw 2\\nSkipping line 26112: expected 1 fields, saw 2\\nSkipping line 26113: expected 1 fields, saw 2\\nSkipping line 26116: expected 1 fields, saw 4\\nSkipping line 26117: expected 1 fields, saw 3\\nSkipping line 26118: expected 1 fields, saw 4\\nSkipping line 26119: expected 1 fields, saw 3\\nSkipping line 26121: expected 1 fields, saw 3\\nSkipping line 26123: expected 1 fields, saw 2\\nSkipping line 26128: expected 1 fields, saw 2\\nSkipping line 26130: expected 1 fields, saw 2\\nSkipping line 26131: expected 1 fields, saw 2\\nSkipping line 26133: expected 1 fields, saw 2\\nSkipping line 26138: expected 1 fields, saw 3\\nSkipping line 26143: expected 1 fields, saw 3\\nSkipping line 26146: expected 1 fields, saw 2\\nSkipping line 26147: expected 1 fields, saw 2\\nSkipping line 26148: expected 1 fields, saw 3\\nSkipping line 26151: expected 1 fields, saw 4\\nSkipping line 26155: expected 1 fields, saw 2\\nSkipping line 26171: expected 1 fields, saw 2\\nSkipping line 26172: expected 1 fields, saw 3\\nSkipping line 26173: expected 1 fields, saw 4\\nSkipping line 26174: expected 1 fields, saw 4\\nSkipping line 26175: expected 1 fields, saw 2\\nSkipping line 26176: expected 1 fields, saw 2\\nSkipping line 26200: expected 1 fields, saw 2\\nSkipping line 26204: expected 1 fields, saw 4\\nSkipping line 26205: expected 1 fields, saw 4\\nSkipping line 26206: expected 1 fields, saw 4\\nSkipping line 26240: expected 1 fields, saw 2\\nSkipping line 26280: expected 1 fields, saw 2\\nSkipping line 26281: expected 1 fields, saw 2\\nSkipping line 26283: expected 1 fields, saw 2\\nSkipping line 26284: expected 1 fields, saw 4\\nSkipping line 26301: expected 1 fields, saw 4\\nSkipping line 26314: expected 1 fields, saw 2\\nSkipping line 26318: expected 1 fields, saw 3\\nSkipping line 26321: expected 1 fields, saw 3\\nSkipping line 26326: expected 1 fields, saw 3\\nSkipping line 26331: expected 1 fields, saw 3\\nSkipping line 26348: expected 1 fields, saw 2\\nSkipping line 26350: expected 1 fields, saw 3\\nSkipping line 26358: expected 1 fields, saw 3\\nSkipping line 26359: expected 1 fields, saw 3\\nSkipping line 26360: expected 1 fields, saw 3\\nSkipping line 26361: expected 1 fields, saw 3\\nSkipping line 26363: expected 1 fields, saw 2\\nSkipping line 26364: expected 1 fields, saw 3\\nSkipping line 26366: expected 1 fields, saw 3\\nSkipping line 26367: expected 1 fields, saw 2\\nSkipping line 26369: expected 1 fields, saw 2\\nSkipping line 26396: expected 1 fields, saw 2\\nSkipping line 26399: expected 1 fields, saw 2\\nSkipping line 26401: expected 1 fields, saw 2\\nSkipping line 26403: expected 1 fields, saw 3\\nSkipping line 26418: expected 1 fields, saw 2\\nSkipping line 26424: expected 1 fields, saw 3\\nSkipping line 26425: expected 1 fields, saw 2\\nSkipping line 26426: expected 1 fields, saw 3\\nSkipping line 26460: expected 1 fields, saw 2\\nSkipping line 26461: expected 1 fields, saw 3\\nSkipping line 26463: expected 1 fields, saw 3\\nSkipping line 26464: expected 1 fields, saw 3\\nSkipping line 26465: expected 1 fields, saw 4\\nSkipping line 26470: expected 1 fields, saw 3\\nSkipping line 26482: expected 1 fields, saw 5\\nSkipping line 26483: expected 1 fields, saw 2\\nSkipping line 26484: expected 1 fields, saw 2\\nSkipping line 26502: expected 1 fields, saw 2\\nSkipping line 26513: expected 1 fields, saw 2\\nSkipping line 26515: expected 1 fields, saw 4\\nSkipping line 26517: expected 1 fields, saw 2\\nSkipping line 26518: expected 1 fields, saw 2\\nSkipping line 26520: expected 1 fields, saw 2\\nSkipping line 26521: expected 1 fields, saw 2\\nSkipping line 26522: expected 1 fields, saw 2\\nSkipping line 26525: expected 1 fields, saw 3\\nSkipping line 26541: expected 1 fields, saw 3\\nSkipping line 26542: expected 1 fields, saw 2\\nSkipping line 26545: expected 1 fields, saw 2\\nSkipping line 26547: expected 1 fields, saw 2\\nSkipping line 26548: expected 1 fields, saw 2\\nSkipping line 26553: expected 1 fields, saw 3\\nSkipping line 26563: expected 1 fields, saw 2\\nSkipping line 26566: expected 1 fields, saw 2\\nSkipping line 26567: expected 1 fields, saw 3\\nSkipping line 26575: expected 1 fields, saw 2\\nSkipping line 26576: expected 1 fields, saw 2\\nSkipping line 26587: expected 1 fields, saw 2\\nSkipping line 26606: expected 1 fields, saw 3\\nSkipping line 26607: expected 1 fields, saw 2\\nSkipping line 26608: expected 1 fields, saw 2\\nSkipping line 26619: expected 1 fields, saw 4\\nSkipping line 26628: expected 1 fields, saw 2\\nSkipping line 26629: expected 1 fields, saw 6\\nSkipping line 26630: expected 1 fields, saw 6\\nSkipping line 26633: expected 1 fields, saw 3\\nSkipping line 26634: expected 1 fields, saw 4\\nSkipping line 26645: expected 1 fields, saw 4\\nSkipping line 26680: expected 1 fields, saw 2\\nSkipping line 26681: expected 1 fields, saw 4\\nSkipping line 26683: expected 1 fields, saw 2\\nSkipping line 26721: expected 1 fields, saw 2\\nSkipping line 27083: expected 1 fields, saw 3\\nSkipping line 27084: expected 1 fields, saw 3\\nSkipping line 27085: expected 1 fields, saw 2\\nSkipping line 27125: expected 1 fields, saw 2\\nSkipping line 27181: expected 1 fields, saw 5\\nSkipping line 27192: expected 1 fields, saw 2\\nSkipping line 27193: expected 1 fields, saw 2\\nSkipping line 27194: expected 1 fields, saw 2\\nSkipping line 27196: expected 1 fields, saw 3\\nSkipping line 27219: expected 1 fields, saw 2\\nSkipping line 27229: expected 1 fields, saw 2\\nSkipping line 27230: expected 1 fields, saw 2\\nSkipping line 27367: expected 1 fields, saw 3\\nSkipping line 27375: expected 1 fields, saw 3\\nSkipping line 27607: expected 1 fields, saw 2\\nSkipping line 27608: expected 1 fields, saw 2\\nSkipping line 27609: expected 1 fields, saw 2\\nSkipping line 27645: expected 1 fields, saw 2\\nSkipping line 27719: expected 1 fields, saw 3\\nSkipping line 27759: expected 1 fields, saw 3\\nSkipping line 27762: expected 1 fields, saw 3\\nSkipping line 27763: expected 1 fields, saw 2\\nSkipping line 27767: expected 1 fields, saw 2\\nSkipping line 27811: expected 1 fields, saw 5\\nSkipping line 27812: expected 1 fields, saw 5\\nSkipping line 27827: expected 1 fields, saw 2\\nSkipping line 27831: expected 1 fields, saw 2\\nSkipping line 27834: expected 1 fields, saw 2\\nSkipping line 27835: expected 1 fields, saw 2\\nSkipping line 27836: expected 1 fields, saw 2\\nSkipping line 27837: expected 1 fields, saw 2\\nSkipping line 27838: expected 1 fields, saw 2\\nSkipping line 27842: expected 1 fields, saw 2\\nSkipping line 27843: expected 1 fields, saw 2\\nSkipping line 27844: expected 1 fields, saw 2\\nSkipping line 27858: expected 1 fields, saw 2\\nSkipping line 27887: expected 1 fields, saw 3\\nSkipping line 27896: expected 1 fields, saw 3\\nSkipping line 27994: expected 1 fields, saw 2\\nSkipping line 27995: expected 1 fields, saw 2\\nSkipping line 27996: expected 1 fields, saw 2\\nSkipping line 28021: expected 1 fields, saw 2\\nSkipping line 28022: expected 1 fields, saw 2\\nSkipping line 28023: expected 1 fields, saw 2\\nSkipping line 28024: expected 1 fields, saw 3\\nSkipping line 28025: expected 1 fields, saw 3\\nSkipping line 28026: expected 1 fields, saw 3\\nSkipping line 28030: expected 1 fields, saw 2\\nSkipping line 28074: expected 1 fields, saw 2\\nSkipping line 28075: expected 1 fields, saw 2\\nSkipping line 28076: expected 1 fields, saw 2\\nSkipping line 28077: expected 1 fields, saw 2\\nSkipping line 28122: expected 1 fields, saw 3\\nSkipping line 28123: expected 1 fields, saw 2\\nSkipping line 28131: expected 1 fields, saw 3\\nSkipping line 28140: expected 1 fields, saw 3\\nSkipping line 28141: expected 1 fields, saw 2\\nSkipping line 28145: expected 1 fields, saw 2\\nSkipping line 28148: expected 1 fields, saw 3\\nSkipping line 28149: expected 1 fields, saw 2\\nSkipping line 28150: expected 1 fields, saw 3\\nSkipping line 28162: expected 1 fields, saw 3\\nSkipping line 28173: expected 1 fields, saw 3\\nSkipping line 28178: expected 1 fields, saw 3\\nSkipping line 28180: expected 1 fields, saw 4\\nSkipping line 28181: expected 1 fields, saw 3\\nSkipping line 28185: expected 1 fields, saw 2\\nSkipping line 28193: expected 1 fields, saw 2\\nSkipping line 28215: expected 1 fields, saw 3\\nSkipping line 28239: expected 1 fields, saw 3\\nSkipping line 28259: expected 1 fields, saw 2\\nSkipping line 28330: expected 1 fields, saw 3\\nSkipping line 28421: expected 1 fields, saw 2\\nSkipping line 28425: expected 1 fields, saw 2\\nSkipping line 28440: expected 1 fields, saw 2\\nSkipping line 28441: expected 1 fields, saw 2\\nSkipping line 28442: expected 1 fields, saw 2\\nSkipping line 28443: expected 1 fields, saw 2\\nSkipping line 28444: expected 1 fields, saw 2\\nSkipping line 28448: expected 1 fields, saw 2\\nSkipping line 28491: expected 1 fields, saw 2\\nSkipping line 28492: expected 1 fields, saw 2\\nSkipping line 28493: expected 1 fields, saw 2\\nSkipping line 28494: expected 1 fields, saw 2\\nSkipping line 28495: expected 1 fields, saw 2\\nSkipping line 28496: expected 1 fields, saw 2\\nSkipping line 28497: expected 1 fields, saw 2\\nSkipping line 28498: expected 1 fields, saw 2\\nSkipping line 28499: expected 1 fields, saw 2\\nSkipping line 28500: expected 1 fields, saw 2\\nSkipping line 28501: expected 1 fields, saw 2\\nSkipping line 28502: expected 1 fields, saw 2\\nSkipping line 28503: expected 1 fields, saw 2\\nSkipping line 28504: expected 1 fields, saw 2\\nSkipping line 28505: expected 1 fields, saw 2\\nSkipping line 28506: expected 1 fields, saw 2\\nSkipping line 28507: expected 1 fields, saw 2\\nSkipping line 28508: expected 1 fields, saw 2\\nSkipping line 28510: expected 1 fields, saw 2\\nSkipping line 28567: expected 1 fields, saw 2\\nSkipping line 28568: expected 1 fields, saw 2\\nSkipping line 28570: expected 1 fields, saw 2\\nSkipping line 28618: expected 1 fields, saw 2\\nSkipping line 28625: expected 1 fields, saw 2\\nSkipping line 28709: expected 1 fields, saw 2\\nSkipping line 28710: expected 1 fields, saw 2\\nSkipping line 28767: expected 1 fields, saw 2\\nSkipping line 28768: expected 1 fields, saw 2\\nSkipping line 28842: expected 1 fields, saw 2\\nSkipping line 28843: expected 1 fields, saw 2\\nSkipping line 28958: expected 1 fields, saw 2\\nSkipping line 28959: expected 1 fields, saw 2\\nSkipping line 28960: expected 1 fields, saw 2\\nSkipping line 28961: expected 1 fields, saw 2\\nSkipping line 28962: expected 1 fields, saw 2\\nSkipping line 28963: expected 1 fields, saw 2\\nSkipping line 28964: expected 1 fields, saw 2\\nSkipping line 28965: expected 1 fields, saw 2\\nSkipping line 28966: expected 1 fields, saw 2\\nSkipping line 28967: expected 1 fields, saw 2\\nSkipping line 28968: expected 1 fields, saw 2\\nSkipping line 28969: expected 1 fields, saw 2\\nSkipping line 28972: expected 1 fields, saw 3\\nSkipping line 28973: expected 1 fields, saw 4\\nSkipping line 28974: expected 1 fields, saw 3\\nSkipping line 28976: expected 1 fields, saw 3\\nSkipping line 28977: expected 1 fields, saw 3\\nSkipping line 28981: expected 1 fields, saw 3\\nSkipping line 28982: expected 1 fields, saw 3\\nSkipping line 28992: expected 1 fields, saw 2\\nSkipping line 28994: expected 1 fields, saw 2\\nSkipping line 28995: expected 1 fields, saw 2\\nSkipping line 28996: expected 1 fields, saw 2\\nSkipping line 28997: expected 1 fields, saw 2\\nSkipping line 28998: expected 1 fields, saw 4\\nSkipping line 28999: expected 1 fields, saw 2\\nSkipping line 29016: expected 1 fields, saw 2\\nSkipping line 29018: expected 1 fields, saw 3\\nSkipping line 29019: expected 1 fields, saw 3\\nSkipping line 29023: expected 1 fields, saw 2\\nSkipping line 29038: expected 1 fields, saw 4\\nSkipping line 29039: expected 1 fields, saw 4\\nSkipping line 29041: expected 1 fields, saw 4\\nSkipping line 29042: expected 1 fields, saw 2\\nSkipping line 29043: expected 1 fields, saw 2\\nSkipping line 29044: expected 1 fields, saw 2\\nSkipping line 29048: expected 1 fields, saw 2\\nSkipping line 29061: expected 1 fields, saw 2\\nSkipping line 29062: expected 1 fields, saw 2\\nSkipping line 29098: expected 1 fields, saw 2\\nSkipping line 29225: expected 1 fields, saw 2\\nSkipping line 29226: expected 1 fields, saw 2\\nSkipping line 29452: expected 1 fields, saw 5\\nSkipping line 29453: expected 1 fields, saw 5\\nSkipping line 29454: expected 1 fields, saw 5\\nSkipping line 29455: expected 1 fields, saw 5\\nSkipping line 29456: expected 1 fields, saw 5\\nSkipping line 29457: expected 1 fields, saw 5\\nSkipping line 29459: expected 1 fields, saw 5\\nSkipping line 29460: expected 1 fields, saw 5\\nSkipping line 29461: expected 1 fields, saw 5\\nSkipping line 29462: expected 1 fields, saw 5\\nSkipping line 29463: expected 1 fields, saw 5\\nSkipping line 29464: expected 1 fields, saw 5\\nSkipping line 29465: expected 1 fields, saw 5\\nSkipping line 29466: expected 1 fields, saw 5\\nSkipping line 29468: expected 1 fields, saw 5\\nSkipping line 29469: expected 1 fields, saw 3\\nSkipping line 29470: expected 1 fields, saw 5\\nSkipping line 29472: expected 1 fields, saw 5\\nSkipping line 29494: expected 1 fields, saw 5\\nSkipping line 29495: expected 1 fields, saw 5\\nSkipping line 29496: expected 1 fields, saw 5\\nSkipping line 29497: expected 1 fields, saw 5\\nSkipping line 29498: expected 1 fields, saw 5\\nSkipping line 29499: expected 1 fields, saw 5\\nSkipping line 29500: expected 1 fields, saw 4\\nSkipping line 29501: expected 1 fields, saw 5\\nSkipping line 29502: expected 1 fields, saw 5\\nSkipping line 29503: expected 1 fields, saw 5\\nSkipping line 29504: expected 1 fields, saw 5\\nSkipping line 29505: expected 1 fields, saw 4\\nSkipping line 29507: expected 1 fields, saw 5\\nSkipping line 29508: expected 1 fields, saw 4\\nSkipping line 29509: expected 1 fields, saw 5\\nSkipping line 29510: expected 1 fields, saw 5\\nSkipping line 29511: expected 1 fields, saw 5\\nSkipping line 29512: expected 1 fields, saw 5\\nSkipping line 29513: expected 1 fields, saw 5\\nSkipping line 29514: expected 1 fields, saw 5\\nSkipping line 29515: expected 1 fields, saw 5\\nSkipping line 29516: expected 1 fields, saw 5\\nSkipping line 29517: expected 1 fields, saw 5\\nSkipping line 29518: expected 1 fields, saw 5\\nSkipping line 29519: expected 1 fields, saw 5\\nSkipping line 29520: expected 1 fields, saw 5\\nSkipping line 29521: expected 1 fields, saw 5\\nSkipping line 29522: expected 1 fields, saw 5\\nSkipping line 29523: expected 1 fields, saw 5\\nSkipping line 29524: expected 1 fields, saw 5\\nSkipping line 29525: expected 1 fields, saw 5\\nSkipping line 29527: expected 1 fields, saw 5\\nSkipping line 29528: expected 1 fields, saw 5\\nSkipping line 29529: expected 1 fields, saw 5\\nSkipping line 29530: expected 1 fields, saw 5\\nSkipping line 29531: expected 1 fields, saw 5\\nSkipping line 29532: expected 1 fields, saw 5\\nSkipping line 29533: expected 1 fields, saw 5\\nSkipping line 29534: expected 1 fields, saw 5\\nSkipping line 29535: expected 1 fields, saw 5\\nSkipping line 29536: expected 1 fields, saw 5\\nSkipping line 29537: expected 1 fields, saw 5\\nSkipping line 29538: expected 1 fields, saw 5\\nSkipping line 29539: expected 1 fields, saw 5\\nSkipping line 29540: expected 1 fields, saw 5\\nSkipping line 29541: expected 1 fields, saw 5\\nSkipping line 29542: expected 1 fields, saw 5\\nSkipping line 29543: expected 1 fields, saw 5\\nSkipping line 29544: expected 1 fields, saw 5\\nSkipping line 29545: expected 1 fields, saw 5\\nSkipping line 29546: expected 1 fields, saw 4\\nSkipping line 29547: expected 1 fields, saw 5\\nSkipping line 29549: expected 1 fields, saw 4\\nSkipping line 29550: expected 1 fields, saw 5\\nSkipping line 29551: expected 1 fields, saw 5\\nSkipping line 29552: expected 1 fields, saw 3\\nSkipping line 29553: expected 1 fields, saw 5\\nSkipping line 29554: expected 1 fields, saw 4\\nSkipping line 29555: expected 1 fields, saw 5\\nSkipping line 29556: expected 1 fields, saw 5\\nSkipping line 29557: expected 1 fields, saw 4\\nSkipping line 29558: expected 1 fields, saw 6\\nSkipping line 29560: expected 1 fields, saw 5\\nSkipping line 29563: expected 1 fields, saw 4\\nSkipping line 29564: expected 1 fields, saw 5\\nSkipping line 29565: expected 1 fields, saw 5\\nSkipping line 29566: expected 1 fields, saw 5\\nSkipping line 29568: expected 1 fields, saw 5\\nSkipping line 29569: expected 1 fields, saw 3\\nSkipping line 29570: expected 1 fields, saw 3\\nSkipping line 29894: expected 1 fields, saw 2\\nSkipping line 30002: expected 1 fields, saw 2\\nSkipping line 30053: expected 1 fields, saw 2\\nSkipping line 30078: expected 1 fields, saw 3\\nSkipping line 30161: expected 1 fields, saw 2\\nSkipping line 30282: expected 1 fields, saw 2\\nSkipping line 30283: expected 1 fields, saw 2\\nSkipping line 30284: expected 1 fields, saw 2\\nSkipping line 30285: expected 1 fields, saw 2\\nSkipping line 30286: expected 1 fields, saw 2\\nSkipping line 30287: expected 1 fields, saw 2\\nSkipping line 30288: expected 1 fields, saw 2\\nSkipping line 30289: expected 1 fields, saw 2\\nSkipping line 30290: expected 1 fields, saw 2\\nSkipping line 30291: expected 1 fields, saw 2\\nSkipping line 30292: expected 1 fields, saw 2\\nSkipping line 30293: expected 1 fields, saw 2\\nSkipping line 30294: expected 1 fields, saw 2\\nSkipping line 30295: expected 1 fields, saw 2\\nSkipping line 30296: expected 1 fields, saw 2\\nSkipping line 30297: expected 1 fields, saw 2\\nSkipping line 30298: expected 1 fields, saw 2\\nSkipping line 30299: expected 1 fields, saw 2\\nSkipping line 30300: expected 1 fields, saw 2\\nSkipping line 30301: expected 1 fields, saw 2\\nSkipping line 30302: expected 1 fields, saw 2\\nSkipping line 30303: expected 1 fields, saw 2\\nSkipping line 30304: expected 1 fields, saw 2\\nSkipping line 30305: expected 1 fields, saw 2\\nSkipping line 30306: expected 1 fields, saw 2\\nSkipping line 30307: expected 1 fields, saw 2\\nSkipping line 30308: expected 1 fields, saw 2\\nSkipping line 30309: expected 1 fields, saw 2\\nSkipping line 30312: expected 1 fields, saw 2\\nSkipping line 30313: expected 1 fields, saw 2\\nSkipping line 30314: expected 1 fields, saw 2\\nSkipping line 30315: expected 1 fields, saw 2\\nSkipping line 30316: expected 1 fields, saw 2\\nSkipping line 30317: expected 1 fields, saw 2\\nSkipping line 30318: expected 1 fields, saw 2\\nSkipping line 30319: expected 1 fields, saw 2\\nSkipping line 30320: expected 1 fields, saw 2\\nSkipping line 30321: expected 1 fields, saw 2\\nSkipping line 30322: expected 1 fields, saw 2\\nSkipping line 30323: expected 1 fields, saw 2\\nSkipping line 30324: expected 1 fields, saw 2\\nSkipping line 30325: expected 1 fields, saw 2\\nSkipping line 30326: expected 1 fields, saw 2\\nSkipping line 30327: expected 1 fields, saw 3\\nSkipping line 30328: expected 1 fields, saw 2\\nSkipping line 30329: expected 1 fields, saw 2\\nSkipping line 30330: expected 1 fields, saw 2\\nSkipping line 30331: expected 1 fields, saw 2\\nSkipping line 30332: expected 1 fields, saw 2\\nSkipping line 30333: expected 1 fields, saw 2\\nSkipping line 30334: expected 1 fields, saw 2\\nSkipping line 30335: expected 1 fields, saw 2\\nSkipping line 30336: expected 1 fields, saw 2\\nSkipping line 30337: expected 1 fields, saw 2\\nSkipping line 30338: expected 1 fields, saw 2\\nSkipping line 30339: expected 1 fields, saw 2\\nSkipping line 30340: expected 1 fields, saw 2\\nSkipping line 30341: expected 1 fields, saw 2\\nSkipping line 30342: expected 1 fields, saw 2\\nSkipping line 30343: expected 1 fields, saw 2\\nSkipping line 30344: expected 1 fields, saw 2\\nSkipping line 30624: expected 1 fields, saw 2\\nSkipping line 30625: expected 1 fields, saw 2\\nSkipping line 30626: expected 1 fields, saw 2\\nSkipping line 30627: expected 1 fields, saw 2\\nSkipping line 30628: expected 1 fields, saw 2\\nSkipping line 30629: expected 1 fields, saw 2\\nSkipping line 30630: expected 1 fields, saw 2\\nSkipping line 30631: expected 1 fields, saw 2\\nSkipping line 30632: expected 1 fields, saw 2\\nSkipping line 30633: expected 1 fields, saw 2\\nSkipping line 30634: expected 1 fields, saw 2\\nSkipping line 30635: expected 1 fields, saw 2\\nSkipping line 30636: expected 1 fields, saw 2\\nSkipping line 30637: expected 1 fields, saw 2\\nSkipping line 30638: expected 1 fields, saw 2\\nSkipping line 30639: expected 1 fields, saw 2\\nSkipping line 30640: expected 1 fields, saw 2\\nSkipping line 30641: expected 1 fields, saw 2\\nSkipping line 30642: expected 1 fields, saw 2\\nSkipping line 30643: expected 1 fields, saw 2\\nSkipping line 30644: expected 1 fields, saw 2\\nSkipping line 30645: expected 1 fields, saw 2\\nSkipping line 30646: expected 1 fields, saw 2\\nSkipping line 30647: expected 1 fields, saw 2\\nSkipping line 30648: expected 1 fields, saw 2\\nSkipping line 30649: expected 1 fields, saw 2\\nSkipping line 30650: expected 1 fields, saw 2\\nSkipping line 30651: expected 1 fields, saw 2\\nSkipping line 30652: expected 1 fields, saw 2\\nSkipping line 30653: expected 1 fields, saw 2\\nSkipping line 30654: expected 1 fields, saw 2\\nSkipping line 30655: expected 1 fields, saw 2\\nSkipping line 30656: expected 1 fields, saw 2\\nSkipping line 30657: expected 1 fields, saw 2\\nSkipping line 30658: expected 1 fields, saw 2\\nSkipping line 30659: expected 1 fields, saw 2\\nSkipping line 30660: expected 1 fields, saw 2\\nSkipping line 30661: expected 1 fields, saw 2\\nSkipping line 30662: expected 1 fields, saw 2\\nSkipping line 30663: expected 1 fields, saw 2\\nSkipping line 30664: expected 1 fields, saw 2\\nSkipping line 30665: expected 1 fields, saw 2\\nSkipping line 30666: expected 1 fields, saw 2\\nSkipping line 30667: expected 1 fields, saw 2\\nSkipping line 30668: expected 1 fields, saw 2\\nSkipping line 30669: expected 1 fields, saw 2\\nSkipping line 30670: expected 1 fields, saw 2\\nSkipping line 30671: expected 1 fields, saw 2\\nSkipping line 30672: expected 1 fields, saw 2\\nSkipping line 30673: expected 1 fields, saw 2\\nSkipping line 30674: expected 1 fields, saw 2\\nSkipping line 30675: expected 1 fields, saw 2\\nSkipping line 30676: expected 1 fields, saw 2\\nSkipping line 30677: expected 1 fields, saw 2\\nSkipping line 30678: expected 1 fields, saw 2\\nSkipping line 30679: expected 1 fields, saw 2\\nSkipping line 30680: expected 1 fields, saw 2\\nSkipping line 30681: expected 1 fields, saw 2\\nSkipping line 30682: expected 1 fields, saw 2\\nSkipping line 30683: expected 1 fields, saw 2\\nSkipping line 30684: expected 1 fields, saw 2\\nSkipping line 30685: expected 1 fields, saw 2\\nSkipping line 30686: expected 1 fields, saw 2\\nSkipping line 30687: expected 1 fields, saw 2\\nSkipping line 30688: expected 1 fields, saw 2\\nSkipping line 30689: expected 1 fields, saw 2\\nSkipping line 30690: expected 1 fields, saw 2\\nSkipping line 30691: expected 1 fields, saw 2\\nSkipping line 30692: expected 1 fields, saw 2\\nSkipping line 30693: expected 1 fields, saw 2\\nSkipping line 30694: expected 1 fields, saw 2\\nSkipping line 30695: expected 1 fields, saw 2\\nSkipping line 30696: expected 1 fields, saw 2\\nSkipping line 30697: expected 1 fields, saw 2\\nSkipping line 30698: expected 1 fields, saw 2\\nSkipping line 30699: expected 1 fields, saw 2\\nSkipping line 30700: expected 1 fields, saw 2\\nSkipping line 30701: expected 1 fields, saw 2\\nSkipping line 30702: expected 1 fields, saw 2\\nSkipping line 30703: expected 1 fields, saw 2\\nSkipping line 30704: expected 1 fields, saw 2\\nSkipping line 30705: expected 1 fields, saw 2\\nSkipping line 30706: expected 1 fields, saw 2\\nSkipping line 30707: expected 1 fields, saw 2\\nSkipping line 30708: expected 1 fields, saw 2\\nSkipping line 30709: expected 1 fields, saw 2\\nSkipping line 30710: expected 1 fields, saw 2\\nSkipping line 30711: expected 1 fields, saw 2\\nSkipping line 30712: expected 1 fields, saw 2\\nSkipping line 30758: expected 1 fields, saw 2\\nSkipping line 30795: expected 1 fields, saw 2\\nSkipping line 30806: expected 1 fields, saw 2\\nSkipping line 30832: expected 1 fields, saw 3\\nSkipping line 30833: expected 1 fields, saw 3\\nSkipping line 30851: expected 1 fields, saw 4\\nSkipping line 30864: expected 1 fields, saw 3\\nSkipping line 30865: expected 1 fields, saw 3\\nSkipping line 30867: expected 1 fields, saw 3\\nSkipping line 30875: expected 1 fields, saw 3\\nSkipping line 30891: expected 1 fields, saw 5\\nSkipping line 30892: expected 1 fields, saw 2\\nSkipping line 30893: expected 1 fields, saw 2\\nSkipping line 30894: expected 1 fields, saw 2\\nSkipping line 30895: expected 1 fields, saw 2\\nSkipping line 30896: expected 1 fields, saw 2\\nSkipping line 30898: expected 1 fields, saw 2\\nSkipping line 30899: expected 1 fields, saw 2\\nSkipping line 30900: expected 1 fields, saw 2\\nSkipping line 30904: expected 1 fields, saw 2\\nSkipping line 30905: expected 1 fields, saw 2\\nSkipping line 30912: expected 1 fields, saw 2\\nSkipping line 30923: expected 1 fields, saw 2\\nSkipping line 30927: expected 1 fields, saw 2\\nSkipping line 30928: expected 1 fields, saw 2\\nSkipping line 30929: expected 1 fields, saw 2\\nSkipping line 30931: expected 1 fields, saw 2\\nSkipping line 30932: expected 1 fields, saw 2\\nSkipping line 30934: expected 1 fields, saw 2\\nSkipping line 30936: expected 1 fields, saw 2\\nSkipping line 30939: expected 1 fields, saw 2\\nSkipping line 30940: expected 1 fields, saw 2\\nSkipping line 30942: expected 1 fields, saw 2\\nSkipping line 30943: expected 1 fields, saw 2\\nSkipping line 30944: expected 1 fields, saw 2\\nSkipping line 30945: expected 1 fields, saw 2\\nSkipping line 30946: expected 1 fields, saw 2\\nSkipping line 30947: expected 1 fields, saw 2\\nSkipping line 30948: expected 1 fields, saw 2\\nSkipping line 30949: expected 1 fields, saw 2\\nSkipping line 30951: expected 1 fields, saw 2\\nSkipping line 30952: expected 1 fields, saw 2\\nSkipping line 30953: expected 1 fields, saw 2\\nSkipping line 30954: expected 1 fields, saw 2\\nSkipping line 30955: expected 1 fields, saw 2\\nSkipping line 30956: expected 1 fields, saw 2\\nSkipping line 30958: expected 1 fields, saw 2\\nSkipping line 30959: expected 1 fields, saw 2\\nSkipping line 30960: expected 1 fields, saw 2\\nSkipping line 30962: expected 1 fields, saw 2\\nSkipping line 30964: expected 1 fields, saw 2\\nSkipping line 30965: expected 1 fields, saw 2\\nSkipping line 30966: expected 1 fields, saw 2\\nSkipping line 30967: expected 1 fields, saw 2\\nSkipping line 30968: expected 1 fields, saw 2\\nSkipping line 30969: expected 1 fields, saw 2\\nSkipping line 30970: expected 1 fields, saw 2\\nSkipping line 30971: expected 1 fields, saw 2\\nSkipping line 30972: expected 1 fields, saw 2\\nSkipping line 30974: expected 1 fields, saw 2\\nSkipping line 30975: expected 1 fields, saw 2\\nSkipping line 30976: expected 1 fields, saw 2\\nSkipping line 30977: expected 1 fields, saw 2\\nSkipping line 30978: expected 1 fields, saw 3\\nSkipping line 30979: expected 1 fields, saw 2\\nSkipping line 30980: expected 1 fields, saw 2\\nSkipping line 30981: expected 1 fields, saw 2\\nSkipping line 30982: expected 1 fields, saw 2\\nSkipping line 30983: expected 1 fields, saw 2\\nSkipping line 30984: expected 1 fields, saw 2\\nSkipping line 30987: expected 1 fields, saw 2\\nSkipping line 30988: expected 1 fields, saw 2\\nSkipping line 30989: expected 1 fields, saw 2\\nSkipping line 30990: expected 1 fields, saw 2\\nSkipping line 30991: expected 1 fields, saw 2\\nSkipping line 30992: expected 1 fields, saw 2\\nSkipping line 30994: expected 1 fields, saw 2\\nSkipping line 30997: expected 1 fields, saw 2\\nSkipping line 30998: expected 1 fields, saw 3\\nSkipping line 30999: expected 1 fields, saw 3\\nSkipping line 31000: expected 1 fields, saw 2\\nSkipping line 31001: expected 1 fields, saw 3\\nSkipping line 31003: expected 1 fields, saw 2\\nSkipping line 31004: expected 1 fields, saw 2\\nSkipping line 31005: expected 1 fields, saw 3\\nSkipping line 31006: expected 1 fields, saw 4\\nSkipping line 31007: expected 1 fields, saw 2\\nSkipping line 31008: expected 1 fields, saw 2\\nSkipping line 31011: expected 1 fields, saw 2\\nSkipping line 31013: expected 1 fields, saw 3\\nSkipping line 31015: expected 1 fields, saw 2\\nSkipping line 31017: expected 1 fields, saw 2\\nSkipping line 31018: expected 1 fields, saw 2\\nSkipping line 31019: expected 1 fields, saw 2\\nSkipping line 31020: expected 1 fields, saw 3\\nSkipping line 31021: expected 1 fields, saw 2\\nSkipping line 31022: expected 1 fields, saw 2\\nSkipping line 31024: expected 1 fields, saw 2\\nSkipping line 31025: expected 1 fields, saw 2\\nSkipping line 31026: expected 1 fields, saw 2\\nSkipping line 31030: expected 1 fields, saw 2\\nSkipping line 31032: expected 1 fields, saw 2\\nSkipping line 31033: expected 1 fields, saw 2\\nSkipping line 31034: expected 1 fields, saw 2\\nSkipping line 31036: expected 1 fields, saw 3\\nSkipping line 31037: expected 1 fields, saw 2\\nSkipping line 31038: expected 1 fields, saw 2\\nSkipping line 31042: expected 1 fields, saw 2\\nSkipping line 31044: expected 1 fields, saw 2\\nSkipping line 31047: expected 1 fields, saw 3\\nSkipping line 31048: expected 1 fields, saw 2\\nSkipping line 31049: expected 1 fields, saw 2\\nSkipping line 31050: expected 1 fields, saw 2\\nSkipping line 31051: expected 1 fields, saw 3\\nSkipping line 31052: expected 1 fields, saw 2\\nSkipping line 31053: expected 1 fields, saw 2\\nSkipping line 31054: expected 1 fields, saw 2\\nSkipping line 31057: expected 1 fields, saw 3\\nSkipping line 31059: expected 1 fields, saw 3\\nSkipping line 31061: expected 1 fields, saw 3\\nSkipping line 31062: expected 1 fields, saw 2\\nSkipping line 31066: expected 1 fields, saw 3\\nSkipping line 31067: expected 1 fields, saw 2\\nSkipping line 31068: expected 1 fields, saw 2\\nSkipping line 31070: expected 1 fields, saw 2\\nSkipping line 31071: expected 1 fields, saw 2\\nSkipping line 31072: expected 1 fields, saw 2\\nSkipping line 31073: expected 1 fields, saw 2\\nSkipping line 31079: expected 1 fields, saw 2\\nSkipping line 31081: expected 1 fields, saw 3\\nSkipping line 31083: expected 1 fields, saw 3\\nSkipping line 31084: expected 1 fields, saw 3\\nSkipping line 31087: expected 1 fields, saw 2\\nSkipping line 31088: expected 1 fields, saw 3\\nSkipping line 31089: expected 1 fields, saw 2\\nSkipping line 31090: expected 1 fields, saw 2\\nSkipping line 31093: expected 1 fields, saw 2\\nSkipping line 31094: expected 1 fields, saw 2\\nSkipping line 31096: expected 1 fields, saw 3\\nSkipping line 31098: expected 1 fields, saw 4\\nSkipping line 31103: expected 1 fields, saw 2\\nSkipping line 31105: expected 1 fields, saw 2\\nSkipping line 31107: expected 1 fields, saw 2\\nSkipping line 31108: expected 1 fields, saw 2\\nSkipping line 31112: expected 1 fields, saw 2\\nSkipping line 31113: expected 1 fields, saw 2\\nSkipping line 31116: expected 1 fields, saw 2\\nSkipping line 31117: expected 1 fields, saw 2\\nSkipping line 31118: expected 1 fields, saw 2\\nSkipping line 31120: expected 1 fields, saw 2\\nSkipping line 31121: expected 1 fields, saw 2\\nSkipping line 31122: expected 1 fields, saw 2\\nSkipping line 31124: expected 1 fields, saw 2\\nSkipping line 31126: expected 1 fields, saw 2\\nSkipping line 31127: expected 1 fields, saw 2\\nSkipping line 31128: expected 1 fields, saw 2\\nSkipping line 31129: expected 1 fields, saw 2\\nSkipping line 31131: expected 1 fields, saw 2\\nSkipping line 31132: expected 1 fields, saw 2\\nSkipping line 31133: expected 1 fields, saw 3\\nSkipping line 31134: expected 1 fields, saw 2\\nSkipping line 31135: expected 1 fields, saw 2\\nSkipping line 31136: expected 1 fields, saw 2\\nSkipping line 31137: expected 1 fields, saw 4\\nSkipping line 31138: expected 1 fields, saw 2\\nSkipping line 31139: expected 1 fields, saw 2\\nSkipping line 31140: expected 1 fields, saw 2\\nSkipping line 31141: expected 1 fields, saw 2\\nSkipping line 31146: expected 1 fields, saw 2\\nSkipping line 31147: expected 1 fields, saw 2\\nSkipping line 31148: expected 1 fields, saw 2\\nSkipping line 31149: expected 1 fields, saw 2\\nSkipping line 31150: expected 1 fields, saw 2\\nSkipping line 31151: expected 1 fields, saw 2\\nSkipping line 31152: expected 1 fields, saw 2\\nSkipping line 31156: expected 1 fields, saw 2\\nSkipping line 31157: expected 1 fields, saw 2\\nSkipping line 31158: expected 1 fields, saw 2\\nSkipping line 31159: expected 1 fields, saw 2\\nSkipping line 31161: expected 1 fields, saw 4\\nSkipping line 31162: expected 1 fields, saw 3\\nSkipping line 31163: expected 1 fields, saw 2\\nSkipping line 31164: expected 1 fields, saw 2\\nSkipping line 31165: expected 1 fields, saw 2\\nSkipping line 31166: expected 1 fields, saw 2\\nSkipping line 31167: expected 1 fields, saw 2\\nSkipping line 31168: expected 1 fields, saw 2\\nSkipping line 31169: expected 1 fields, saw 3\\nSkipping line 31171: expected 1 fields, saw 3\\nSkipping line 31173: expected 1 fields, saw 2\\nSkipping line 31174: expected 1 fields, saw 2\\nSkipping line 31177: expected 1 fields, saw 2\\nSkipping line 31179: expected 1 fields, saw 2\\nSkipping line 31180: expected 1 fields, saw 2\\nSkipping line 31181: expected 1 fields, saw 2\\nSkipping line 31182: expected 1 fields, saw 2\\nSkipping line 31183: expected 1 fields, saw 3\\nSkipping line 31184: expected 1 fields, saw 2\\nSkipping line 31185: expected 1 fields, saw 2\\nSkipping line 31186: expected 1 fields, saw 2\\nSkipping line 31187: expected 1 fields, saw 2\\nSkipping line 31188: expected 1 fields, saw 2\\nSkipping line 31189: expected 1 fields, saw 3\\nSkipping line 31191: expected 1 fields, saw 2\\nSkipping line 31193: expected 1 fields, saw 2\\nSkipping line 31194: expected 1 fields, saw 3\\nSkipping line 31196: expected 1 fields, saw 3\\nSkipping line 31197: expected 1 fields, saw 2\\nSkipping line 31198: expected 1 fields, saw 3\\nSkipping line 31200: expected 1 fields, saw 5\\nSkipping line 31201: expected 1 fields, saw 2\\nSkipping line 31202: expected 1 fields, saw 2\\nSkipping line 31203: expected 1 fields, saw 2\\nSkipping line 31204: expected 1 fields, saw 2\\nSkipping line 31205: expected 1 fields, saw 2\\nSkipping line 31206: expected 1 fields, saw 2\\nSkipping line 31207: expected 1 fields, saw 2\\nSkipping line 31208: expected 1 fields, saw 2\\nSkipping line 31209: expected 1 fields, saw 2\\nSkipping line 31210: expected 1 fields, saw 3\\nSkipping line 31211: expected 1 fields, saw 2\\nSkipping line 31212: expected 1 fields, saw 5\\nSkipping line 31213: expected 1 fields, saw 2\\nSkipping line 31216: expected 1 fields, saw 4\\nSkipping line 31217: expected 1 fields, saw 2\\nSkipping line 31225: expected 1 fields, saw 2\\nSkipping line 31226: expected 1 fields, saw 2\\nSkipping line 31227: expected 1 fields, saw 3\\nSkipping line 31228: expected 1 fields, saw 2\\nSkipping line 31229: expected 1 fields, saw 3\\nSkipping line 31230: expected 1 fields, saw 3\\nSkipping line 31231: expected 1 fields, saw 2\\nSkipping line 31232: expected 1 fields, saw 2\\nSkipping line 31233: expected 1 fields, saw 2\\nSkipping line 31235: expected 1 fields, saw 2\\nSkipping line 31240: expected 1 fields, saw 2\\nSkipping line 31242: expected 1 fields, saw 2\\nSkipping line 31243: expected 1 fields, saw 2\\nSkipping line 31244: expected 1 fields, saw 3\\nSkipping line 31245: expected 1 fields, saw 3\\nSkipping line 31246: expected 1 fields, saw 2\\nSkipping line 31247: expected 1 fields, saw 3\\nSkipping line 31252: expected 1 fields, saw 2\\nSkipping line 31253: expected 1 fields, saw 2\\nSkipping line 31255: expected 1 fields, saw 2\\nSkipping line 31256: expected 1 fields, saw 3\\nSkipping line 31257: expected 1 fields, saw 2\\nSkipping line 31258: expected 1 fields, saw 2\\nSkipping line 31261: expected 1 fields, saw 2\\nSkipping line 31262: expected 1 fields, saw 2\\nSkipping line 31264: expected 1 fields, saw 2\\nSkipping line 31269: expected 1 fields, saw 2\\nSkipping line 31272: expected 1 fields, saw 2\\nSkipping line 31278: expected 1 fields, saw 2\\nSkipping line 31279: expected 1 fields, saw 2\\nSkipping line 31280: expected 1 fields, saw 2\\nSkipping line 31281: expected 1 fields, saw 2\\nSkipping line 31283: expected 1 fields, saw 2\\nSkipping line 31284: expected 1 fields, saw 2\\nSkipping line 31285: expected 1 fields, saw 2\\nSkipping line 31286: expected 1 fields, saw 2\\nSkipping line 31288: expected 1 fields, saw 2\\nSkipping line 31289: expected 1 fields, saw 3\\nSkipping line 31290: expected 1 fields, saw 3\\nSkipping line 31291: expected 1 fields, saw 3\\nSkipping line 31292: expected 1 fields, saw 2\\nSkipping line 31293: expected 1 fields, saw 2\\nSkipping line 31295: expected 1 fields, saw 2\\nSkipping line 31296: expected 1 fields, saw 3\\nSkipping line 31298: expected 1 fields, saw 2\\nSkipping line 31299: expected 1 fields, saw 2\\nSkipping line 31300: expected 1 fields, saw 2\\nSkipping line 31301: expected 1 fields, saw 2\\nSkipping line 31302: expected 1 fields, saw 2\\nSkipping line 31303: expected 1 fields, saw 3\\nSkipping line 31304: expected 1 fields, saw 3\\nSkipping line 31305: expected 1 fields, saw 2\\nSkipping line 31306: expected 1 fields, saw 2\\nSkipping line 31307: expected 1 fields, saw 2\\nSkipping line 31308: expected 1 fields, saw 2\\nSkipping line 31310: expected 1 fields, saw 2\\nSkipping line 31311: expected 1 fields, saw 2\\nSkipping line 31313: expected 1 fields, saw 2\\nSkipping line 31314: expected 1 fields, saw 2\\nSkipping line 31316: expected 1 fields, saw 2\\nSkipping line 31317: expected 1 fields, saw 2\\nSkipping line 31318: expected 1 fields, saw 2\\nSkipping line 31319: expected 1 fields, saw 3\\nSkipping line 31320: expected 1 fields, saw 2\\nSkipping line 31321: expected 1 fields, saw 2\\nSkipping line 31322: expected 1 fields, saw 2\\nSkipping line 31323: expected 1 fields, saw 2\\nSkipping line 31324: expected 1 fields, saw 2\\nSkipping line 31325: expected 1 fields, saw 2\\nSkipping line 31326: expected 1 fields, saw 2\\nSkipping line 31327: expected 1 fields, saw 2\\nSkipping line 31328: expected 1 fields, saw 2\\nSkipping line 31329: expected 1 fields, saw 2\\nSkipping line 31330: expected 1 fields, saw 2\\nSkipping line 31331: expected 1 fields, saw 2\\nSkipping line 31332: expected 1 fields, saw 2\\nSkipping line 31333: expected 1 fields, saw 2\\nSkipping line 31334: expected 1 fields, saw 2\\nSkipping line 31335: expected 1 fields, saw 2\\nSkipping line 31337: expected 1 fields, saw 2\\nSkipping line 31338: expected 1 fields, saw 2\\nSkipping line 31339: expected 1 fields, saw 2\\nSkipping line 31340: expected 1 fields, saw 2\\nSkipping line 31341: expected 1 fields, saw 2\\nSkipping line 31342: expected 1 fields, saw 3\\nSkipping line 31344: expected 1 fields, saw 2\\nSkipping line 31345: expected 1 fields, saw 2\\nSkipping line 31346: expected 1 fields, saw 2\\nSkipping line 31347: expected 1 fields, saw 3\\nSkipping line 31348: expected 1 fields, saw 2\\nSkipping line 31349: expected 1 fields, saw 2\\nSkipping line 31350: expected 1 fields, saw 2\\nSkipping line 31351: expected 1 fields, saw 2\\nSkipping line 31352: expected 1 fields, saw 2\\nSkipping line 31353: expected 1 fields, saw 3\\nSkipping line 31354: expected 1 fields, saw 2\\nSkipping line 31355: expected 1 fields, saw 2\\nSkipping line 31356: expected 1 fields, saw 2\\nSkipping line 31358: expected 1 fields, saw 3\\nSkipping line 31359: expected 1 fields, saw 2\\nSkipping line 31360: expected 1 fields, saw 2\\nSkipping line 31361: expected 1 fields, saw 2\\nSkipping line 31363: expected 1 fields, saw 2\\nSkipping line 31364: expected 1 fields, saw 2\\nSkipping line 31370: expected 1 fields, saw 2\\nSkipping line 31380: expected 1 fields, saw 2\\nSkipping line 31386: expected 1 fields, saw 2\\nSkipping line 31390: expected 1 fields, saw 2\\nSkipping line 31395: expected 1 fields, saw 2\\nSkipping line 31396: expected 1 fields, saw 2\\nSkipping line 31397: expected 1 fields, saw 2\\nSkipping line 31405: expected 1 fields, saw 2\\nSkipping line 31407: expected 1 fields, saw 2\\nSkipping line 31409: expected 1 fields, saw 2\\nSkipping line 31412: expected 1 fields, saw 2\\nSkipping line 31422: expected 1 fields, saw 2\\nSkipping line 31427: expected 1 fields, saw 2\\nSkipping line 31431: expected 1 fields, saw 2\\nSkipping line 31432: expected 1 fields, saw 2\\nSkipping line 31433: expected 1 fields, saw 2\\nSkipping line 31455: expected 1 fields, saw 2\\nSkipping line 31456: expected 1 fields, saw 2\\nSkipping line 31461: expected 1 fields, saw 3\\nSkipping line 31470: expected 1 fields, saw 2\\nSkipping line 31474: expected 1 fields, saw 3\\nSkipping line 31478: expected 1 fields, saw 2\\nSkipping line 31480: expected 1 fields, saw 2\\nSkipping line 31482: expected 1 fields, saw 2\\nSkipping line 31484: expected 1 fields, saw 2\\nSkipping line 31494: expected 1 fields, saw 2\\nSkipping line 31495: expected 1 fields, saw 2\\nSkipping line 31500: expected 1 fields, saw 2\\nSkipping line 31502: expected 1 fields, saw 2\\nSkipping line 31511: expected 1 fields, saw 2\\nSkipping line 31517: expected 1 fields, saw 2\\nSkipping line 31529: expected 1 fields, saw 3\\nSkipping line 31530: expected 1 fields, saw 2\\nSkipping line 31534: expected 1 fields, saw 2\\nSkipping line 31535: expected 1 fields, saw 2\\nSkipping line 31536: expected 1 fields, saw 2\\nSkipping line 31540: expected 1 fields, saw 2\\nSkipping line 31541: expected 1 fields, saw 2\\nSkipping line 31544: expected 1 fields, saw 2\\nSkipping line 31546: expected 1 fields, saw 2\\nSkipping line 31556: expected 1 fields, saw 2\\n'\n"
     ]
    },
    {
     "ename": "ParserError",
     "evalue": "Error tokenizing data. C error: EOF inside string starting at row 31558",
     "output_type": "error",
     "traceback": [
      "\u001b[1;31m---------------------------------------------------------------------------\u001b[0m",
      "\u001b[1;31mParserError\u001b[0m                               Traceback (most recent call last)",
      "\u001b[1;32m<ipython-input-9-8283d74cd147>\u001b[0m in \u001b[0;36m<module>\u001b[1;34m\u001b[0m\n\u001b[0;32m      1\u001b[0m \u001b[1;32mimport\u001b[0m \u001b[0mpandas\u001b[0m \u001b[1;32mas\u001b[0m \u001b[0mpd\u001b[0m\u001b[1;33m\u001b[0m\u001b[1;33m\u001b[0m\u001b[0m\n\u001b[1;32m----> 2\u001b[1;33m \u001b[0mdf\u001b[0m \u001b[1;33m=\u001b[0m \u001b[0mpd\u001b[0m\u001b[1;33m.\u001b[0m\u001b[0mread_csv\u001b[0m\u001b[1;33m(\u001b[0m\u001b[1;34m\"outlet.csv\"\u001b[0m\u001b[1;33m,\u001b[0m\u001b[0merror_bad_lines\u001b[0m\u001b[1;33m=\u001b[0m\u001b[1;32mFalse\u001b[0m \u001b[1;33m)\u001b[0m\u001b[1;33m\u001b[0m\u001b[1;33m\u001b[0m\u001b[0m\n\u001b[0m\u001b[0;32m      3\u001b[0m \u001b[0mdf\u001b[0m\u001b[1;33m\u001b[0m\u001b[1;33m\u001b[0m\u001b[0m\n",
      "\u001b[1;32mC:\\ProgramData\\Anaconda3\\lib\\site-packages\\pandas\\io\\parsers.py\u001b[0m in \u001b[0;36mparser_f\u001b[1;34m(filepath_or_buffer, sep, delimiter, header, names, index_col, usecols, squeeze, prefix, mangle_dupe_cols, dtype, engine, converters, true_values, false_values, skipinitialspace, skiprows, skipfooter, nrows, na_values, keep_default_na, na_filter, verbose, skip_blank_lines, parse_dates, infer_datetime_format, keep_date_col, date_parser, dayfirst, cache_dates, iterator, chunksize, compression, thousands, decimal, lineterminator, quotechar, quoting, doublequote, escapechar, comment, encoding, dialect, error_bad_lines, warn_bad_lines, delim_whitespace, low_memory, memory_map, float_precision)\u001b[0m\n\u001b[0;32m    683\u001b[0m         )\n\u001b[0;32m    684\u001b[0m \u001b[1;33m\u001b[0m\u001b[0m\n\u001b[1;32m--> 685\u001b[1;33m         \u001b[1;32mreturn\u001b[0m \u001b[0m_read\u001b[0m\u001b[1;33m(\u001b[0m\u001b[0mfilepath_or_buffer\u001b[0m\u001b[1;33m,\u001b[0m \u001b[0mkwds\u001b[0m\u001b[1;33m)\u001b[0m\u001b[1;33m\u001b[0m\u001b[1;33m\u001b[0m\u001b[0m\n\u001b[0m\u001b[0;32m    686\u001b[0m \u001b[1;33m\u001b[0m\u001b[0m\n\u001b[0;32m    687\u001b[0m     \u001b[0mparser_f\u001b[0m\u001b[1;33m.\u001b[0m\u001b[0m__name__\u001b[0m \u001b[1;33m=\u001b[0m \u001b[0mname\u001b[0m\u001b[1;33m\u001b[0m\u001b[1;33m\u001b[0m\u001b[0m\n",
      "\u001b[1;32mC:\\ProgramData\\Anaconda3\\lib\\site-packages\\pandas\\io\\parsers.py\u001b[0m in \u001b[0;36m_read\u001b[1;34m(filepath_or_buffer, kwds)\u001b[0m\n\u001b[0;32m    461\u001b[0m \u001b[1;33m\u001b[0m\u001b[0m\n\u001b[0;32m    462\u001b[0m     \u001b[1;32mtry\u001b[0m\u001b[1;33m:\u001b[0m\u001b[1;33m\u001b[0m\u001b[1;33m\u001b[0m\u001b[0m\n\u001b[1;32m--> 463\u001b[1;33m         \u001b[0mdata\u001b[0m \u001b[1;33m=\u001b[0m \u001b[0mparser\u001b[0m\u001b[1;33m.\u001b[0m\u001b[0mread\u001b[0m\u001b[1;33m(\u001b[0m\u001b[0mnrows\u001b[0m\u001b[1;33m)\u001b[0m\u001b[1;33m\u001b[0m\u001b[1;33m\u001b[0m\u001b[0m\n\u001b[0m\u001b[0;32m    464\u001b[0m     \u001b[1;32mfinally\u001b[0m\u001b[1;33m:\u001b[0m\u001b[1;33m\u001b[0m\u001b[1;33m\u001b[0m\u001b[0m\n\u001b[0;32m    465\u001b[0m         \u001b[0mparser\u001b[0m\u001b[1;33m.\u001b[0m\u001b[0mclose\u001b[0m\u001b[1;33m(\u001b[0m\u001b[1;33m)\u001b[0m\u001b[1;33m\u001b[0m\u001b[1;33m\u001b[0m\u001b[0m\n",
      "\u001b[1;32mC:\\ProgramData\\Anaconda3\\lib\\site-packages\\pandas\\io\\parsers.py\u001b[0m in \u001b[0;36mread\u001b[1;34m(self, nrows)\u001b[0m\n\u001b[0;32m   1152\u001b[0m     \u001b[1;32mdef\u001b[0m \u001b[0mread\u001b[0m\u001b[1;33m(\u001b[0m\u001b[0mself\u001b[0m\u001b[1;33m,\u001b[0m \u001b[0mnrows\u001b[0m\u001b[1;33m=\u001b[0m\u001b[1;32mNone\u001b[0m\u001b[1;33m)\u001b[0m\u001b[1;33m:\u001b[0m\u001b[1;33m\u001b[0m\u001b[1;33m\u001b[0m\u001b[0m\n\u001b[0;32m   1153\u001b[0m         \u001b[0mnrows\u001b[0m \u001b[1;33m=\u001b[0m \u001b[0m_validate_integer\u001b[0m\u001b[1;33m(\u001b[0m\u001b[1;34m\"nrows\"\u001b[0m\u001b[1;33m,\u001b[0m \u001b[0mnrows\u001b[0m\u001b[1;33m)\u001b[0m\u001b[1;33m\u001b[0m\u001b[1;33m\u001b[0m\u001b[0m\n\u001b[1;32m-> 1154\u001b[1;33m         \u001b[0mret\u001b[0m \u001b[1;33m=\u001b[0m \u001b[0mself\u001b[0m\u001b[1;33m.\u001b[0m\u001b[0m_engine\u001b[0m\u001b[1;33m.\u001b[0m\u001b[0mread\u001b[0m\u001b[1;33m(\u001b[0m\u001b[0mnrows\u001b[0m\u001b[1;33m)\u001b[0m\u001b[1;33m\u001b[0m\u001b[1;33m\u001b[0m\u001b[0m\n\u001b[0m\u001b[0;32m   1155\u001b[0m \u001b[1;33m\u001b[0m\u001b[0m\n\u001b[0;32m   1156\u001b[0m         \u001b[1;31m# May alter columns / col_dict\u001b[0m\u001b[1;33m\u001b[0m\u001b[1;33m\u001b[0m\u001b[1;33m\u001b[0m\u001b[0m\n",
      "\u001b[1;32mC:\\ProgramData\\Anaconda3\\lib\\site-packages\\pandas\\io\\parsers.py\u001b[0m in \u001b[0;36mread\u001b[1;34m(self, nrows)\u001b[0m\n\u001b[0;32m   2057\u001b[0m     \u001b[1;32mdef\u001b[0m \u001b[0mread\u001b[0m\u001b[1;33m(\u001b[0m\u001b[0mself\u001b[0m\u001b[1;33m,\u001b[0m \u001b[0mnrows\u001b[0m\u001b[1;33m=\u001b[0m\u001b[1;32mNone\u001b[0m\u001b[1;33m)\u001b[0m\u001b[1;33m:\u001b[0m\u001b[1;33m\u001b[0m\u001b[1;33m\u001b[0m\u001b[0m\n\u001b[0;32m   2058\u001b[0m         \u001b[1;32mtry\u001b[0m\u001b[1;33m:\u001b[0m\u001b[1;33m\u001b[0m\u001b[1;33m\u001b[0m\u001b[0m\n\u001b[1;32m-> 2059\u001b[1;33m             \u001b[0mdata\u001b[0m \u001b[1;33m=\u001b[0m \u001b[0mself\u001b[0m\u001b[1;33m.\u001b[0m\u001b[0m_reader\u001b[0m\u001b[1;33m.\u001b[0m\u001b[0mread\u001b[0m\u001b[1;33m(\u001b[0m\u001b[0mnrows\u001b[0m\u001b[1;33m)\u001b[0m\u001b[1;33m\u001b[0m\u001b[1;33m\u001b[0m\u001b[0m\n\u001b[0m\u001b[0;32m   2060\u001b[0m         \u001b[1;32mexcept\u001b[0m \u001b[0mStopIteration\u001b[0m\u001b[1;33m:\u001b[0m\u001b[1;33m\u001b[0m\u001b[1;33m\u001b[0m\u001b[0m\n\u001b[0;32m   2061\u001b[0m             \u001b[1;32mif\u001b[0m \u001b[0mself\u001b[0m\u001b[1;33m.\u001b[0m\u001b[0m_first_chunk\u001b[0m\u001b[1;33m:\u001b[0m\u001b[1;33m\u001b[0m\u001b[1;33m\u001b[0m\u001b[0m\n",
      "\u001b[1;32mpandas\\_libs\\parsers.pyx\u001b[0m in \u001b[0;36mpandas._libs.parsers.TextReader.read\u001b[1;34m()\u001b[0m\n",
      "\u001b[1;32mpandas\\_libs\\parsers.pyx\u001b[0m in \u001b[0;36mpandas._libs.parsers.TextReader._read_low_memory\u001b[1;34m()\u001b[0m\n",
      "\u001b[1;32mpandas\\_libs\\parsers.pyx\u001b[0m in \u001b[0;36mpandas._libs.parsers.TextReader._read_rows\u001b[1;34m()\u001b[0m\n",
      "\u001b[1;32mpandas\\_libs\\parsers.pyx\u001b[0m in \u001b[0;36mpandas._libs.parsers.TextReader._tokenize_rows\u001b[1;34m()\u001b[0m\n",
      "\u001b[1;32mpandas\\_libs\\parsers.pyx\u001b[0m in \u001b[0;36mpandas._libs.parsers.raise_parser_error\u001b[1;34m()\u001b[0m\n",
      "\u001b[1;31mParserError\u001b[0m: Error tokenizing data. C error: EOF inside string starting at row 31558"
     ]
    }
   ],
   "source": [
    "import pandas as pd\n",
    "df = pd.read_csv(\"outlet.csv\",error_bad_lines=False )\n",
    "df"
   ]
  },
  {
   "cell_type": "code",
   "execution_count": 10,
   "metadata": {},
   "outputs": [
    {
     "data": {
      "text/html": [
       "<div>\n",
       "<style scoped>\n",
       "    .dataframe tbody tr th:only-of-type {\n",
       "        vertical-align: middle;\n",
       "    }\n",
       "\n",
       "    .dataframe tbody tr th {\n",
       "        vertical-align: top;\n",
       "    }\n",
       "\n",
       "    .dataframe thead th {\n",
       "        text-align: right;\n",
       "    }\n",
       "</style>\n",
       "<table border=\"1\" class=\"dataframe\">\n",
       "  <thead>\n",
       "    <tr style=\"text-align: right;\">\n",
       "      <th></th>\n",
       "      <th>REGIONAL_CODE;REGIONAL_NAME;AO_GROUP_CODE;AO_GROUP_NAME;OU_CODE;SUBCHANNEL_NAME</th>\n",
       "    </tr>\n",
       "  </thead>\n",
       "  <tbody>\n",
       "    <tr>\n",
       "      <td>0</td>\n",
       "      <td>ITR;MAKASSAR;ABN;AMBON;ABN;Trade</td>\n",
       "    </tr>\n",
       "    <tr>\n",
       "      <td>1</td>\n",
       "      <td>ITR;MAKASSAR;ABN;AMBON;ABN;Trade</td>\n",
       "    </tr>\n",
       "    <tr>\n",
       "      <td>2</td>\n",
       "      <td>ITR;MAKASSAR;ABN;AMBON;ABN;Trade</td>\n",
       "    </tr>\n",
       "    <tr>\n",
       "      <td>3</td>\n",
       "      <td>ITR;MAKASSAR;ABN;AMBON;ABN;Trade</td>\n",
       "    </tr>\n",
       "    <tr>\n",
       "      <td>4</td>\n",
       "      <td>ITR;MAKASSAR;ABN;AMBON;ABN;Store DC</td>\n",
       "    </tr>\n",
       "    <tr>\n",
       "      <td>5</td>\n",
       "      <td>ITR;MAKASSAR;ABN;AMBON;ABN;Transaksi</td>\n",
       "    </tr>\n",
       "    <tr>\n",
       "      <td>6</td>\n",
       "      <td>ITR;MAKASSAR;ABN;AMBON;ABN;Trade</td>\n",
       "    </tr>\n",
       "    <tr>\n",
       "      <td>7</td>\n",
       "      <td>ITR;MAKASSAR;ABN;AMBON;ABN;Trade</td>\n",
       "    </tr>\n",
       "    <tr>\n",
       "      <td>8</td>\n",
       "      <td>ITR;MAKASSAR;ABN;AMBON;ABN;Trade</td>\n",
       "    </tr>\n",
       "    <tr>\n",
       "      <td>9</td>\n",
       "      <td>ITR;MAKASSAR;ABN;AMBON;ABN;Trade</td>\n",
       "    </tr>\n",
       "  </tbody>\n",
       "</table>\n",
       "</div>"
      ],
      "text/plain": [
       "  REGIONAL_CODE;REGIONAL_NAME;AO_GROUP_CODE;AO_GROUP_NAME;OU_CODE;SUBCHANNEL_NAME\n",
       "0                   ITR;MAKASSAR;ABN;AMBON;ABN;Trade                             \n",
       "1                   ITR;MAKASSAR;ABN;AMBON;ABN;Trade                             \n",
       "2                   ITR;MAKASSAR;ABN;AMBON;ABN;Trade                             \n",
       "3                   ITR;MAKASSAR;ABN;AMBON;ABN;Trade                             \n",
       "4                ITR;MAKASSAR;ABN;AMBON;ABN;Store DC                             \n",
       "5               ITR;MAKASSAR;ABN;AMBON;ABN;Transaksi                             \n",
       "6                   ITR;MAKASSAR;ABN;AMBON;ABN;Trade                             \n",
       "7                   ITR;MAKASSAR;ABN;AMBON;ABN;Trade                             \n",
       "8                   ITR;MAKASSAR;ABN;AMBON;ABN;Trade                             \n",
       "9                   ITR;MAKASSAR;ABN;AMBON;ABN;Trade                             "
      ]
     },
     "execution_count": 10,
     "metadata": {},
     "output_type": "execute_result"
    }
   ],
   "source": [
    "import pandas as pd\n",
    "df = pd.read_csv(\"Book1.csv\",error_bad_lines=False )\n",
    "df"
   ]
  },
  {
   "cell_type": "code",
   "execution_count": 11,
   "metadata": {},
   "outputs": [
    {
     "ename": "ParserError",
     "evalue": "Error tokenizing data. C error: Expected 1 fields in line 307, saw 2\n",
     "output_type": "error",
     "traceback": [
      "\u001b[1;31m---------------------------------------------------------------------------\u001b[0m",
      "\u001b[1;31mParserError\u001b[0m                               Traceback (most recent call last)",
      "\u001b[1;32m<ipython-input-11-d96dfd0dcba4>\u001b[0m in \u001b[0;36m<module>\u001b[1;34m\u001b[0m\n\u001b[0;32m      1\u001b[0m \u001b[1;32mimport\u001b[0m \u001b[0mpandas\u001b[0m \u001b[1;32mas\u001b[0m \u001b[0mpd\u001b[0m\u001b[1;33m\u001b[0m\u001b[1;33m\u001b[0m\u001b[0m\n\u001b[1;32m----> 2\u001b[1;33m \u001b[0mdf\u001b[0m \u001b[1;33m=\u001b[0m \u001b[0mpd\u001b[0m\u001b[1;33m.\u001b[0m\u001b[0mread_csv\u001b[0m\u001b[1;33m(\u001b[0m\u001b[1;34m\"outlet.csv\"\u001b[0m\u001b[1;33m)\u001b[0m\u001b[1;33m\u001b[0m\u001b[1;33m\u001b[0m\u001b[0m\n\u001b[0m\u001b[0;32m      3\u001b[0m \u001b[0mdf\u001b[0m\u001b[1;33m\u001b[0m\u001b[1;33m\u001b[0m\u001b[0m\n",
      "\u001b[1;32mC:\\ProgramData\\Anaconda3\\lib\\site-packages\\pandas\\io\\parsers.py\u001b[0m in \u001b[0;36mparser_f\u001b[1;34m(filepath_or_buffer, sep, delimiter, header, names, index_col, usecols, squeeze, prefix, mangle_dupe_cols, dtype, engine, converters, true_values, false_values, skipinitialspace, skiprows, skipfooter, nrows, na_values, keep_default_na, na_filter, verbose, skip_blank_lines, parse_dates, infer_datetime_format, keep_date_col, date_parser, dayfirst, cache_dates, iterator, chunksize, compression, thousands, decimal, lineterminator, quotechar, quoting, doublequote, escapechar, comment, encoding, dialect, error_bad_lines, warn_bad_lines, delim_whitespace, low_memory, memory_map, float_precision)\u001b[0m\n\u001b[0;32m    683\u001b[0m         )\n\u001b[0;32m    684\u001b[0m \u001b[1;33m\u001b[0m\u001b[0m\n\u001b[1;32m--> 685\u001b[1;33m         \u001b[1;32mreturn\u001b[0m \u001b[0m_read\u001b[0m\u001b[1;33m(\u001b[0m\u001b[0mfilepath_or_buffer\u001b[0m\u001b[1;33m,\u001b[0m \u001b[0mkwds\u001b[0m\u001b[1;33m)\u001b[0m\u001b[1;33m\u001b[0m\u001b[1;33m\u001b[0m\u001b[0m\n\u001b[0m\u001b[0;32m    686\u001b[0m \u001b[1;33m\u001b[0m\u001b[0m\n\u001b[0;32m    687\u001b[0m     \u001b[0mparser_f\u001b[0m\u001b[1;33m.\u001b[0m\u001b[0m__name__\u001b[0m \u001b[1;33m=\u001b[0m \u001b[0mname\u001b[0m\u001b[1;33m\u001b[0m\u001b[1;33m\u001b[0m\u001b[0m\n",
      "\u001b[1;32mC:\\ProgramData\\Anaconda3\\lib\\site-packages\\pandas\\io\\parsers.py\u001b[0m in \u001b[0;36m_read\u001b[1;34m(filepath_or_buffer, kwds)\u001b[0m\n\u001b[0;32m    461\u001b[0m \u001b[1;33m\u001b[0m\u001b[0m\n\u001b[0;32m    462\u001b[0m     \u001b[1;32mtry\u001b[0m\u001b[1;33m:\u001b[0m\u001b[1;33m\u001b[0m\u001b[1;33m\u001b[0m\u001b[0m\n\u001b[1;32m--> 463\u001b[1;33m         \u001b[0mdata\u001b[0m \u001b[1;33m=\u001b[0m \u001b[0mparser\u001b[0m\u001b[1;33m.\u001b[0m\u001b[0mread\u001b[0m\u001b[1;33m(\u001b[0m\u001b[0mnrows\u001b[0m\u001b[1;33m)\u001b[0m\u001b[1;33m\u001b[0m\u001b[1;33m\u001b[0m\u001b[0m\n\u001b[0m\u001b[0;32m    464\u001b[0m     \u001b[1;32mfinally\u001b[0m\u001b[1;33m:\u001b[0m\u001b[1;33m\u001b[0m\u001b[1;33m\u001b[0m\u001b[0m\n\u001b[0;32m    465\u001b[0m         \u001b[0mparser\u001b[0m\u001b[1;33m.\u001b[0m\u001b[0mclose\u001b[0m\u001b[1;33m(\u001b[0m\u001b[1;33m)\u001b[0m\u001b[1;33m\u001b[0m\u001b[1;33m\u001b[0m\u001b[0m\n",
      "\u001b[1;32mC:\\ProgramData\\Anaconda3\\lib\\site-packages\\pandas\\io\\parsers.py\u001b[0m in \u001b[0;36mread\u001b[1;34m(self, nrows)\u001b[0m\n\u001b[0;32m   1152\u001b[0m     \u001b[1;32mdef\u001b[0m \u001b[0mread\u001b[0m\u001b[1;33m(\u001b[0m\u001b[0mself\u001b[0m\u001b[1;33m,\u001b[0m \u001b[0mnrows\u001b[0m\u001b[1;33m=\u001b[0m\u001b[1;32mNone\u001b[0m\u001b[1;33m)\u001b[0m\u001b[1;33m:\u001b[0m\u001b[1;33m\u001b[0m\u001b[1;33m\u001b[0m\u001b[0m\n\u001b[0;32m   1153\u001b[0m         \u001b[0mnrows\u001b[0m \u001b[1;33m=\u001b[0m \u001b[0m_validate_integer\u001b[0m\u001b[1;33m(\u001b[0m\u001b[1;34m\"nrows\"\u001b[0m\u001b[1;33m,\u001b[0m \u001b[0mnrows\u001b[0m\u001b[1;33m)\u001b[0m\u001b[1;33m\u001b[0m\u001b[1;33m\u001b[0m\u001b[0m\n\u001b[1;32m-> 1154\u001b[1;33m         \u001b[0mret\u001b[0m \u001b[1;33m=\u001b[0m \u001b[0mself\u001b[0m\u001b[1;33m.\u001b[0m\u001b[0m_engine\u001b[0m\u001b[1;33m.\u001b[0m\u001b[0mread\u001b[0m\u001b[1;33m(\u001b[0m\u001b[0mnrows\u001b[0m\u001b[1;33m)\u001b[0m\u001b[1;33m\u001b[0m\u001b[1;33m\u001b[0m\u001b[0m\n\u001b[0m\u001b[0;32m   1155\u001b[0m \u001b[1;33m\u001b[0m\u001b[0m\n\u001b[0;32m   1156\u001b[0m         \u001b[1;31m# May alter columns / col_dict\u001b[0m\u001b[1;33m\u001b[0m\u001b[1;33m\u001b[0m\u001b[1;33m\u001b[0m\u001b[0m\n",
      "\u001b[1;32mC:\\ProgramData\\Anaconda3\\lib\\site-packages\\pandas\\io\\parsers.py\u001b[0m in \u001b[0;36mread\u001b[1;34m(self, nrows)\u001b[0m\n\u001b[0;32m   2057\u001b[0m     \u001b[1;32mdef\u001b[0m \u001b[0mread\u001b[0m\u001b[1;33m(\u001b[0m\u001b[0mself\u001b[0m\u001b[1;33m,\u001b[0m \u001b[0mnrows\u001b[0m\u001b[1;33m=\u001b[0m\u001b[1;32mNone\u001b[0m\u001b[1;33m)\u001b[0m\u001b[1;33m:\u001b[0m\u001b[1;33m\u001b[0m\u001b[1;33m\u001b[0m\u001b[0m\n\u001b[0;32m   2058\u001b[0m         \u001b[1;32mtry\u001b[0m\u001b[1;33m:\u001b[0m\u001b[1;33m\u001b[0m\u001b[1;33m\u001b[0m\u001b[0m\n\u001b[1;32m-> 2059\u001b[1;33m             \u001b[0mdata\u001b[0m \u001b[1;33m=\u001b[0m \u001b[0mself\u001b[0m\u001b[1;33m.\u001b[0m\u001b[0m_reader\u001b[0m\u001b[1;33m.\u001b[0m\u001b[0mread\u001b[0m\u001b[1;33m(\u001b[0m\u001b[0mnrows\u001b[0m\u001b[1;33m)\u001b[0m\u001b[1;33m\u001b[0m\u001b[1;33m\u001b[0m\u001b[0m\n\u001b[0m\u001b[0;32m   2060\u001b[0m         \u001b[1;32mexcept\u001b[0m \u001b[0mStopIteration\u001b[0m\u001b[1;33m:\u001b[0m\u001b[1;33m\u001b[0m\u001b[1;33m\u001b[0m\u001b[0m\n\u001b[0;32m   2061\u001b[0m             \u001b[1;32mif\u001b[0m \u001b[0mself\u001b[0m\u001b[1;33m.\u001b[0m\u001b[0m_first_chunk\u001b[0m\u001b[1;33m:\u001b[0m\u001b[1;33m\u001b[0m\u001b[1;33m\u001b[0m\u001b[0m\n",
      "\u001b[1;32mpandas\\_libs\\parsers.pyx\u001b[0m in \u001b[0;36mpandas._libs.parsers.TextReader.read\u001b[1;34m()\u001b[0m\n",
      "\u001b[1;32mpandas\\_libs\\parsers.pyx\u001b[0m in \u001b[0;36mpandas._libs.parsers.TextReader._read_low_memory\u001b[1;34m()\u001b[0m\n",
      "\u001b[1;32mpandas\\_libs\\parsers.pyx\u001b[0m in \u001b[0;36mpandas._libs.parsers.TextReader._read_rows\u001b[1;34m()\u001b[0m\n",
      "\u001b[1;32mpandas\\_libs\\parsers.pyx\u001b[0m in \u001b[0;36mpandas._libs.parsers.TextReader._tokenize_rows\u001b[1;34m()\u001b[0m\n",
      "\u001b[1;32mpandas\\_libs\\parsers.pyx\u001b[0m in \u001b[0;36mpandas._libs.parsers.raise_parser_error\u001b[1;34m()\u001b[0m\n",
      "\u001b[1;31mParserError\u001b[0m: Error tokenizing data. C error: Expected 1 fields in line 307, saw 2\n"
     ]
    }
   ],
   "source": [
    "import pandas as pd\n",
    "df = pd.read_csv(\"outlet.csv\")\n",
    "df"
   ]
  },
  {
   "cell_type": "code",
   "execution_count": 12,
   "metadata": {},
   "outputs": [
    {
     "data": {
      "text/html": [
       "<div>\n",
       "<style scoped>\n",
       "    .dataframe tbody tr th:only-of-type {\n",
       "        vertical-align: middle;\n",
       "    }\n",
       "\n",
       "    .dataframe tbody tr th {\n",
       "        vertical-align: top;\n",
       "    }\n",
       "\n",
       "    .dataframe thead th {\n",
       "        text-align: right;\n",
       "    }\n",
       "</style>\n",
       "<table border=\"1\" class=\"dataframe\">\n",
       "  <thead>\n",
       "    <tr style=\"text-align: right;\">\n",
       "      <th></th>\n",
       "      <th>REGIONAL_CODE;REGIONAL_NAME;AO_GROUP_CODE;AO_GROUP_NAME;OU_CODE;SUBCHANNEL_NAME</th>\n",
       "    </tr>\n",
       "  </thead>\n",
       "  <tbody>\n",
       "    <tr>\n",
       "      <td>0</td>\n",
       "      <td>ITR;MAKASSAR;ABN;AMBON;ABN;Trade</td>\n",
       "    </tr>\n",
       "    <tr>\n",
       "      <td>1</td>\n",
       "      <td>ITR;MAKASSAR;ABN;AMBON;ABN;Trade</td>\n",
       "    </tr>\n",
       "    <tr>\n",
       "      <td>2</td>\n",
       "      <td>ITR;MAKASSAR;ABN;AMBON;ABN;Trade</td>\n",
       "    </tr>\n",
       "    <tr>\n",
       "      <td>3</td>\n",
       "      <td>ITR;MAKASSAR;ABN;AMBON;ABN;Trade</td>\n",
       "    </tr>\n",
       "    <tr>\n",
       "      <td>4</td>\n",
       "      <td>ITR;MAKASSAR;ABN;AMBON;ABN;Store DC</td>\n",
       "    </tr>\n",
       "    <tr>\n",
       "      <td>5</td>\n",
       "      <td>ITR;MAKASSAR;ABN;AMBON;ABN;Transaksi</td>\n",
       "    </tr>\n",
       "    <tr>\n",
       "      <td>6</td>\n",
       "      <td>ITR;MAKASSAR;ABN;AMBON;ABN;Trade</td>\n",
       "    </tr>\n",
       "    <tr>\n",
       "      <td>7</td>\n",
       "      <td>ITR;MAKASSAR;ABN;AMBON;ABN;Trade</td>\n",
       "    </tr>\n",
       "    <tr>\n",
       "      <td>8</td>\n",
       "      <td>ITR;MAKASSAR;ABN;AMBON;ABN;Trade</td>\n",
       "    </tr>\n",
       "    <tr>\n",
       "      <td>9</td>\n",
       "      <td>ITR;MAKASSAR;ABN;AMBON;ABN;Trade</td>\n",
       "    </tr>\n",
       "  </tbody>\n",
       "</table>\n",
       "</div>"
      ],
      "text/plain": [
       "  REGIONAL_CODE;REGIONAL_NAME;AO_GROUP_CODE;AO_GROUP_NAME;OU_CODE;SUBCHANNEL_NAME\n",
       "0                   ITR;MAKASSAR;ABN;AMBON;ABN;Trade                             \n",
       "1                   ITR;MAKASSAR;ABN;AMBON;ABN;Trade                             \n",
       "2                   ITR;MAKASSAR;ABN;AMBON;ABN;Trade                             \n",
       "3                   ITR;MAKASSAR;ABN;AMBON;ABN;Trade                             \n",
       "4                ITR;MAKASSAR;ABN;AMBON;ABN;Store DC                             \n",
       "5               ITR;MAKASSAR;ABN;AMBON;ABN;Transaksi                             \n",
       "6                   ITR;MAKASSAR;ABN;AMBON;ABN;Trade                             \n",
       "7                   ITR;MAKASSAR;ABN;AMBON;ABN;Trade                             \n",
       "8                   ITR;MAKASSAR;ABN;AMBON;ABN;Trade                             \n",
       "9                   ITR;MAKASSAR;ABN;AMBON;ABN;Trade                             "
      ]
     },
     "execution_count": 12,
     "metadata": {},
     "output_type": "execute_result"
    }
   ],
   "source": [
    "import pandas as pd\n",
    "df = pd.read_csv(\"Book1.csv\",error_bad_lines=False )\n",
    "df"
   ]
  },
  {
   "cell_type": "code",
   "execution_count": 13,
   "metadata": {},
   "outputs": [
    {
     "data": {
      "text/html": [
       "<div>\n",
       "<style scoped>\n",
       "    .dataframe tbody tr th:only-of-type {\n",
       "        vertical-align: middle;\n",
       "    }\n",
       "\n",
       "    .dataframe tbody tr th {\n",
       "        vertical-align: top;\n",
       "    }\n",
       "\n",
       "    .dataframe thead th {\n",
       "        text-align: right;\n",
       "    }\n",
       "</style>\n",
       "<table border=\"1\" class=\"dataframe\">\n",
       "  <thead>\n",
       "    <tr style=\"text-align: right;\">\n",
       "      <th></th>\n",
       "      <th>REGIONAL_CODE;REGIONAL_NAME;AO_GROUP_CODE;AO_GROUP_NAME;OU_CODE;SUBCHANNEL_NAME</th>\n",
       "    </tr>\n",
       "  </thead>\n",
       "  <tbody>\n",
       "    <tr>\n",
       "      <td>0</td>\n",
       "      <td>ITR;MAKASSAR;ABN;AMBON;ABN;Trade</td>\n",
       "    </tr>\n",
       "    <tr>\n",
       "      <td>1</td>\n",
       "      <td>ITR;MAKASSAR;ABN;AMBON;ABN;Trade</td>\n",
       "    </tr>\n",
       "    <tr>\n",
       "      <td>2</td>\n",
       "      <td>ITR;MAKASSAR;ABN;AMBON;ABN;Trade</td>\n",
       "    </tr>\n",
       "    <tr>\n",
       "      <td>3</td>\n",
       "      <td>ITR;MAKASSAR;ABN;AMBON;ABN;Trade</td>\n",
       "    </tr>\n",
       "    <tr>\n",
       "      <td>4</td>\n",
       "      <td>ITR;MAKASSAR;ABN;AMBON;ABN;Store DC</td>\n",
       "    </tr>\n",
       "    <tr>\n",
       "      <td>5</td>\n",
       "      <td>ITR;MAKASSAR;ABN;AMBON;ABN;Transaksi</td>\n",
       "    </tr>\n",
       "    <tr>\n",
       "      <td>6</td>\n",
       "      <td>ITR;MAKASSAR;ABN;AMBON;ABN;Trade</td>\n",
       "    </tr>\n",
       "    <tr>\n",
       "      <td>7</td>\n",
       "      <td>ITR;MAKASSAR;ABN;AMBON;ABN;Trade</td>\n",
       "    </tr>\n",
       "    <tr>\n",
       "      <td>8</td>\n",
       "      <td>ITR;MAKASSAR;ABN;AMBON;ABN;Trade</td>\n",
       "    </tr>\n",
       "    <tr>\n",
       "      <td>9</td>\n",
       "      <td>ITR;MAKASSAR;ABN;AMBON;ABN;Trade</td>\n",
       "    </tr>\n",
       "  </tbody>\n",
       "</table>\n",
       "</div>"
      ],
      "text/plain": [
       "  REGIONAL_CODE;REGIONAL_NAME;AO_GROUP_CODE;AO_GROUP_NAME;OU_CODE;SUBCHANNEL_NAME\n",
       "0                   ITR;MAKASSAR;ABN;AMBON;ABN;Trade                             \n",
       "1                   ITR;MAKASSAR;ABN;AMBON;ABN;Trade                             \n",
       "2                   ITR;MAKASSAR;ABN;AMBON;ABN;Trade                             \n",
       "3                   ITR;MAKASSAR;ABN;AMBON;ABN;Trade                             \n",
       "4                ITR;MAKASSAR;ABN;AMBON;ABN;Store DC                             \n",
       "5               ITR;MAKASSAR;ABN;AMBON;ABN;Transaksi                             \n",
       "6                   ITR;MAKASSAR;ABN;AMBON;ABN;Trade                             \n",
       "7                   ITR;MAKASSAR;ABN;AMBON;ABN;Trade                             \n",
       "8                   ITR;MAKASSAR;ABN;AMBON;ABN;Trade                             \n",
       "9                   ITR;MAKASSAR;ABN;AMBON;ABN;Trade                             "
      ]
     },
     "execution_count": 13,
     "metadata": {},
     "output_type": "execute_result"
    }
   ],
   "source": [
    "import pandas as pd\n",
    "df = pd.read_csv(\"Book1.csv\")\n",
    "df"
   ]
  },
  {
   "cell_type": "code",
   "execution_count": 14,
   "metadata": {},
   "outputs": [
    {
     "data": {
      "text/html": [
       "<div>\n",
       "<style scoped>\n",
       "    .dataframe tbody tr th:only-of-type {\n",
       "        vertical-align: middle;\n",
       "    }\n",
       "\n",
       "    .dataframe tbody tr th {\n",
       "        vertical-align: top;\n",
       "    }\n",
       "\n",
       "    .dataframe thead th {\n",
       "        text-align: right;\n",
       "    }\n",
       "</style>\n",
       "<table border=\"1\" class=\"dataframe\">\n",
       "  <thead>\n",
       "    <tr style=\"text-align: right;\">\n",
       "      <th></th>\n",
       "      <th>REGIONAL_CODE;REGIONAL_NAME;AO_GROUP_CODE;AO_GROUP_NAME;OU_CODE;SUBCHANNEL_NAME</th>\n",
       "    </tr>\n",
       "  </thead>\n",
       "  <tbody>\n",
       "    <tr>\n",
       "      <td>0</td>\n",
       "      <td>ITR;MAKASSAR;ABN;AMBON;ABN;Trade</td>\n",
       "    </tr>\n",
       "    <tr>\n",
       "      <td>1</td>\n",
       "      <td>ITR;MAKASSAR;ABN;AMBON;ABN;Trade</td>\n",
       "    </tr>\n",
       "    <tr>\n",
       "      <td>2</td>\n",
       "      <td>ITR;MAKASSAR;ABN;AMBON;ABN;Trade</td>\n",
       "    </tr>\n",
       "    <tr>\n",
       "      <td>3</td>\n",
       "      <td>ITR;MAKASSAR;ABN;AMBON;ABN;Trade</td>\n",
       "    </tr>\n",
       "    <tr>\n",
       "      <td>4</td>\n",
       "      <td>ITR;MAKASSAR;ABN;AMBON;ABN;Store DC</td>\n",
       "    </tr>\n",
       "    <tr>\n",
       "      <td>5</td>\n",
       "      <td>ITR;MAKASSAR;ABN;AMBON;ABN;Transaksi</td>\n",
       "    </tr>\n",
       "    <tr>\n",
       "      <td>6</td>\n",
       "      <td>ITR;MAKASSAR;ABN;AMBON;ABN;Trade</td>\n",
       "    </tr>\n",
       "    <tr>\n",
       "      <td>7</td>\n",
       "      <td>ITR;MAKASSAR;ABN;AMBON;ABN;Trade</td>\n",
       "    </tr>\n",
       "    <tr>\n",
       "      <td>8</td>\n",
       "      <td>ITR;MAKASSAR;ABN;AMBON;ABN;Trade</td>\n",
       "    </tr>\n",
       "    <tr>\n",
       "      <td>9</td>\n",
       "      <td>ITR;MAKASSAR;ABN;AMBON;ABN;Trade</td>\n",
       "    </tr>\n",
       "  </tbody>\n",
       "</table>\n",
       "</div>"
      ],
      "text/plain": [
       "  REGIONAL_CODE;REGIONAL_NAME;AO_GROUP_CODE;AO_GROUP_NAME;OU_CODE;SUBCHANNEL_NAME\n",
       "0                   ITR;MAKASSAR;ABN;AMBON;ABN;Trade                             \n",
       "1                   ITR;MAKASSAR;ABN;AMBON;ABN;Trade                             \n",
       "2                   ITR;MAKASSAR;ABN;AMBON;ABN;Trade                             \n",
       "3                   ITR;MAKASSAR;ABN;AMBON;ABN;Trade                             \n",
       "4                ITR;MAKASSAR;ABN;AMBON;ABN;Store DC                             \n",
       "5               ITR;MAKASSAR;ABN;AMBON;ABN;Transaksi                             \n",
       "6                   ITR;MAKASSAR;ABN;AMBON;ABN;Trade                             \n",
       "7                   ITR;MAKASSAR;ABN;AMBON;ABN;Trade                             \n",
       "8                   ITR;MAKASSAR;ABN;AMBON;ABN;Trade                             \n",
       "9                   ITR;MAKASSAR;ABN;AMBON;ABN;Trade                             "
      ]
     },
     "execution_count": 14,
     "metadata": {},
     "output_type": "execute_result"
    }
   ],
   "source": [
    "import pandas as pd\n",
    "df = pd.read_csv(\"Book1.csv\")\n",
    "df"
   ]
  },
  {
   "cell_type": "code",
   "execution_count": 15,
   "metadata": {},
   "outputs": [
    {
     "data": {
      "text/html": [
       "<div>\n",
       "<style scoped>\n",
       "    .dataframe tbody tr th:only-of-type {\n",
       "        vertical-align: middle;\n",
       "    }\n",
       "\n",
       "    .dataframe tbody tr th {\n",
       "        vertical-align: top;\n",
       "    }\n",
       "\n",
       "    .dataframe thead th {\n",
       "        text-align: right;\n",
       "    }\n",
       "</style>\n",
       "<table border=\"1\" class=\"dataframe\">\n",
       "  <thead>\n",
       "    <tr style=\"text-align: right;\">\n",
       "      <th></th>\n",
       "      <th>REGIONAL</th>\n",
       "      <th>AO</th>\n",
       "      <th>OU</th>\n",
       "      <th>SUB_COV_RESPONSIBILITY</th>\n",
       "      <th>TO_CODE</th>\n",
       "      <th>DO_CODE</th>\n",
       "      <th>RO_CODE</th>\n",
       "      <th>ID_OUTLET</th>\n",
       "      <th>NAMA_OUTLET</th>\n",
       "      <th>TIPE_OUTLET</th>\n",
       "      <th>...</th>\n",
       "      <th>HMS_CYCLE</th>\n",
       "      <th>DJA_INVEST</th>\n",
       "      <th>DJA_CYCLE</th>\n",
       "      <th>BAT_INVEST</th>\n",
       "      <th>BAT_CYCLE</th>\n",
       "      <th>NOJORONO_INVEST</th>\n",
       "      <th>NOJORONO_CYCLE</th>\n",
       "      <th>JTI_INVEST</th>\n",
       "      <th>JTI_CYCLE</th>\n",
       "      <th>CALL DURATION AVG Q3</th>\n",
       "    </tr>\n",
       "  </thead>\n",
       "  <tbody>\n",
       "    <tr>\n",
       "      <td>0</td>\n",
       "      <td>BDK</td>\n",
       "      <td>BMA</td>\n",
       "      <td>BMA</td>\n",
       "      <td>Store DC</td>\n",
       "      <td>1</td>\n",
       "      <td>3</td>\n",
       "      <td>1</td>\n",
       "      <td>BMA18009519</td>\n",
       "      <td>ALFAMART SONDOSIA</td>\n",
       "      <td>MINIMARKET CHAIN</td>\n",
       "      <td>...</td>\n",
       "      <td>NaN</td>\n",
       "      <td>SILVER 1</td>\n",
       "      <td>BIWEEKLY</td>\n",
       "      <td>NaN</td>\n",
       "      <td>NaN</td>\n",
       "      <td>NaN</td>\n",
       "      <td>MONTHLY</td>\n",
       "      <td>NaN</td>\n",
       "      <td>NaN</td>\n",
       "      <td>NOTES : AVERAGE HANYA PADA SAAT TERDAPAT RECOR...</td>\n",
       "    </tr>\n",
       "    <tr>\n",
       "      <td>1</td>\n",
       "      <td>BDK</td>\n",
       "      <td>BMA</td>\n",
       "      <td>BMA</td>\n",
       "      <td>Store DC</td>\n",
       "      <td>1</td>\n",
       "      <td>3</td>\n",
       "      <td>1</td>\n",
       "      <td>BMA18009518</td>\n",
       "      <td>ALFAMART TIMU</td>\n",
       "      <td>MINIMARKET CHAIN</td>\n",
       "      <td>...</td>\n",
       "      <td>NaN</td>\n",
       "      <td>SILVER 1</td>\n",
       "      <td>MONTHLY</td>\n",
       "      <td>NaN</td>\n",
       "      <td>NaN</td>\n",
       "      <td>NaN</td>\n",
       "      <td>NaN</td>\n",
       "      <td>NaN</td>\n",
       "      <td>NaN</td>\n",
       "      <td>NaN</td>\n",
       "    </tr>\n",
       "    <tr>\n",
       "      <td>2</td>\n",
       "      <td>BDK</td>\n",
       "      <td>BMA</td>\n",
       "      <td>BMA</td>\n",
       "      <td>Store DC</td>\n",
       "      <td>1</td>\n",
       "      <td>3</td>\n",
       "      <td>4</td>\n",
       "      <td>BMA18009511</td>\n",
       "      <td>ALFAMART RASABOU</td>\n",
       "      <td>MINIMARKET CHAIN</td>\n",
       "      <td>...</td>\n",
       "      <td>NaN</td>\n",
       "      <td>NaN</td>\n",
       "      <td>NaN</td>\n",
       "      <td>NaN</td>\n",
       "      <td>NaN</td>\n",
       "      <td>DISPLAY + UNIT PROMOSI</td>\n",
       "      <td>MONTHLY</td>\n",
       "      <td>NaN</td>\n",
       "      <td>NaN</td>\n",
       "      <td>NaN</td>\n",
       "    </tr>\n",
       "    <tr>\n",
       "      <td>3</td>\n",
       "      <td>BDK</td>\n",
       "      <td>BMA</td>\n",
       "      <td>BMA</td>\n",
       "      <td>Store DC</td>\n",
       "      <td>1</td>\n",
       "      <td>3</td>\n",
       "      <td>4</td>\n",
       "      <td>BMA18009510</td>\n",
       "      <td>ALFAMART RATO - 1SK4</td>\n",
       "      <td>MINIMARKET CHAIN</td>\n",
       "      <td>...</td>\n",
       "      <td>NaN</td>\n",
       "      <td>NaN</td>\n",
       "      <td>MONTHLY</td>\n",
       "      <td>NaN</td>\n",
       "      <td>NaN</td>\n",
       "      <td>NaN</td>\n",
       "      <td>NaN</td>\n",
       "      <td>NaN</td>\n",
       "      <td>NaN</td>\n",
       "      <td>NaN</td>\n",
       "    </tr>\n",
       "    <tr>\n",
       "      <td>4</td>\n",
       "      <td>BDK</td>\n",
       "      <td>BMA</td>\n",
       "      <td>BMA</td>\n",
       "      <td>Trade</td>\n",
       "      <td>1</td>\n",
       "      <td>1</td>\n",
       "      <td>1</td>\n",
       "      <td>BMA008736</td>\n",
       "      <td>MURAH REJEKI</td>\n",
       "      <td>TOKO</td>\n",
       "      <td>...</td>\n",
       "      <td>WEEKLY</td>\n",
       "      <td>NaN</td>\n",
       "      <td>WEEKLY</td>\n",
       "      <td>NaN</td>\n",
       "      <td>NaN</td>\n",
       "      <td>NaN</td>\n",
       "      <td>WEEKLY</td>\n",
       "      <td>NaN</td>\n",
       "      <td>NaN</td>\n",
       "      <td>NaN</td>\n",
       "    </tr>\n",
       "    <tr>\n",
       "      <td>5</td>\n",
       "      <td>BDK</td>\n",
       "      <td>BMA</td>\n",
       "      <td>BMA</td>\n",
       "      <td>Trade</td>\n",
       "      <td>1</td>\n",
       "      <td>1</td>\n",
       "      <td>1</td>\n",
       "      <td>BMA008436</td>\n",
       "      <td>ANGGITA</td>\n",
       "      <td>TOKO</td>\n",
       "      <td>...</td>\n",
       "      <td>NaN</td>\n",
       "      <td>NaN</td>\n",
       "      <td>BIWEEKLY</td>\n",
       "      <td>NaN</td>\n",
       "      <td>NaN</td>\n",
       "      <td>NaN</td>\n",
       "      <td>BIWEEKLY</td>\n",
       "      <td>NaN</td>\n",
       "      <td>NaN</td>\n",
       "      <td>NaN</td>\n",
       "    </tr>\n",
       "    <tr>\n",
       "      <td>6</td>\n",
       "      <td>BDK</td>\n",
       "      <td>BMA</td>\n",
       "      <td>BMA</td>\n",
       "      <td>Trade</td>\n",
       "      <td>1</td>\n",
       "      <td>1</td>\n",
       "      <td>1</td>\n",
       "      <td>BMA.A.000810</td>\n",
       "      <td>OIMBO CELL</td>\n",
       "      <td>TOKO</td>\n",
       "      <td>...</td>\n",
       "      <td>WEEKLY</td>\n",
       "      <td>NaN</td>\n",
       "      <td>NaN</td>\n",
       "      <td>NaN</td>\n",
       "      <td>NaN</td>\n",
       "      <td>DISPLAY + UNIT PROMOSI</td>\n",
       "      <td>WEEKLY</td>\n",
       "      <td>NaN</td>\n",
       "      <td>NaN</td>\n",
       "      <td>NaN</td>\n",
       "    </tr>\n",
       "  </tbody>\n",
       "</table>\n",
       "<p>7 rows × 27 columns</p>\n",
       "</div>"
      ],
      "text/plain": [
       "  REGIONAL   AO   OU SUB_COV_RESPONSIBILITY  TO_CODE  DO_CODE  RO_CODE  \\\n",
       "0      BDK  BMA  BMA               Store DC        1        3        1   \n",
       "1      BDK  BMA  BMA               Store DC        1        3        1   \n",
       "2      BDK  BMA  BMA               Store DC        1        3        4   \n",
       "3      BDK  BMA  BMA               Store DC        1        3        4   \n",
       "4      BDK  BMA  BMA                  Trade        1        1        1   \n",
       "5      BDK  BMA  BMA                  Trade        1        1        1   \n",
       "6      BDK  BMA  BMA                  Trade        1        1        1   \n",
       "\n",
       "      ID_OUTLET           NAMA_OUTLET       TIPE_OUTLET  ... HMS_CYCLE  \\\n",
       "0   BMA18009519     ALFAMART SONDOSIA  MINIMARKET CHAIN  ...       NaN   \n",
       "1   BMA18009518         ALFAMART TIMU  MINIMARKET CHAIN  ...       NaN   \n",
       "2   BMA18009511      ALFAMART RASABOU  MINIMARKET CHAIN  ...       NaN   \n",
       "3   BMA18009510  ALFAMART RATO - 1SK4  MINIMARKET CHAIN  ...       NaN   \n",
       "4     BMA008736          MURAH REJEKI              TOKO  ...    WEEKLY   \n",
       "5     BMA008436               ANGGITA              TOKO  ...       NaN   \n",
       "6  BMA.A.000810            OIMBO CELL              TOKO  ...    WEEKLY   \n",
       "\n",
       "  DJA_INVEST DJA_CYCLE BAT_INVEST BAT_CYCLE         NOJORONO_INVEST  \\\n",
       "0   SILVER 1  BIWEEKLY        NaN       NaN                     NaN   \n",
       "1   SILVER 1   MONTHLY        NaN       NaN                     NaN   \n",
       "2        NaN       NaN        NaN       NaN  DISPLAY + UNIT PROMOSI   \n",
       "3        NaN   MONTHLY        NaN       NaN                     NaN   \n",
       "4        NaN    WEEKLY        NaN       NaN                     NaN   \n",
       "5        NaN  BIWEEKLY        NaN       NaN                     NaN   \n",
       "6        NaN       NaN        NaN       NaN  DISPLAY + UNIT PROMOSI   \n",
       "\n",
       "  NOJORONO_CYCLE JTI_INVEST JTI_CYCLE  \\\n",
       "0        MONTHLY        NaN       NaN   \n",
       "1            NaN        NaN       NaN   \n",
       "2        MONTHLY        NaN       NaN   \n",
       "3            NaN        NaN       NaN   \n",
       "4         WEEKLY        NaN       NaN   \n",
       "5       BIWEEKLY        NaN       NaN   \n",
       "6         WEEKLY        NaN       NaN   \n",
       "\n",
       "                                CALL DURATION AVG Q3  \n",
       "0  NOTES : AVERAGE HANYA PADA SAAT TERDAPAT RECOR...  \n",
       "1                                                NaN  \n",
       "2                                                NaN  \n",
       "3                                                NaN  \n",
       "4                                                NaN  \n",
       "5                                                NaN  \n",
       "6                                                NaN  \n",
       "\n",
       "[7 rows x 27 columns]"
      ]
     },
     "execution_count": 15,
     "metadata": {},
     "output_type": "execute_result"
    }
   ],
   "source": [
    "import pandas as pd\n",
    "df = pd.read_excel(\"aa.xlsx\")\n",
    "df"
   ]
  },
  {
   "cell_type": "code",
   "execution_count": 16,
   "metadata": {},
   "outputs": [
    {
     "data": {
      "text/html": [
       "<div>\n",
       "<style scoped>\n",
       "    .dataframe tbody tr th:only-of-type {\n",
       "        vertical-align: middle;\n",
       "    }\n",
       "\n",
       "    .dataframe tbody tr th {\n",
       "        vertical-align: top;\n",
       "    }\n",
       "\n",
       "    .dataframe thead th {\n",
       "        text-align: right;\n",
       "    }\n",
       "</style>\n",
       "<table border=\"1\" class=\"dataframe\">\n",
       "  <thead>\n",
       "    <tr style=\"text-align: right;\">\n",
       "      <th></th>\n",
       "      <th>Report Master Outlet Non Retail &amp; Master District\\nDate Downloaded: 12/17/2019 8:32:37 AM</th>\n",
       "      <th>Unnamed: 1</th>\n",
       "      <th>Unnamed: 2</th>\n",
       "    </tr>\n",
       "  </thead>\n",
       "  <tbody>\n",
       "  </tbody>\n",
       "</table>\n",
       "</div>"
      ],
      "text/plain": [
       "Empty DataFrame\n",
       "Columns: [Report Master Outlet Non Retail & Master District\n",
       "Date Downloaded: 12/17/2019 8:32:37 AM, Unnamed: 1, Unnamed: 2]\n",
       "Index: []"
      ]
     },
     "execution_count": 16,
     "metadata": {},
     "output_type": "execute_result"
    }
   ],
   "source": [
    "import pandas as pd\n",
    "df = pd.read_excel(\"Report Master Outlet Channel Non Retail and District Name.xlsx\")\n",
    "df"
   ]
  },
  {
   "cell_type": "code",
   "execution_count": 17,
   "metadata": {},
   "outputs": [
    {
     "data": {
      "text/html": [
       "<div>\n",
       "<style scoped>\n",
       "    .dataframe tbody tr th:only-of-type {\n",
       "        vertical-align: middle;\n",
       "    }\n",
       "\n",
       "    .dataframe tbody tr th {\n",
       "        vertical-align: top;\n",
       "    }\n",
       "\n",
       "    .dataframe thead th {\n",
       "        text-align: right;\n",
       "    }\n",
       "</style>\n",
       "<table border=\"1\" class=\"dataframe\">\n",
       "  <thead>\n",
       "    <tr style=\"text-align: right;\">\n",
       "      <th></th>\n",
       "      <th>Report Master Outlet Non Retail &amp; Master District\\nDate Downloaded: 12/17/2019 8:32:37 AM</th>\n",
       "      <th>Unnamed: 1</th>\n",
       "      <th>Unnamed: 2</th>\n",
       "    </tr>\n",
       "  </thead>\n",
       "  <tbody>\n",
       "  </tbody>\n",
       "</table>\n",
       "</div>"
      ],
      "text/plain": [
       "Empty DataFrame\n",
       "Columns: [Report Master Outlet Non Retail & Master District\n",
       "Date Downloaded: 12/17/2019 8:32:37 AM, Unnamed: 1, Unnamed: 2]\n",
       "Index: []"
      ]
     },
     "execution_count": 17,
     "metadata": {},
     "output_type": "execute_result"
    }
   ],
   "source": [
    "df"
   ]
  },
  {
   "cell_type": "code",
   "execution_count": 18,
   "metadata": {},
   "outputs": [],
   "source": [
    "import pandas as pd"
   ]
  },
  {
   "cell_type": "code",
   "execution_count": 19,
   "metadata": {},
   "outputs": [
    {
     "data": {
      "text/plain": [
       "OrderedDict([('Marketing',\n",
       "                     REGIONAL CODE REGIONAL NAME AO GROUP CODE AO GROUP NAME OU CODE  \\\n",
       "              0                ITR      MAKASSAR           ABN         AMBON     ABN   \n",
       "              1                ITR      MAKASSAR           ABN         AMBON     ABN   \n",
       "              2                ITR      MAKASSAR           ABN         AMBON     ABN   \n",
       "              3                ITR      MAKASSAR           ABN         AMBON     ABN   \n",
       "              4                ITR      MAKASSAR           ABN         AMBON     ABN   \n",
       "              ...              ...           ...           ...           ...     ...   \n",
       "              117944           JTH      SEMARANG           YYA    YOGYAKARTA     YYA   \n",
       "              117945           JTH      SEMARANG           YYA    YOGYAKARTA     YYA   \n",
       "              117946           JTH      SEMARANG           YYA    YOGYAKARTA     YYA   \n",
       "              117947           JTH      SEMARANG           YYA    YOGYAKARTA     YYA   \n",
       "              117948           JTH      SEMARANG           YYA    YOGYAKARTA     YYA   \n",
       "              \n",
       "                     SUBCHANNEL NAME  TERRITORY CODE   NIK SPV               NAMA SPV  \\\n",
       "              0                Trade               1  200312.0        MARINES KEILUHU   \n",
       "              1                Trade               1  200312.0        MARINES KEILUHU   \n",
       "              2                Trade               1  200312.0        MARINES KEILUHU   \n",
       "              3                Trade               1  200312.0        MARINES KEILUHU   \n",
       "              4             Store DC               1  200312.0        MARINES KEILUHU   \n",
       "              ...                ...             ...       ...                    ...   \n",
       "              117944       Transaksi               3  170051.0  GALIH ANANTA RAHMAWAN   \n",
       "              117945       Transaksi               3  170051.0  GALIH ANANTA RAHMAWAN   \n",
       "              117946       Transaksi               3  170051.0  GALIH ANANTA RAHMAWAN   \n",
       "              117947       Transaksi               3  170051.0  GALIH ANANTA RAHMAWAN   \n",
       "              117948       Transaksi               3  170051.0  GALIH ANANTA RAHMAWAN   \n",
       "              \n",
       "                      DISTRICT CODE  ...                     ADDRESS COUNT NAME 1  \\\n",
       "              0                   1  ...               JL. L LEIMENA        AMBON   \n",
       "              1                   1  ...                POROS WAYAME        AMBON   \n",
       "              2                   1  ...                     LEIMENA        AMBON   \n",
       "              3                   1  ...               JL DR LEIMENA        AMBON   \n",
       "              4                   1  ...               JL DR LEIMENA        AMBON   \n",
       "              ...               ...  ...                         ...          ...   \n",
       "              117944             21  ...      JL AHMAD DAHLAN NO.132   YOGYAKARTA   \n",
       "              117945             21  ...   JL BHAYANGKARA YOGYAKARTA   YOGYAKARTA   \n",
       "              117946             21  ...          JL. NGASEM NO 58\\n   YOGYAKARTA   \n",
       "              117947             21  ...  JL KETANDAN WETAN NO 33 B    YOGYAKARTA   \n",
       "              117948             21  ...            JL SUDIRMAN NO 8   YOGYAKARTA   \n",
       "              \n",
       "                     SUBDISTRICT NAME 1  VILLAGE NAME 1     PARAMNAME SHOP  \\\n",
       "              0             TELUK AMBON            POKA             MEDIUM   \n",
       "              1             TELUK AMBON          WAIAME              SMALL   \n",
       "              2             TELUK AMBON            LAHA              SMALL   \n",
       "              3             TELUK AMBON            LAHA             MEDIUM   \n",
       "              4             TELUK AMBON            LAHA              SMALL   \n",
       "              ...                   ...             ...                ...   \n",
       "              117944          NGAMPILAN       NGAMPILAN              SMALL   \n",
       "              117945      GEDONG TENGEN   SOSROMENDURAN  TIDAK BISA PASANG   \n",
       "              117946             KRATON       KADIPATEN                BIG   \n",
       "              117947         GONDOMANAN        NGUPASAN                BIG   \n",
       "              117948              JETIS        GOWONGAN                BIG   \n",
       "              \n",
       "                          PARAMNAME POSISI  PARAM NAME BANGUN    PARAM NAME KELASJAL  \\\n",
       "              0              SEJAJAR JALAN           Permanen  JALAN RAYA (1-4 RUAS)   \n",
       "              1              SEJAJAR JALAN           Permanen  JALAN RAYA (1-4 RUAS)   \n",
       "              2              SEJAJAR JALAN           Permanen  JALAN RAYA (1-4 RUAS)   \n",
       "              3              SEJAJAR JALAN           Permanen  JALAN RAYA (1-4 RUAS)   \n",
       "              4              SEJAJAR JALAN           Permanen  JALAN RAYA (1-4 RUAS)   \n",
       "              ...                      ...                ...                    ...   \n",
       "              117944  PEREMPATAN/PERTIGAAN           Permanen  JALAN RAYA (1-4 RUAS)   \n",
       "              117945         SEJAJAR JALAN           Permanen  JALAN RAYA (1-4 RUAS)   \n",
       "              117946         SEJAJAR JALAN           Permanen  JALAN RAYA (1-4 RUAS)   \n",
       "              117947         SEJAJAR JALAN           Permanen  JALAN RAYA (1-4 RUAS)   \n",
       "              117948         SEJAJAR JALAN           Permanen  JALAN RAYA (1-4 RUAS)   \n",
       "              \n",
       "                                 ZONE TYPE NAME  CALL CYCLE  \n",
       "              0               PERKANTORAN [PKT]           W  \n",
       "              1               PERKANTORAN [PKT]           W  \n",
       "              2               PERKANTORAN [PKT]          B2  \n",
       "              3                   BANDARA [BDR]          B2  \n",
       "              4       SEKOLAH/UNIVERSITAS [SKL]          B2  \n",
       "              ...                           ...         ...  \n",
       "              117944  SEKOLAH/UNIVERSITAS [SKL]           W  \n",
       "              117945  SHOPPING MALL/PLAZA [MAL]           W  \n",
       "              117946            PEMUKIMAN [PMK]           W  \n",
       "              117947  REKREASI/PARIWISATA [PRW]           W  \n",
       "              117948  REKREASI/PARIWISATA [PRW]           W  \n",
       "              \n",
       "              [117949 rows x 42 columns])])"
      ]
     },
     "execution_count": 19,
     "metadata": {},
     "output_type": "execute_result"
    }
   ],
   "source": [
    "sheets = pd.read_excel('Report Master Outlet Channel Non Retail and District Name.xlsx',\n",
    "                      sheet_name = ['Marketing'])\n",
    "sheets"
   ]
  },
  {
   "cell_type": "code",
   "execution_count": 20,
   "metadata": {},
   "outputs": [
    {
     "ename": "AttributeError",
     "evalue": "'collections.OrderedDict' object has no attribute 'columns'",
     "output_type": "error",
     "traceback": [
      "\u001b[1;31m---------------------------------------------------------------------------\u001b[0m",
      "\u001b[1;31mAttributeError\u001b[0m                            Traceback (most recent call last)",
      "\u001b[1;32m<ipython-input-20-81bfd01cd687>\u001b[0m in \u001b[0;36m<module>\u001b[1;34m\u001b[0m\n\u001b[1;32m----> 1\u001b[1;33m \u001b[0msheets\u001b[0m\u001b[1;33m.\u001b[0m\u001b[0mcolumns\u001b[0m\u001b[1;33m\u001b[0m\u001b[1;33m\u001b[0m\u001b[0m\n\u001b[0m",
      "\u001b[1;31mAttributeError\u001b[0m: 'collections.OrderedDict' object has no attribute 'columns'"
     ]
    }
   ],
   "source": [
    "sheets.columns"
   ]
  },
  {
   "cell_type": "code",
   "execution_count": 21,
   "metadata": {},
   "outputs": [
    {
     "data": {
      "text/plain": [
       "(0, 3)"
      ]
     },
     "execution_count": 21,
     "metadata": {},
     "output_type": "execute_result"
    }
   ],
   "source": [
    "df.shape"
   ]
  },
  {
   "cell_type": "code",
   "execution_count": 22,
   "metadata": {},
   "outputs": [
    {
     "ename": "AttributeError",
     "evalue": "'collections.OrderedDict' object has no attribute 'shape'",
     "output_type": "error",
     "traceback": [
      "\u001b[1;31m---------------------------------------------------------------------------\u001b[0m",
      "\u001b[1;31mAttributeError\u001b[0m                            Traceback (most recent call last)",
      "\u001b[1;32m<ipython-input-22-add4e580f887>\u001b[0m in \u001b[0;36m<module>\u001b[1;34m\u001b[0m\n\u001b[1;32m----> 1\u001b[1;33m \u001b[0msheets\u001b[0m\u001b[1;33m.\u001b[0m\u001b[0mshape\u001b[0m\u001b[1;33m\u001b[0m\u001b[1;33m\u001b[0m\u001b[0m\n\u001b[0m",
      "\u001b[1;31mAttributeError\u001b[0m: 'collections.OrderedDict' object has no attribute 'shape'"
     ]
    }
   ],
   "source": [
    "sheets.shape"
   ]
  },
  {
   "cell_type": "code",
   "execution_count": 23,
   "metadata": {},
   "outputs": [
    {
     "data": {
      "text/plain": [
       "OrderedDict([('Marketing',\n",
       "                     REGIONAL CODE REGIONAL NAME AO GROUP CODE AO GROUP NAME OU CODE  \\\n",
       "              0                ITR      MAKASSAR           ABN         AMBON     ABN   \n",
       "              1                ITR      MAKASSAR           ABN         AMBON     ABN   \n",
       "              2                ITR      MAKASSAR           ABN         AMBON     ABN   \n",
       "              3                ITR      MAKASSAR           ABN         AMBON     ABN   \n",
       "              4                ITR      MAKASSAR           ABN         AMBON     ABN   \n",
       "              ...              ...           ...           ...           ...     ...   \n",
       "              117944           JTH      SEMARANG           YYA    YOGYAKARTA     YYA   \n",
       "              117945           JTH      SEMARANG           YYA    YOGYAKARTA     YYA   \n",
       "              117946           JTH      SEMARANG           YYA    YOGYAKARTA     YYA   \n",
       "              117947           JTH      SEMARANG           YYA    YOGYAKARTA     YYA   \n",
       "              117948           JTH      SEMARANG           YYA    YOGYAKARTA     YYA   \n",
       "              \n",
       "                     SUBCHANNEL NAME  TERRITORY CODE   NIK SPV               NAMA SPV  \\\n",
       "              0                Trade               1  200312.0        MARINES KEILUHU   \n",
       "              1                Trade               1  200312.0        MARINES KEILUHU   \n",
       "              2                Trade               1  200312.0        MARINES KEILUHU   \n",
       "              3                Trade               1  200312.0        MARINES KEILUHU   \n",
       "              4             Store DC               1  200312.0        MARINES KEILUHU   \n",
       "              ...                ...             ...       ...                    ...   \n",
       "              117944       Transaksi               3  170051.0  GALIH ANANTA RAHMAWAN   \n",
       "              117945       Transaksi               3  170051.0  GALIH ANANTA RAHMAWAN   \n",
       "              117946       Transaksi               3  170051.0  GALIH ANANTA RAHMAWAN   \n",
       "              117947       Transaksi               3  170051.0  GALIH ANANTA RAHMAWAN   \n",
       "              117948       Transaksi               3  170051.0  GALIH ANANTA RAHMAWAN   \n",
       "              \n",
       "                      DISTRICT CODE  ...                     ADDRESS COUNT NAME 1  \\\n",
       "              0                   1  ...               JL. L LEIMENA        AMBON   \n",
       "              1                   1  ...                POROS WAYAME        AMBON   \n",
       "              2                   1  ...                     LEIMENA        AMBON   \n",
       "              3                   1  ...               JL DR LEIMENA        AMBON   \n",
       "              4                   1  ...               JL DR LEIMENA        AMBON   \n",
       "              ...               ...  ...                         ...          ...   \n",
       "              117944             21  ...      JL AHMAD DAHLAN NO.132   YOGYAKARTA   \n",
       "              117945             21  ...   JL BHAYANGKARA YOGYAKARTA   YOGYAKARTA   \n",
       "              117946             21  ...          JL. NGASEM NO 58\\n   YOGYAKARTA   \n",
       "              117947             21  ...  JL KETANDAN WETAN NO 33 B    YOGYAKARTA   \n",
       "              117948             21  ...            JL SUDIRMAN NO 8   YOGYAKARTA   \n",
       "              \n",
       "                     SUBDISTRICT NAME 1  VILLAGE NAME 1     PARAMNAME SHOP  \\\n",
       "              0             TELUK AMBON            POKA             MEDIUM   \n",
       "              1             TELUK AMBON          WAIAME              SMALL   \n",
       "              2             TELUK AMBON            LAHA              SMALL   \n",
       "              3             TELUK AMBON            LAHA             MEDIUM   \n",
       "              4             TELUK AMBON            LAHA              SMALL   \n",
       "              ...                   ...             ...                ...   \n",
       "              117944          NGAMPILAN       NGAMPILAN              SMALL   \n",
       "              117945      GEDONG TENGEN   SOSROMENDURAN  TIDAK BISA PASANG   \n",
       "              117946             KRATON       KADIPATEN                BIG   \n",
       "              117947         GONDOMANAN        NGUPASAN                BIG   \n",
       "              117948              JETIS        GOWONGAN                BIG   \n",
       "              \n",
       "                          PARAMNAME POSISI  PARAM NAME BANGUN    PARAM NAME KELASJAL  \\\n",
       "              0              SEJAJAR JALAN           Permanen  JALAN RAYA (1-4 RUAS)   \n",
       "              1              SEJAJAR JALAN           Permanen  JALAN RAYA (1-4 RUAS)   \n",
       "              2              SEJAJAR JALAN           Permanen  JALAN RAYA (1-4 RUAS)   \n",
       "              3              SEJAJAR JALAN           Permanen  JALAN RAYA (1-4 RUAS)   \n",
       "              4              SEJAJAR JALAN           Permanen  JALAN RAYA (1-4 RUAS)   \n",
       "              ...                      ...                ...                    ...   \n",
       "              117944  PEREMPATAN/PERTIGAAN           Permanen  JALAN RAYA (1-4 RUAS)   \n",
       "              117945         SEJAJAR JALAN           Permanen  JALAN RAYA (1-4 RUAS)   \n",
       "              117946         SEJAJAR JALAN           Permanen  JALAN RAYA (1-4 RUAS)   \n",
       "              117947         SEJAJAR JALAN           Permanen  JALAN RAYA (1-4 RUAS)   \n",
       "              117948         SEJAJAR JALAN           Permanen  JALAN RAYA (1-4 RUAS)   \n",
       "              \n",
       "                                 ZONE TYPE NAME  CALL CYCLE  \n",
       "              0               PERKANTORAN [PKT]           W  \n",
       "              1               PERKANTORAN [PKT]           W  \n",
       "              2               PERKANTORAN [PKT]          B2  \n",
       "              3                   BANDARA [BDR]          B2  \n",
       "              4       SEKOLAH/UNIVERSITAS [SKL]          B2  \n",
       "              ...                           ...         ...  \n",
       "              117944  SEKOLAH/UNIVERSITAS [SKL]           W  \n",
       "              117945  SHOPPING MALL/PLAZA [MAL]           W  \n",
       "              117946            PEMUKIMAN [PMK]           W  \n",
       "              117947  REKREASI/PARIWISATA [PRW]           W  \n",
       "              117948  REKREASI/PARIWISATA [PRW]           W  \n",
       "              \n",
       "              [117949 rows x 42 columns])])"
      ]
     },
     "execution_count": 23,
     "metadata": {},
     "output_type": "execute_result"
    }
   ],
   "source": [
    "sheets"
   ]
  },
  {
   "cell_type": "code",
   "execution_count": 24,
   "metadata": {},
   "outputs": [
    {
     "ename": "AttributeError",
     "evalue": "'collections.OrderedDict' object has no attribute 'shape'",
     "output_type": "error",
     "traceback": [
      "\u001b[1;31m---------------------------------------------------------------------------\u001b[0m",
      "\u001b[1;31mAttributeError\u001b[0m                            Traceback (most recent call last)",
      "\u001b[1;32m<ipython-input-24-add4e580f887>\u001b[0m in \u001b[0;36m<module>\u001b[1;34m\u001b[0m\n\u001b[1;32m----> 1\u001b[1;33m \u001b[0msheets\u001b[0m\u001b[1;33m.\u001b[0m\u001b[0mshape\u001b[0m\u001b[1;33m\u001b[0m\u001b[1;33m\u001b[0m\u001b[0m\n\u001b[0m",
      "\u001b[1;31mAttributeError\u001b[0m: 'collections.OrderedDict' object has no attribute 'shape'"
     ]
    }
   ],
   "source": [
    "sheets.shape"
   ]
  },
  {
   "cell_type": "code",
   "execution_count": 25,
   "metadata": {},
   "outputs": [
    {
     "ename": "ValueError",
     "evalue": "If using all scalar values, you must pass an index",
     "output_type": "error",
     "traceback": [
      "\u001b[1;31m---------------------------------------------------------------------------\u001b[0m",
      "\u001b[1;31mValueError\u001b[0m                                Traceback (most recent call last)",
      "\u001b[1;32m<ipython-input-25-9a8f82626bad>\u001b[0m in \u001b[0;36m<module>\u001b[1;34m\u001b[0m\n\u001b[1;32m----> 1\u001b[1;33m \u001b[0msheets1\u001b[0m \u001b[1;33m=\u001b[0m \u001b[0mpd\u001b[0m\u001b[1;33m.\u001b[0m\u001b[0mDataFrame\u001b[0m\u001b[1;33m(\u001b[0m\u001b[0msheets\u001b[0m\u001b[1;33m)\u001b[0m\u001b[1;33m\u001b[0m\u001b[1;33m\u001b[0m\u001b[0m\n\u001b[0m",
      "\u001b[1;32mC:\\ProgramData\\Anaconda3\\lib\\site-packages\\pandas\\core\\frame.py\u001b[0m in \u001b[0;36m__init__\u001b[1;34m(self, data, index, columns, dtype, copy)\u001b[0m\n\u001b[0;32m    409\u001b[0m             )\n\u001b[0;32m    410\u001b[0m         \u001b[1;32melif\u001b[0m \u001b[0misinstance\u001b[0m\u001b[1;33m(\u001b[0m\u001b[0mdata\u001b[0m\u001b[1;33m,\u001b[0m \u001b[0mdict\u001b[0m\u001b[1;33m)\u001b[0m\u001b[1;33m:\u001b[0m\u001b[1;33m\u001b[0m\u001b[1;33m\u001b[0m\u001b[0m\n\u001b[1;32m--> 411\u001b[1;33m             \u001b[0mmgr\u001b[0m \u001b[1;33m=\u001b[0m \u001b[0minit_dict\u001b[0m\u001b[1;33m(\u001b[0m\u001b[0mdata\u001b[0m\u001b[1;33m,\u001b[0m \u001b[0mindex\u001b[0m\u001b[1;33m,\u001b[0m \u001b[0mcolumns\u001b[0m\u001b[1;33m,\u001b[0m \u001b[0mdtype\u001b[0m\u001b[1;33m=\u001b[0m\u001b[0mdtype\u001b[0m\u001b[1;33m)\u001b[0m\u001b[1;33m\u001b[0m\u001b[1;33m\u001b[0m\u001b[0m\n\u001b[0m\u001b[0;32m    412\u001b[0m         \u001b[1;32melif\u001b[0m \u001b[0misinstance\u001b[0m\u001b[1;33m(\u001b[0m\u001b[0mdata\u001b[0m\u001b[1;33m,\u001b[0m \u001b[0mma\u001b[0m\u001b[1;33m.\u001b[0m\u001b[0mMaskedArray\u001b[0m\u001b[1;33m)\u001b[0m\u001b[1;33m:\u001b[0m\u001b[1;33m\u001b[0m\u001b[1;33m\u001b[0m\u001b[0m\n\u001b[0;32m    413\u001b[0m             \u001b[1;32mimport\u001b[0m \u001b[0mnumpy\u001b[0m\u001b[1;33m.\u001b[0m\u001b[0mma\u001b[0m\u001b[1;33m.\u001b[0m\u001b[0mmrecords\u001b[0m \u001b[1;32mas\u001b[0m \u001b[0mmrecords\u001b[0m\u001b[1;33m\u001b[0m\u001b[1;33m\u001b[0m\u001b[0m\n",
      "\u001b[1;32mC:\\ProgramData\\Anaconda3\\lib\\site-packages\\pandas\\core\\internals\\construction.py\u001b[0m in \u001b[0;36minit_dict\u001b[1;34m(data, index, columns, dtype)\u001b[0m\n\u001b[0;32m    255\u001b[0m             \u001b[0marr\u001b[0m \u001b[1;32mif\u001b[0m \u001b[1;32mnot\u001b[0m \u001b[0mis_datetime64tz_dtype\u001b[0m\u001b[1;33m(\u001b[0m\u001b[0marr\u001b[0m\u001b[1;33m)\u001b[0m \u001b[1;32melse\u001b[0m \u001b[0marr\u001b[0m\u001b[1;33m.\u001b[0m\u001b[0mcopy\u001b[0m\u001b[1;33m(\u001b[0m\u001b[1;33m)\u001b[0m \u001b[1;32mfor\u001b[0m \u001b[0marr\u001b[0m \u001b[1;32min\u001b[0m \u001b[0marrays\u001b[0m\u001b[1;33m\u001b[0m\u001b[1;33m\u001b[0m\u001b[0m\n\u001b[0;32m    256\u001b[0m         ]\n\u001b[1;32m--> 257\u001b[1;33m     \u001b[1;32mreturn\u001b[0m \u001b[0marrays_to_mgr\u001b[0m\u001b[1;33m(\u001b[0m\u001b[0marrays\u001b[0m\u001b[1;33m,\u001b[0m \u001b[0mdata_names\u001b[0m\u001b[1;33m,\u001b[0m \u001b[0mindex\u001b[0m\u001b[1;33m,\u001b[0m \u001b[0mcolumns\u001b[0m\u001b[1;33m,\u001b[0m \u001b[0mdtype\u001b[0m\u001b[1;33m=\u001b[0m\u001b[0mdtype\u001b[0m\u001b[1;33m)\u001b[0m\u001b[1;33m\u001b[0m\u001b[1;33m\u001b[0m\u001b[0m\n\u001b[0m\u001b[0;32m    258\u001b[0m \u001b[1;33m\u001b[0m\u001b[0m\n\u001b[0;32m    259\u001b[0m \u001b[1;33m\u001b[0m\u001b[0m\n",
      "\u001b[1;32mC:\\ProgramData\\Anaconda3\\lib\\site-packages\\pandas\\core\\internals\\construction.py\u001b[0m in \u001b[0;36marrays_to_mgr\u001b[1;34m(arrays, arr_names, index, columns, dtype)\u001b[0m\n\u001b[0;32m     75\u001b[0m     \u001b[1;31m# figure out the index, if necessary\u001b[0m\u001b[1;33m\u001b[0m\u001b[1;33m\u001b[0m\u001b[1;33m\u001b[0m\u001b[0m\n\u001b[0;32m     76\u001b[0m     \u001b[1;32mif\u001b[0m \u001b[0mindex\u001b[0m \u001b[1;32mis\u001b[0m \u001b[1;32mNone\u001b[0m\u001b[1;33m:\u001b[0m\u001b[1;33m\u001b[0m\u001b[1;33m\u001b[0m\u001b[0m\n\u001b[1;32m---> 77\u001b[1;33m         \u001b[0mindex\u001b[0m \u001b[1;33m=\u001b[0m \u001b[0mextract_index\u001b[0m\u001b[1;33m(\u001b[0m\u001b[0marrays\u001b[0m\u001b[1;33m)\u001b[0m\u001b[1;33m\u001b[0m\u001b[1;33m\u001b[0m\u001b[0m\n\u001b[0m\u001b[0;32m     78\u001b[0m     \u001b[1;32melse\u001b[0m\u001b[1;33m:\u001b[0m\u001b[1;33m\u001b[0m\u001b[1;33m\u001b[0m\u001b[0m\n\u001b[0;32m     79\u001b[0m         \u001b[0mindex\u001b[0m \u001b[1;33m=\u001b[0m \u001b[0mensure_index\u001b[0m\u001b[1;33m(\u001b[0m\u001b[0mindex\u001b[0m\u001b[1;33m)\u001b[0m\u001b[1;33m\u001b[0m\u001b[1;33m\u001b[0m\u001b[0m\n",
      "\u001b[1;32mC:\\ProgramData\\Anaconda3\\lib\\site-packages\\pandas\\core\\internals\\construction.py\u001b[0m in \u001b[0;36mextract_index\u001b[1;34m(data)\u001b[0m\n\u001b[0;32m    356\u001b[0m \u001b[1;33m\u001b[0m\u001b[0m\n\u001b[0;32m    357\u001b[0m         \u001b[1;32mif\u001b[0m \u001b[1;32mnot\u001b[0m \u001b[0mindexes\u001b[0m \u001b[1;32mand\u001b[0m \u001b[1;32mnot\u001b[0m \u001b[0mraw_lengths\u001b[0m\u001b[1;33m:\u001b[0m\u001b[1;33m\u001b[0m\u001b[1;33m\u001b[0m\u001b[0m\n\u001b[1;32m--> 358\u001b[1;33m             \u001b[1;32mraise\u001b[0m \u001b[0mValueError\u001b[0m\u001b[1;33m(\u001b[0m\u001b[1;34m\"If using all scalar values, you must pass an index\"\u001b[0m\u001b[1;33m)\u001b[0m\u001b[1;33m\u001b[0m\u001b[1;33m\u001b[0m\u001b[0m\n\u001b[0m\u001b[0;32m    359\u001b[0m \u001b[1;33m\u001b[0m\u001b[0m\n\u001b[0;32m    360\u001b[0m         \u001b[1;32mif\u001b[0m \u001b[0mhave_series\u001b[0m\u001b[1;33m:\u001b[0m\u001b[1;33m\u001b[0m\u001b[1;33m\u001b[0m\u001b[0m\n",
      "\u001b[1;31mValueError\u001b[0m: If using all scalar values, you must pass an index"
     ]
    }
   ],
   "source": [
    "sheets1 = pd.DataFrame(sheets)"
   ]
  },
  {
   "cell_type": "code",
   "execution_count": 26,
   "metadata": {},
   "outputs": [
    {
     "data": {
      "text/plain": [
       "OrderedDict([('Marketing',\n",
       "                     REGIONAL CODE REGIONAL NAME AO GROUP CODE AO GROUP NAME OU CODE  \\\n",
       "              0                ITR      MAKASSAR           ABN         AMBON     ABN   \n",
       "              1                ITR      MAKASSAR           ABN         AMBON     ABN   \n",
       "              2                ITR      MAKASSAR           ABN         AMBON     ABN   \n",
       "              3                ITR      MAKASSAR           ABN         AMBON     ABN   \n",
       "              4                ITR      MAKASSAR           ABN         AMBON     ABN   \n",
       "              ...              ...           ...           ...           ...     ...   \n",
       "              117944           JTH      SEMARANG           YYA    YOGYAKARTA     YYA   \n",
       "              117945           JTH      SEMARANG           YYA    YOGYAKARTA     YYA   \n",
       "              117946           JTH      SEMARANG           YYA    YOGYAKARTA     YYA   \n",
       "              117947           JTH      SEMARANG           YYA    YOGYAKARTA     YYA   \n",
       "              117948           JTH      SEMARANG           YYA    YOGYAKARTA     YYA   \n",
       "              \n",
       "                     SUBCHANNEL NAME  TERRITORY CODE   NIK SPV               NAMA SPV  \\\n",
       "              0                Trade               1  200312.0        MARINES KEILUHU   \n",
       "              1                Trade               1  200312.0        MARINES KEILUHU   \n",
       "              2                Trade               1  200312.0        MARINES KEILUHU   \n",
       "              3                Trade               1  200312.0        MARINES KEILUHU   \n",
       "              4             Store DC               1  200312.0        MARINES KEILUHU   \n",
       "              ...                ...             ...       ...                    ...   \n",
       "              117944       Transaksi               3  170051.0  GALIH ANANTA RAHMAWAN   \n",
       "              117945       Transaksi               3  170051.0  GALIH ANANTA RAHMAWAN   \n",
       "              117946       Transaksi               3  170051.0  GALIH ANANTA RAHMAWAN   \n",
       "              117947       Transaksi               3  170051.0  GALIH ANANTA RAHMAWAN   \n",
       "              117948       Transaksi               3  170051.0  GALIH ANANTA RAHMAWAN   \n",
       "              \n",
       "                      DISTRICT CODE  ...                     ADDRESS COUNT NAME 1  \\\n",
       "              0                   1  ...               JL. L LEIMENA        AMBON   \n",
       "              1                   1  ...                POROS WAYAME        AMBON   \n",
       "              2                   1  ...                     LEIMENA        AMBON   \n",
       "              3                   1  ...               JL DR LEIMENA        AMBON   \n",
       "              4                   1  ...               JL DR LEIMENA        AMBON   \n",
       "              ...               ...  ...                         ...          ...   \n",
       "              117944             21  ...      JL AHMAD DAHLAN NO.132   YOGYAKARTA   \n",
       "              117945             21  ...   JL BHAYANGKARA YOGYAKARTA   YOGYAKARTA   \n",
       "              117946             21  ...          JL. NGASEM NO 58\\n   YOGYAKARTA   \n",
       "              117947             21  ...  JL KETANDAN WETAN NO 33 B    YOGYAKARTA   \n",
       "              117948             21  ...            JL SUDIRMAN NO 8   YOGYAKARTA   \n",
       "              \n",
       "                     SUBDISTRICT NAME 1  VILLAGE NAME 1     PARAMNAME SHOP  \\\n",
       "              0             TELUK AMBON            POKA             MEDIUM   \n",
       "              1             TELUK AMBON          WAIAME              SMALL   \n",
       "              2             TELUK AMBON            LAHA              SMALL   \n",
       "              3             TELUK AMBON            LAHA             MEDIUM   \n",
       "              4             TELUK AMBON            LAHA              SMALL   \n",
       "              ...                   ...             ...                ...   \n",
       "              117944          NGAMPILAN       NGAMPILAN              SMALL   \n",
       "              117945      GEDONG TENGEN   SOSROMENDURAN  TIDAK BISA PASANG   \n",
       "              117946             KRATON       KADIPATEN                BIG   \n",
       "              117947         GONDOMANAN        NGUPASAN                BIG   \n",
       "              117948              JETIS        GOWONGAN                BIG   \n",
       "              \n",
       "                          PARAMNAME POSISI  PARAM NAME BANGUN    PARAM NAME KELASJAL  \\\n",
       "              0              SEJAJAR JALAN           Permanen  JALAN RAYA (1-4 RUAS)   \n",
       "              1              SEJAJAR JALAN           Permanen  JALAN RAYA (1-4 RUAS)   \n",
       "              2              SEJAJAR JALAN           Permanen  JALAN RAYA (1-4 RUAS)   \n",
       "              3              SEJAJAR JALAN           Permanen  JALAN RAYA (1-4 RUAS)   \n",
       "              4              SEJAJAR JALAN           Permanen  JALAN RAYA (1-4 RUAS)   \n",
       "              ...                      ...                ...                    ...   \n",
       "              117944  PEREMPATAN/PERTIGAAN           Permanen  JALAN RAYA (1-4 RUAS)   \n",
       "              117945         SEJAJAR JALAN           Permanen  JALAN RAYA (1-4 RUAS)   \n",
       "              117946         SEJAJAR JALAN           Permanen  JALAN RAYA (1-4 RUAS)   \n",
       "              117947         SEJAJAR JALAN           Permanen  JALAN RAYA (1-4 RUAS)   \n",
       "              117948         SEJAJAR JALAN           Permanen  JALAN RAYA (1-4 RUAS)   \n",
       "              \n",
       "                                 ZONE TYPE NAME  CALL CYCLE  \n",
       "              0               PERKANTORAN [PKT]           W  \n",
       "              1               PERKANTORAN [PKT]           W  \n",
       "              2               PERKANTORAN [PKT]          B2  \n",
       "              3                   BANDARA [BDR]          B2  \n",
       "              4       SEKOLAH/UNIVERSITAS [SKL]          B2  \n",
       "              ...                           ...         ...  \n",
       "              117944  SEKOLAH/UNIVERSITAS [SKL]           W  \n",
       "              117945  SHOPPING MALL/PLAZA [MAL]           W  \n",
       "              117946            PEMUKIMAN [PMK]           W  \n",
       "              117947  REKREASI/PARIWISATA [PRW]           W  \n",
       "              117948  REKREASI/PARIWISATA [PRW]           W  \n",
       "              \n",
       "              [117949 rows x 42 columns])])"
      ]
     },
     "execution_count": 26,
     "metadata": {},
     "output_type": "execute_result"
    }
   ],
   "source": [
    "sheets"
   ]
  },
  {
   "cell_type": "code",
   "execution_count": 27,
   "metadata": {},
   "outputs": [
    {
     "ename": "AttributeError",
     "evalue": "'collections.OrderedDict' object has no attribute 'head'",
     "output_type": "error",
     "traceback": [
      "\u001b[1;31m---------------------------------------------------------------------------\u001b[0m",
      "\u001b[1;31mAttributeError\u001b[0m                            Traceback (most recent call last)",
      "\u001b[1;32m<ipython-input-27-32ba977f2037>\u001b[0m in \u001b[0;36m<module>\u001b[1;34m\u001b[0m\n\u001b[1;32m----> 1\u001b[1;33m \u001b[0msheets\u001b[0m\u001b[1;33m.\u001b[0m\u001b[0mhead\u001b[0m\u001b[1;33m(\u001b[0m\u001b[1;33m)\u001b[0m\u001b[1;33m\u001b[0m\u001b[1;33m\u001b[0m\u001b[0m\n\u001b[0m",
      "\u001b[1;31mAttributeError\u001b[0m: 'collections.OrderedDict' object has no attribute 'head'"
     ]
    }
   ],
   "source": [
    "sheets.head()"
   ]
  },
  {
   "cell_type": "code",
   "execution_count": 29,
   "metadata": {},
   "outputs": [
    {
     "ename": "SyntaxError",
     "evalue": "invalid syntax (<ipython-input-29-d463ac5496ab>, line 1)",
     "output_type": "error",
     "traceback": [
      "\u001b[1;36m  File \u001b[1;32m\"<ipython-input-29-d463ac5496ab>\"\u001b[1;36m, line \u001b[1;32m1\u001b[0m\n\u001b[1;33m    sheets.regional code\u001b[0m\n\u001b[1;37m                       ^\u001b[0m\n\u001b[1;31mSyntaxError\u001b[0m\u001b[1;31m:\u001b[0m invalid syntax\n"
     ]
    }
   ],
   "source": [
    "sheets.regional code"
   ]
  },
  {
   "cell_type": "code",
   "execution_count": null,
   "metadata": {},
   "outputs": [],
   "source": []
  },
  {
   "cell_type": "code",
   "execution_count": null,
   "metadata": {},
   "outputs": [],
   "source": []
  },
  {
   "cell_type": "code",
   "execution_count": null,
   "metadata": {},
   "outputs": [],
   "source": []
  },
  {
   "cell_type": "code",
   "execution_count": null,
   "metadata": {},
   "outputs": [],
   "source": []
  }
 ],
 "metadata": {
  "kernelspec": {
   "display_name": "Python 3",
   "language": "python",
   "name": "python3"
  },
  "language_info": {
   "codemirror_mode": {
    "name": "ipython",
    "version": 3
   },
   "file_extension": ".py",
   "mimetype": "text/x-python",
   "name": "python",
   "nbconvert_exporter": "python",
   "pygments_lexer": "ipython3",
   "version": "3.7.4"
  }
 },
 "nbformat": 4,
 "nbformat_minor": 2
}
