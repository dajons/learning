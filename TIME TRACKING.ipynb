{
 "cells": [
  {
   "cell_type": "code",
   "execution_count": 1,
   "metadata": {},
   "outputs": [],
   "source": [
    "import pandas as pd"
   ]
  },
  {
   "cell_type": "code",
   "execution_count": 28,
   "metadata": {},
   "outputs": [],
   "source": [
    "from matplotlib import pyplot as plt\n",
    "import seaborn as sns, numpy as np\n",
    "from pandas import ExcelWriter\n",
    "from pandas import ExcelFile"
   ]
  },
  {
   "cell_type": "code",
   "execution_count": 11,
   "metadata": {},
   "outputs": [
    {
     "data": {
      "text/html": [
       "<div>\n",
       "<style scoped>\n",
       "    .dataframe tbody tr th:only-of-type {\n",
       "        vertical-align: middle;\n",
       "    }\n",
       "\n",
       "    .dataframe tbody tr th {\n",
       "        vertical-align: top;\n",
       "    }\n",
       "\n",
       "    .dataframe thead th {\n",
       "        text-align: right;\n",
       "    }\n",
       "</style>\n",
       "<table border=\"1\" class=\"dataframe\">\n",
       "  <thead>\n",
       "    <tr style=\"text-align: right;\">\n",
       "      <th></th>\n",
       "      <th>DOMAIN CODE</th>\n",
       "      <th>DOMAIN NAME</th>\n",
       "      <th>REGIONAL CODE</th>\n",
       "      <th>REGIONAL NAME</th>\n",
       "      <th>AO GROUP CODE</th>\n",
       "      <th>AO GROUP NAME</th>\n",
       "      <th>OU CODE</th>\n",
       "      <th>OU NAME</th>\n",
       "      <th>SUBCHANNEL</th>\n",
       "      <th>WEEK</th>\n",
       "      <th>...</th>\n",
       "      <th>DURASI ANTAR OUTLET (MENIT)</th>\n",
       "      <th>LONGEST IDLE (MENIT)</th>\n",
       "      <th>DURASI AKHIR PERJALANAN</th>\n",
       "      <th>TOTAL WORK TIME</th>\n",
       "      <th>PLAN CALL</th>\n",
       "      <th>ACTUAL CALL</th>\n",
       "      <th>SALESMAN NIK</th>\n",
       "      <th>SALESMAN NAME</th>\n",
       "      <th>KUNJUNGAN OUTLET PERTAMA</th>\n",
       "      <th>KUNJUNGAN OUTLET TERAKHIR</th>\n",
       "    </tr>\n",
       "  </thead>\n",
       "  <tbody>\n",
       "    <tr>\n",
       "      <td>0</td>\n",
       "      <td>JWA</td>\n",
       "      <td>JAVA</td>\n",
       "      <td>JBT</td>\n",
       "      <td>BANDUNG</td>\n",
       "      <td>BDG</td>\n",
       "      <td>BANDUNG</td>\n",
       "      <td>BDG</td>\n",
       "      <td>BANDUNG</td>\n",
       "      <td>MD</td>\n",
       "      <td>2012</td>\n",
       "      <td>...</td>\n",
       "      <td>99.900</td>\n",
       "      <td>32.817</td>\n",
       "      <td>26.117</td>\n",
       "      <td>474.433</td>\n",
       "      <td>11.0</td>\n",
       "      <td>9.0</td>\n",
       "      <td>131694.0</td>\n",
       "      <td>FAJAR SIDDIQ</td>\n",
       "      <td>2020-03-18 07:40:46</td>\n",
       "      <td>2020-03-18 14:42:41</td>\n",
       "    </tr>\n",
       "    <tr>\n",
       "      <td>1</td>\n",
       "      <td>JWA</td>\n",
       "      <td>JAVA</td>\n",
       "      <td>JBT</td>\n",
       "      <td>BANDUNG</td>\n",
       "      <td>BDG</td>\n",
       "      <td>BANDUNG</td>\n",
       "      <td>BDG</td>\n",
       "      <td>BANDUNG</td>\n",
       "      <td>MD</td>\n",
       "      <td>2012</td>\n",
       "      <td>...</td>\n",
       "      <td>99.033</td>\n",
       "      <td>32.033</td>\n",
       "      <td>9.067</td>\n",
       "      <td>347.767</td>\n",
       "      <td>15.0</td>\n",
       "      <td>8.0</td>\n",
       "      <td>131961.0</td>\n",
       "      <td>DIKI KURNIA</td>\n",
       "      <td>2020-03-18 12:07:17</td>\n",
       "      <td>2020-03-18 17:21:18</td>\n",
       "    </tr>\n",
       "    <tr>\n",
       "      <td>2</td>\n",
       "      <td>JWA</td>\n",
       "      <td>JAVA</td>\n",
       "      <td>JBT</td>\n",
       "      <td>BANDUNG</td>\n",
       "      <td>BDG</td>\n",
       "      <td>BANDUNG</td>\n",
       "      <td>BDG</td>\n",
       "      <td>BANDUNG</td>\n",
       "      <td>MD</td>\n",
       "      <td>2012</td>\n",
       "      <td>...</td>\n",
       "      <td>153.133</td>\n",
       "      <td>102.883</td>\n",
       "      <td>102.083</td>\n",
       "      <td>539.450</td>\n",
       "      <td>10.0</td>\n",
       "      <td>8.0</td>\n",
       "      <td>131518.0</td>\n",
       "      <td>NUR ARIF</td>\n",
       "      <td>2020-03-18 12:15:52</td>\n",
       "      <td>2020-03-18 18:53:58</td>\n",
       "    </tr>\n",
       "    <tr>\n",
       "      <td>3</td>\n",
       "      <td>JWA</td>\n",
       "      <td>JAVA</td>\n",
       "      <td>JBT</td>\n",
       "      <td>BANDUNG</td>\n",
       "      <td>BDG</td>\n",
       "      <td>BANDUNG</td>\n",
       "      <td>BDG</td>\n",
       "      <td>BANDUNG</td>\n",
       "      <td>MD</td>\n",
       "      <td>2012</td>\n",
       "      <td>...</td>\n",
       "      <td>400.617</td>\n",
       "      <td>125.617</td>\n",
       "      <td>55.150</td>\n",
       "      <td>532.350</td>\n",
       "      <td>13.0</td>\n",
       "      <td>12.0</td>\n",
       "      <td>131546.0</td>\n",
       "      <td>FARHAT</td>\n",
       "      <td>2020-03-20 12:37:00</td>\n",
       "      <td>2020-03-20 19:43:35</td>\n",
       "    </tr>\n",
       "    <tr>\n",
       "      <td>4</td>\n",
       "      <td>JWA</td>\n",
       "      <td>JAVA</td>\n",
       "      <td>JBT</td>\n",
       "      <td>BANDUNG</td>\n",
       "      <td>BDG</td>\n",
       "      <td>BANDUNG</td>\n",
       "      <td>BDG</td>\n",
       "      <td>BANDUNG</td>\n",
       "      <td>MD</td>\n",
       "      <td>2012</td>\n",
       "      <td>...</td>\n",
       "      <td>125.900</td>\n",
       "      <td>59.533</td>\n",
       "      <td>57.067</td>\n",
       "      <td>458.267</td>\n",
       "      <td>15.0</td>\n",
       "      <td>15.0</td>\n",
       "      <td>132323.0</td>\n",
       "      <td>HENDI RAMA PERMADI</td>\n",
       "      <td>2020-03-18 07:24:22</td>\n",
       "      <td>2020-03-18 13:41:25</td>\n",
       "    </tr>\n",
       "  </tbody>\n",
       "</table>\n",
       "<p>5 rows × 30 columns</p>\n",
       "</div>"
      ],
      "text/plain": [
       "  DOMAIN CODE DOMAIN NAME REGIONAL CODE REGIONAL NAME AO GROUP CODE  \\\n",
       "0         JWA        JAVA           JBT       BANDUNG           BDG   \n",
       "1         JWA        JAVA           JBT       BANDUNG           BDG   \n",
       "2         JWA        JAVA           JBT       BANDUNG           BDG   \n",
       "3         JWA        JAVA           JBT       BANDUNG           BDG   \n",
       "4         JWA        JAVA           JBT       BANDUNG           BDG   \n",
       "\n",
       "  AO GROUP NAME OU CODE  OU NAME SUBCHANNEL  WEEK  ...  \\\n",
       "0       BANDUNG     BDG  BANDUNG         MD  2012  ...   \n",
       "1       BANDUNG     BDG  BANDUNG         MD  2012  ...   \n",
       "2       BANDUNG     BDG  BANDUNG         MD  2012  ...   \n",
       "3       BANDUNG     BDG  BANDUNG         MD  2012  ...   \n",
       "4       BANDUNG     BDG  BANDUNG         MD  2012  ...   \n",
       "\n",
       "   DURASI ANTAR OUTLET (MENIT)  LONGEST IDLE (MENIT)  DURASI AKHIR PERJALANAN  \\\n",
       "0                       99.900                32.817                   26.117   \n",
       "1                       99.033                32.033                    9.067   \n",
       "2                      153.133               102.883                  102.083   \n",
       "3                      400.617               125.617                   55.150   \n",
       "4                      125.900                59.533                   57.067   \n",
       "\n",
       "  TOTAL WORK TIME  PLAN CALL ACTUAL CALL  SALESMAN NIK       SALESMAN NAME  \\\n",
       "0         474.433       11.0         9.0      131694.0        FAJAR SIDDIQ   \n",
       "1         347.767       15.0         8.0      131961.0         DIKI KURNIA   \n",
       "2         539.450       10.0         8.0      131518.0            NUR ARIF   \n",
       "3         532.350       13.0        12.0      131546.0              FARHAT   \n",
       "4         458.267       15.0        15.0      132323.0  HENDI RAMA PERMADI   \n",
       "\n",
       "   KUNJUNGAN OUTLET PERTAMA  KUNJUNGAN OUTLET TERAKHIR  \n",
       "0       2020-03-18 07:40:46        2020-03-18 14:42:41  \n",
       "1       2020-03-18 12:07:17        2020-03-18 17:21:18  \n",
       "2       2020-03-18 12:15:52        2020-03-18 18:53:58  \n",
       "3       2020-03-20 12:37:00        2020-03-20 19:43:35  \n",
       "4       2020-03-18 07:24:22        2020-03-18 13:41:25  \n",
       "\n",
       "[5 rows x 30 columns]"
      ]
     },
     "execution_count": 11,
     "metadata": {},
     "output_type": "execute_result"
    }
   ],
   "source": [
    "df=pd.read_excel('TIME TRACKING TEST/Copy of Report Time Tracking Salesman REV (2).xlsx',sheet_name='Report Time Tracking Salesman')\n",
    "df.head()"
   ]
  },
  {
   "cell_type": "code",
   "execution_count": 19,
   "metadata": {},
   "outputs": [
    {
     "data": {
      "image/png": "[encoded data removed]",
      "text/plain": [
       "<Figure size 432x288 with 1 Axes>"
      ]
     },
     "metadata": {},
     "output_type": "display_data"
    }
   ],
   "source": [
    "sns.set(style='whitegrid')\n",
    "\n",
    "ax= sns.boxplot(x='SUBCHANNEL',y='ACTUAL CALL',data=df,width=0.5)"
   ]
  },
  {
   "cell_type": "code",
   "execution_count": 57,
   "metadata": {},
   "outputs": [
    {
     "data": {
      "image/png": "[encoded data removed]",
      "text/plain": [
       "<Figure size 432x288 with 1 Axes>"
      ]
     },
     "metadata": {},
     "output_type": "display_data"
    }
   ],
   "source": [
    "ax2 = sns.boxplot(x=\"WEEK\", y=\"ACTUAL CALL\", hue=\"SUBCHANNEL\",data=df)\n",
    "m1 = df.groupby(['WEEK','SUBCHANNEL'])['ACTUAL CALL'].median().values\n",
    "mL1=[str(np.round(s,2)) for s in median]\n",
    "\n",
    "ind = 0\n",
    "for tick in range(len(ax2.get_xticklabels())):\n",
    "    ax2.text(tick+.2, m1[ind+1]+1, mL1[ind+1],  horizontalalignment='center',  color='black', weight='semibold')\n",
    "    ax2.text(tick-.2, m1[ind]+1, mL1[ind], horizontalalignment='center', color='black', weight='semibold')\n",
    "    ind += 2    \n",
    "plt.show()\n"
   ]
  },
  {
   "cell_type": "code",
   "execution_count": 99,
   "metadata": {},
   "outputs": [
    {
     "name": "stdout",
     "output_type": "stream",
     "text": [
      "0    False\n",
      "1    False\n",
      "2    False\n",
      "3    False\n",
      "4    False\n",
      "Name: AO GROUP NAME, dtype: bool\n"
     ]
    }
   ],
   "source": [
    "tes=df['AO GROUP NAME']=='MOJOKERTO'\n",
    "print (tes.head())"
   ]
  },
  {
   "cell_type": "code",
   "execution_count": 104,
   "metadata": {},
   "outputs": [
    {
     "name": "stdout",
     "output_type": "stream",
     "text": [
      "(1522, 26)\n",
      "      DOMAIN CODE DOMAIN NAME REGIONAL CODE REGIONAL NAME AO GROUP CODE  \\\n",
      "10310         JWA        JAVA           JTR      SURABAYA           MJO   \n",
      "10311         JWA        JAVA           JTR      SURABAYA           MJO   \n",
      "10312         JWA        JAVA           JTR      SURABAYA           MJO   \n",
      "10313         JWA        JAVA           JTR      SURABAYA           MJO   \n",
      "10314         JWA        JAVA           JTR      SURABAYA           MJO   \n",
      "\n",
      "      AO GROUP NAME OU CODE     OU NAME SUBCHANNEL  WEEK  ...  \\\n",
      "10310     MOJOKERTO     BJO  BOJONEGORO         MD  2012  ...   \n",
      "10311     MOJOKERTO     BJO  BOJONEGORO         MD  2012  ...   \n",
      "10312     MOJOKERTO     BJO  BOJONEGORO         MD  2012  ...   \n",
      "10313     MOJOKERTO     BJO  BOJONEGORO         MD  2012  ...   \n",
      "10314     MOJOKERTO     BJO  BOJONEGORO         MD  2012  ...   \n",
      "\n",
      "       DURASI AWAL PERJALANAN (MENIT)  DURASI CALL OUTLET (MENIT)  \\\n",
      "10310                           3.383                     395.600   \n",
      "10311                          77.267                     351.983   \n",
      "10312                          52.150                     267.350   \n",
      "10313                          30.633                     451.983   \n",
      "10314                           8.583                     373.283   \n",
      "\n",
      "       DURASI ANTAR OUTLET (MENIT) LONGEST IDLE (MENIT)  \\\n",
      "10310                      281.767              230.217   \n",
      "10311                      301.033               69.550   \n",
      "10312                       39.650                5.283   \n",
      "10313                       53.200               16.467   \n",
      "10314                       53.150               15.550   \n",
      "\n",
      "       DURASI AKHIR PERJALANAN  TOTAL WORK TIME  PLAN CALL  ACTUAL CALL  \\\n",
      "10310                    0.783          457.000       20.0         18.0   \n",
      "10311                  969.033         1431.117       17.0         16.0   \n",
      "10312                  117.333          476.633       23.0         17.0   \n",
      "10313                   19.033          538.017       26.0         23.0   \n",
      "10314                    8.667          443.850       24.0         19.0   \n",
      "\n",
      "       SALESMAN NIK             SALESMAN NAME  \n",
      "10310      104659.0                 SETYORINI  \n",
      "10311      104659.0                 SETYORINI  \n",
      "10312      104678.0       SANDY CAHYO RUSLIAN  \n",
      "10313      104679.0            MOCH. HARITSAH  \n",
      "10314      104198.0  ANTHONY EMMANUEL SUWARNO  \n",
      "\n",
      "[5 rows x 26 columns]\n"
     ]
    }
   ],
   "source": [
    "tes_2002 = df[tes]\n",
    "print(tes_2002.shape)\n",
    "print (tes_2002.head())"
   ]
  },
  {
   "cell_type": "code",
   "execution_count": 105,
   "metadata": {},
   "outputs": [
    {
     "data": {
      "image/png": "[encoded data removed]",
      "text/plain": [
       "<Figure size 432x288 with 1 Axes>"
      ]
     },
     "metadata": {},
     "output_type": "display_data"
    }
   ],
   "source": [
    "ax2 = sns.boxplot(x=\"WEEK\", y=\"ACTUAL CALL\", hue=\"SUBCHANNEL\",data=tes_2002)\n",
    "m1 = df.groupby(['WEEK','SUBCHANNEL'])['ACTUAL CALL'].median().values\n",
    "mL1=[str(np.round(s,2)) for s in median]\n",
    "\n",
    "ind = 0\n",
    "for tick in range(len(ax2.get_xticklabels())):\n",
    "    ax2.text(tick+.2, m1[ind+1]+1, mL1[ind+1],  horizontalalignment='center',  color='black', weight='semibold')\n",
    "    ax2.text(tick-.2, m1[ind]+1, mL1[ind], horizontalalignment='center', color='black', weight='semibold')\n",
    "    ind += 2    \n",
    "plt.show()\n"
   ]
  },
  {
   "cell_type": "code",
   "execution_count": 63,
   "metadata": {},
   "outputs": [
    {
     "name": "stdout",
     "output_type": "stream",
     "text": [
      "[0.06042552 0.06034596 0.06046636 ... 0.06045918 0.06050843 0.06143405]\n"
     ]
    }
   ],
   "source": [
    "from scipy import stats\n",
    "\n",
    "z=np.abs(stats.zscore(df['TOTAL WORK TIME']))\n",
    "print(z)"
   ]
  },
  {
   "cell_type": "code",
   "execution_count": 64,
   "metadata": {},
   "outputs": [
    {
     "name": "stdout",
     "output_type": "stream",
     "text": [
      "(array([ 5242,  9833, 11097, 11098, 11099, 11109, 11157, 11158, 11159,\n",
      "       11163, 11176, 11182, 11183, 11187, 11323, 11324, 11325, 11326,\n",
      "       11327, 11328, 11329, 11330, 12169, 12247, 12296, 12351, 12964,\n",
      "       12965, 13082, 13083, 13084, 13085, 13086, 13090, 13091, 13182,\n",
      "       13204, 13205, 13206, 13207, 19400, 19401, 19402, 19403, 19404,\n",
      "       19494, 19508, 19523, 19524, 19525, 25210, 25211, 25224, 25225,\n",
      "       25226, 25273, 25274, 25324, 25325, 25338, 25938, 25984, 25985,\n",
      "       26027, 26088, 26089, 27490, 28059, 28073, 28175, 28176, 30750,\n",
      "       30751, 31327, 31328, 31329, 31405, 31441, 31493, 33384, 33385,\n",
      "       33386, 33434, 35271, 36669, 36670, 36671, 36672, 36673, 36768,\n",
      "       36785, 36786, 38729, 38730, 38731, 38732, 38733, 38734, 38735,\n",
      "       38736, 38737, 38791, 38792, 38793, 38816, 38821, 38822, 38823,\n",
      "       38824, 38825, 38830, 38836, 38837, 38927, 38928, 38929, 38932,\n",
      "       38933, 38934, 38935, 38936, 38937, 38941, 38942, 38943, 38944,\n",
      "       38945, 38946, 38948, 38949, 38950, 38951, 38952, 38953, 38963,\n",
      "       38964, 39049, 39057, 39058, 39059, 39083, 39084, 39085, 39086,\n",
      "       39087, 39088, 39089, 39090, 39091, 39102, 39103, 39115, 39120,\n",
      "       44017, 44030, 44928, 44949, 44950, 44951, 46673, 46674, 46675,\n",
      "       46684, 46698, 46699, 46716, 46717, 46718, 46719, 46720, 47722,\n",
      "       47723, 47734, 47735, 47757, 47758, 47759, 47779, 47780, 47781,\n",
      "       47782, 47783, 51213, 51217, 51218, 51227, 51238, 51239, 51240,\n",
      "       51241, 51242, 51243, 51244, 51245, 51286, 51287, 51292, 51470,\n",
      "       51509, 51510, 51963, 52002, 52019, 55190], dtype=int64),)\n"
     ]
    }
   ],
   "source": [
    "threshold=3\n",
    "print (np.where(z>3))"
   ]
  },
  {
   "cell_type": "code",
   "execution_count": 76,
   "metadata": {},
   "outputs": [],
   "source": [
    "from matplotlib.dates import date2num\n"
   ]
  },
  {
   "cell_type": "code",
   "execution_count": 88,
   "metadata": {},
   "outputs": [],
   "source": [
    "df.drop(['MULAI PERJALAN','AKHIR PERJALAN','KUNJUNGAN OUTLET PERTAMA','KUNJUNGAN OUTLET TERAKHIR'],axis=1,inplace=True)"
   ]
  },
  {
   "cell_type": "code",
   "execution_count": 93,
   "metadata": {},
   "outputs": [
    {
     "data": {
      "text/plain": [
       "DOMAIN CODE                        object\n",
       "DOMAIN NAME                        object\n",
       "REGIONAL CODE                      object\n",
       "REGIONAL NAME                      object\n",
       "AO GROUP CODE                      object\n",
       "AO GROUP NAME                      object\n",
       "OU CODE                            object\n",
       "OU NAME                            object\n",
       "SUBCHANNEL                         object\n",
       "WEEK                                int64\n",
       "TERRITORY CODE                      int64\n",
       "DISTRICT CODE                       int64\n",
       "ROUTE CODE                          int64\n",
       "ROUTE NAME                         object\n",
       "KM AWAL                             int64\n",
       "KM AKHIR                            int64\n",
       "DURASI AWAL PERJALANAN (MENIT)    float64\n",
       "DURASI CALL OUTLET (MENIT)        float64\n",
       "DURASI ANTAR OUTLET (MENIT)       float64\n",
       "LONGEST IDLE (MENIT)              float64\n",
       "DURASI AKHIR PERJALANAN           float64\n",
       "TOTAL WORK TIME                   float64\n",
       "PLAN CALL                         float64\n",
       "ACTUAL CALL                       float64\n",
       "SALESMAN NIK                      float64\n",
       "SALESMAN NAME                      object\n",
       "dtype: object"
      ]
     },
     "execution_count": 93,
     "metadata": {},
     "output_type": "execute_result"
    }
   ],
   "source": [
    "dfo=list(df.columns)\n",
    "dfo.remove('DOMAIN CODE','DOMAIN NAME','REGIONAL CODE')"
   ]
  },
  {
   "cell_type": "code",
   "execution_count": 92,
   "metadata": {},
   "outputs": [
    {
     "ename": "TypeError",
     "evalue": "can only concatenate str (not \"float\") to str",
     "output_type": "error",
     "traceback": [
      "\u001b[1;31m---------------------------------------------------------------------------\u001b[0m",
      "\u001b[1;31mTypeError\u001b[0m                                 Traceback (most recent call last)",
      "\u001b[1;32m<ipython-input-92-b4b26f370535>\u001b[0m in \u001b[0;36m<module>\u001b[1;34m\u001b[0m\n\u001b[1;32m----> 1\u001b[1;33m \u001b[0mdf\u001b[0m\u001b[1;33m[\u001b[0m\u001b[1;33m(\u001b[0m\u001b[0mnp\u001b[0m\u001b[1;33m.\u001b[0m\u001b[0mabs\u001b[0m\u001b[1;33m(\u001b[0m\u001b[0mstats\u001b[0m\u001b[1;33m.\u001b[0m\u001b[0mzscore\u001b[0m\u001b[1;33m(\u001b[0m\u001b[0mdf\u001b[0m\u001b[1;33m)\u001b[0m\u001b[1;33m)\u001b[0m \u001b[1;33m<\u001b[0m \u001b[1;36m3\u001b[0m\u001b[1;33m)\u001b[0m\u001b[1;33m.\u001b[0m\u001b[0mall\u001b[0m\u001b[1;33m(\u001b[0m\u001b[0maxis\u001b[0m\u001b[1;33m=\u001b[0m\u001b[1;36m1\u001b[0m\u001b[1;33m)\u001b[0m\u001b[1;33m]\u001b[0m\u001b[1;33m\u001b[0m\u001b[1;33m\u001b[0m\u001b[0m\n\u001b[0m",
      "\u001b[1;32mC:\\ProgramData\\Anaconda3\\lib\\site-packages\\scipy\\stats\\stats.py\u001b[0m in \u001b[0;36mzscore\u001b[1;34m(a, axis, ddof)\u001b[0m\n\u001b[0;32m   2307\u001b[0m     \"\"\"\n\u001b[0;32m   2308\u001b[0m     \u001b[0ma\u001b[0m \u001b[1;33m=\u001b[0m \u001b[0mnp\u001b[0m\u001b[1;33m.\u001b[0m\u001b[0masanyarray\u001b[0m\u001b[1;33m(\u001b[0m\u001b[0ma\u001b[0m\u001b[1;33m)\u001b[0m\u001b[1;33m\u001b[0m\u001b[1;33m\u001b[0m\u001b[0m\n\u001b[1;32m-> 2309\u001b[1;33m     \u001b[0mmns\u001b[0m \u001b[1;33m=\u001b[0m \u001b[0ma\u001b[0m\u001b[1;33m.\u001b[0m\u001b[0mmean\u001b[0m\u001b[1;33m(\u001b[0m\u001b[0maxis\u001b[0m\u001b[1;33m=\u001b[0m\u001b[0maxis\u001b[0m\u001b[1;33m)\u001b[0m\u001b[1;33m\u001b[0m\u001b[1;33m\u001b[0m\u001b[0m\n\u001b[0m\u001b[0;32m   2310\u001b[0m     \u001b[0msstd\u001b[0m \u001b[1;33m=\u001b[0m \u001b[0ma\u001b[0m\u001b[1;33m.\u001b[0m\u001b[0mstd\u001b[0m\u001b[1;33m(\u001b[0m\u001b[0maxis\u001b[0m\u001b[1;33m=\u001b[0m\u001b[0maxis\u001b[0m\u001b[1;33m,\u001b[0m \u001b[0mddof\u001b[0m\u001b[1;33m=\u001b[0m\u001b[0mddof\u001b[0m\u001b[1;33m)\u001b[0m\u001b[1;33m\u001b[0m\u001b[1;33m\u001b[0m\u001b[0m\n\u001b[0;32m   2311\u001b[0m     \u001b[1;32mif\u001b[0m \u001b[0maxis\u001b[0m \u001b[1;32mand\u001b[0m \u001b[0mmns\u001b[0m\u001b[1;33m.\u001b[0m\u001b[0mndim\u001b[0m \u001b[1;33m<\u001b[0m \u001b[0ma\u001b[0m\u001b[1;33m.\u001b[0m\u001b[0mndim\u001b[0m\u001b[1;33m:\u001b[0m\u001b[1;33m\u001b[0m\u001b[1;33m\u001b[0m\u001b[0m\n",
      "\u001b[1;32mC:\\ProgramData\\Anaconda3\\lib\\site-packages\\numpy\\core\\_methods.py\u001b[0m in \u001b[0;36m_mean\u001b[1;34m(a, axis, dtype, out, keepdims)\u001b[0m\n\u001b[0;32m     73\u001b[0m             \u001b[0mis_float16_result\u001b[0m \u001b[1;33m=\u001b[0m \u001b[1;32mTrue\u001b[0m\u001b[1;33m\u001b[0m\u001b[1;33m\u001b[0m\u001b[0m\n\u001b[0;32m     74\u001b[0m \u001b[1;33m\u001b[0m\u001b[0m\n\u001b[1;32m---> 75\u001b[1;33m     \u001b[0mret\u001b[0m \u001b[1;33m=\u001b[0m \u001b[0mumr_sum\u001b[0m\u001b[1;33m(\u001b[0m\u001b[0marr\u001b[0m\u001b[1;33m,\u001b[0m \u001b[0maxis\u001b[0m\u001b[1;33m,\u001b[0m \u001b[0mdtype\u001b[0m\u001b[1;33m,\u001b[0m \u001b[0mout\u001b[0m\u001b[1;33m,\u001b[0m \u001b[0mkeepdims\u001b[0m\u001b[1;33m)\u001b[0m\u001b[1;33m\u001b[0m\u001b[1;33m\u001b[0m\u001b[0m\n\u001b[0m\u001b[0;32m     76\u001b[0m     \u001b[1;32mif\u001b[0m \u001b[0misinstance\u001b[0m\u001b[1;33m(\u001b[0m\u001b[0mret\u001b[0m\u001b[1;33m,\u001b[0m \u001b[0mmu\u001b[0m\u001b[1;33m.\u001b[0m\u001b[0mndarray\u001b[0m\u001b[1;33m)\u001b[0m\u001b[1;33m:\u001b[0m\u001b[1;33m\u001b[0m\u001b[1;33m\u001b[0m\u001b[0m\n\u001b[0;32m     77\u001b[0m         ret = um.true_divide(\n",
      "\u001b[1;31mTypeError\u001b[0m: can only concatenate str (not \"float\") to str"
     ]
    }
   ],
   "source": [
    "df[(np.abs(stats.zscore(df)) < 3).all(axis=1)]"
   ]
  },
  {
   "cell_type": "code",
   "execution_count": null,
   "metadata": {},
   "outputs": [],
   "source": []
  }
 ],
 "metadata": {
  "kernelspec": {
   "display_name": "Python 3",
   "language": "python",
   "name": "python3"
  },
  "language_info": {
   "codemirror_mode": {
    "name": "ipython",
    "version": 3
   },
   "file_extension": ".py",
   "mimetype": "text/x-python",
   "name": "python",
   "nbconvert_exporter": "python",
   "pygments_lexer": "ipython3",
   "version": "3.7.4"
  }
 },
 "nbformat": 4,
 "nbformat_minor": 2
}
